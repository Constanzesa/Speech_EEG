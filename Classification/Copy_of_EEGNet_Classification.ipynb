{
 "cells": [
  {
   "cell_type": "code",
   "execution_count": 38,
   "metadata": {
    "id": "ctw6riH9bPp9"
   },
   "outputs": [
    {
     "name": "stdout",
     "output_type": "stream",
     "text": [
      "Requirement already satisfied: pytorch_lightning in /Users/arnavkapur/.pyenv/versions/3.10.12/lib/python3.10/site-packages (2.4.0)\n",
      "Requirement already satisfied: torch>=2.1.0 in /Users/arnavkapur/.pyenv/versions/3.10.12/lib/python3.10/site-packages (from pytorch_lightning) (2.2.2)\n",
      "Requirement already satisfied: tqdm>=4.57.0 in /Users/arnavkapur/.pyenv/versions/3.10.12/lib/python3.10/site-packages (from pytorch_lightning) (4.66.5)\n",
      "Requirement already satisfied: PyYAML>=5.4 in /Users/arnavkapur/.pyenv/versions/3.10.12/lib/python3.10/site-packages (from pytorch_lightning) (6.0.2)\n",
      "Requirement already satisfied: fsspec>=2022.5.0 in /Users/arnavkapur/.pyenv/versions/3.10.12/lib/python3.10/site-packages (from fsspec[http]>=2022.5.0->pytorch_lightning) (2024.6.1)\n",
      "Requirement already satisfied: torchmetrics>=0.7.0 in /Users/arnavkapur/.pyenv/versions/3.10.12/lib/python3.10/site-packages (from pytorch_lightning) (1.4.1)\n",
      "Requirement already satisfied: packaging>=20.0 in /Users/arnavkapur/.pyenv/versions/3.10.12/lib/python3.10/site-packages (from pytorch_lightning) (24.1)\n",
      "Requirement already satisfied: typing-extensions>=4.4.0 in /Users/arnavkapur/.pyenv/versions/3.10.12/lib/python3.10/site-packages (from pytorch_lightning) (4.12.2)\n",
      "Requirement already satisfied: lightning-utilities>=0.10.0 in /Users/arnavkapur/.pyenv/versions/3.10.12/lib/python3.10/site-packages (from pytorch_lightning) (0.11.7)\n",
      "Requirement already satisfied: aiohttp!=4.0.0a0,!=4.0.0a1 in /Users/arnavkapur/.pyenv/versions/3.10.12/lib/python3.10/site-packages (from fsspec[http]>=2022.5.0->pytorch_lightning) (3.10.5)\n",
      "Requirement already satisfied: setuptools in /Users/arnavkapur/.pyenv/versions/3.10.12/lib/python3.10/site-packages (from lightning-utilities>=0.10.0->pytorch_lightning) (65.5.0)\n",
      "Requirement already satisfied: filelock in /Users/arnavkapur/.pyenv/versions/3.10.12/lib/python3.10/site-packages (from torch>=2.1.0->pytorch_lightning) (3.15.4)\n",
      "Requirement already satisfied: sympy in /Users/arnavkapur/.pyenv/versions/3.10.12/lib/python3.10/site-packages (from torch>=2.1.0->pytorch_lightning) (1.13.2)\n",
      "Requirement already satisfied: networkx in /Users/arnavkapur/.pyenv/versions/3.10.12/lib/python3.10/site-packages (from torch>=2.1.0->pytorch_lightning) (3.3)\n",
      "Requirement already satisfied: jinja2 in /Users/arnavkapur/.pyenv/versions/3.10.12/lib/python3.10/site-packages (from torch>=2.1.0->pytorch_lightning) (3.1.4)\n",
      "Requirement already satisfied: numpy>1.20.0 in /Users/arnavkapur/.pyenv/versions/3.10.12/lib/python3.10/site-packages (from torchmetrics>=0.7.0->pytorch_lightning) (1.23.5)\n",
      "Requirement already satisfied: aiohappyeyeballs>=2.3.0 in /Users/arnavkapur/.pyenv/versions/3.10.12/lib/python3.10/site-packages (from aiohttp!=4.0.0a0,!=4.0.0a1->fsspec[http]>=2022.5.0->pytorch_lightning) (2.4.0)\n",
      "Requirement already satisfied: aiosignal>=1.1.2 in /Users/arnavkapur/.pyenv/versions/3.10.12/lib/python3.10/site-packages (from aiohttp!=4.0.0a0,!=4.0.0a1->fsspec[http]>=2022.5.0->pytorch_lightning) (1.3.1)\n",
      "Requirement already satisfied: attrs>=17.3.0 in /Users/arnavkapur/.pyenv/versions/3.10.12/lib/python3.10/site-packages (from aiohttp!=4.0.0a0,!=4.0.0a1->fsspec[http]>=2022.5.0->pytorch_lightning) (24.2.0)\n",
      "Requirement already satisfied: frozenlist>=1.1.1 in /Users/arnavkapur/.pyenv/versions/3.10.12/lib/python3.10/site-packages (from aiohttp!=4.0.0a0,!=4.0.0a1->fsspec[http]>=2022.5.0->pytorch_lightning) (1.4.1)\n",
      "Requirement already satisfied: multidict<7.0,>=4.5 in /Users/arnavkapur/.pyenv/versions/3.10.12/lib/python3.10/site-packages (from aiohttp!=4.0.0a0,!=4.0.0a1->fsspec[http]>=2022.5.0->pytorch_lightning) (6.0.5)\n",
      "Requirement already satisfied: yarl<2.0,>=1.0 in /Users/arnavkapur/.pyenv/versions/3.10.12/lib/python3.10/site-packages (from aiohttp!=4.0.0a0,!=4.0.0a1->fsspec[http]>=2022.5.0->pytorch_lightning) (1.9.8)\n",
      "Requirement already satisfied: async-timeout<5.0,>=4.0 in /Users/arnavkapur/.pyenv/versions/3.10.12/lib/python3.10/site-packages (from aiohttp!=4.0.0a0,!=4.0.0a1->fsspec[http]>=2022.5.0->pytorch_lightning) (4.0.3)\n",
      "Requirement already satisfied: MarkupSafe>=2.0 in /Users/arnavkapur/.pyenv/versions/3.10.12/lib/python3.10/site-packages (from jinja2->torch>=2.1.0->pytorch_lightning) (2.1.5)\n",
      "Requirement already satisfied: mpmath<1.4,>=1.1.0 in /Users/arnavkapur/.pyenv/versions/3.10.12/lib/python3.10/site-packages (from sympy->torch>=2.1.0->pytorch_lightning) (1.3.0)\n",
      "Requirement already satisfied: idna>=2.0 in /Users/arnavkapur/.pyenv/versions/3.10.12/lib/python3.10/site-packages (from yarl<2.0,>=1.0->aiohttp!=4.0.0a0,!=4.0.0a1->fsspec[http]>=2022.5.0->pytorch_lightning) (3.8)\n"
     ]
    }
   ],
   "source": [
    "!pip install pytorch_lightning"
   ]
  },
  {
   "cell_type": "code",
   "execution_count": 3,
   "metadata": {
    "id": "F4sZrSZxNxTB"
   },
   "outputs": [],
   "source": [
    "import numpy as np\n",
    "import pandas as pd\n",
    "import torch\n",
    "import matplotlib.pyplot as plt\n",
    "from sklearn.datasets import make_blobs\n",
    "from sklearn.model_selection import train_test_split"
   ]
  },
  {
   "cell_type": "code",
   "execution_count": 4,
   "metadata": {},
   "outputs": [],
   "source": [
    "device = \"cuda\" if torch.cuda.is_available() else \"cpu\""
   ]
  },
  {
   "cell_type": "code",
   "execution_count": 8,
   "metadata": {
    "id": "bIy8MGXIN6fm"
   },
   "outputs": [
    {
     "name": "stdout",
     "output_type": "stream",
     "text": [
      "(468, 64, 4096)\n",
      "(78,)\n"
     ]
    }
   ],
   "source": [
    "# from google.colab import drive\n",
    "# drive.mount('/content/drive')\n",
    "# data_path = '/Users/arnavkapur/Desktop/Analysis_Imagery/imagery2024/PREPROCESSED_DATA/S01/'\n",
    "\n",
    "# data = np.load(data_path + 'NOICA/P03_01.npy')\n",
    "# labels_path = '/Users/arnavkapur/Desktop/Analysis_Imagery/imagery2024/PREPROCESSED_DATA/S01/class_labels/'\n",
    "# # labels = np.load(labels_path + 'group_P03_01.npy')\n",
    "# data = np.load(\"/Users/arnavkapur/Desktop/Analysis_3DImagery/imagery2024/PREPROCESSED_DATA/Sven_Prp/eeg/eeg_P03_2D.npy\")\n",
    "# labels = np.load('/Users/arnavkapur/Desktop/Analysis_3DImagery/imagery2024/PREPROCESSED_DATA/Sven_Prp/group_label/group_P03_2D.npy')\n",
    "# data = np.transpose(data, (0, 2, 1))\n",
    "\n",
    "data = np.load(\"/Users/arnavkapur/Desktop/Analysis_3DImagery/imagery2024/PREPROCESSED_DATA/S01/eeg/P10_01.npy\")\n",
    "labels = np.load(\"/Users/arnavkapur/Desktop/Analysis_3DImagery/imagery2024/PREPROCESSED_DATA/2D/class_labels/group_P03_2D.npy\")\n",
    "\n",
    "print(data.shape)\n",
    "print(labels.shape)"
   ]
  },
  {
   "cell_type": "code",
   "execution_count": 6,
   "metadata": {},
   "outputs": [
    {
     "name": "stdout",
     "output_type": "stream",
     "text": [
      "torch.Size([468, 64, 4096])\n",
      "torch.Size([468])\n"
     ]
    }
   ],
   "source": [
    "# data = np.load(data, allow_pickle=True)  # Shape: (trials, channels, samples)\n",
    "# self.labels = np.load(labels, allow_pickle=True)  # Shape: (trials,)\n",
    "\n",
    "# Convert to PyTorch tensors\n",
    "data = torch.from_numpy(data).type(torch.float32).to(device)\n",
    "\n",
    "# self.data = torch.from_numpy(self.data.swapaxes(1, 2)).to(self.device)  # Swap axes to get (n_trials, channels, samples)\n",
    "labels = torch.from_numpy(labels).type(torch.LongTensor).to(device)  # Convert labels to long tensor\n",
    "labels = labels - 1  # Subtract 1 to make labels 0-indexed\n",
    "print(data.shape)  \n",
    "print(labels.shape)"
   ]
  },
  {
   "cell_type": "code",
   "execution_count": 6,
   "metadata": {},
   "outputs": [],
   "source": [
    "\"\"\"Save the data for test, val and train seperatley\"\"\"\n",
    "X_train, X_temp, y_train, y_temp = train_test_split(data, labels, test_size=0.2, random_state=42)\n",
    "X_val, X_test, y_val, y_test = train_test_split(X_temp, y_temp, test_size=0.5, random_state=42)\n",
    "\n",
    "# np.save(\"/Users/arnavkapur/Desktop/Analysis_3DImagery/imagery2024/Generation_2D/Segmented_data_2D/train/P03train\", X_train)\n",
    "# np.save(\"/Users/arnavkapur/Desktop/Analysis_3DImagery/imagery2024/Generation_2D/Segmented_data_2D/train/P03trainlabels\", y_val)\n",
    "# np.save(\"/Users/arnavkapur/Desktop/Analysis_3DImagery/imagery2024/Generation_2D/Segmented_data_2D/val/P03val\", X_val)\n",
    "# np.save(\"/Users/arnavkapur/Desktop/Analysis_3DImagery/imagery2024/Generation_2D/Segmented_data_2D/val/P03vallabels\", y_val)\n",
    "# np.save(\"/Users/arnavkapur/Desktop/Analysis_3DImagery/imagery2024/Generation_2D/Segmented_data_2D/test/P03test\", X_test)\n",
    "# np.save(\"/Users/arnavkapur/Desktop/Analysis_3DImagery/imagery2024/Generation_2D/Segmented_data_2D/test/P03testlabels\", y_test)\n"
   ]
  },
  {
   "cell_type": "code",
   "execution_count": 7,
   "metadata": {},
   "outputs": [
    {
     "name": "stdout",
     "output_type": "stream",
     "text": [
      "(62, 64, 15360)\n",
      "(62,)\n",
      "(8, 64, 15360)\n",
      "(8,)\n",
      "(8, 64, 15360)\n",
      "(8,)\n"
     ]
    }
   ],
   "source": [
    "print(X_train.shape)\n",
    "print(y_train.shape)    \n",
    "print(X_val.shape)  \n",
    "print(y_val.shape)\n",
    "print(X_test.shape)\n",
    "print(y_test.shape)"
   ]
  },
  {
   "cell_type": "markdown",
   "metadata": {
    "id": "8l2dODtKRi2t"
   },
   "source": [
    "## Prepare Data for Classifiation\n",
    "\n",
    "*   Try segmenting the data further into 1sec epochs\n",
    "*   Try overlapping window samples\n",
    "*   Implement Window Sliding\n",
    "\n",
    "\n",
    "EEGNet requires a Datatype of a 2D format, typically as (batch_size, 1, n_channels, n_timepoints):"
   ]
  },
  {
   "cell_type": "markdown",
   "metadata": {
    "id": "wzGCCsNrB6Lw"
   },
   "source": [
    "Segment epochs into 1s epochs from 8s : (3744,85,512)"
   ]
  },
  {
   "cell_type": "markdown",
   "metadata": {
    "id": "OB6uuhqUqXfj"
   },
   "source": [
    "## Implementing overlapping time windows with sliding window\n",
    "\n"
   ]
  },
  {
   "cell_type": "code",
   "execution_count": 86,
   "metadata": {},
   "outputs": [],
   "source": [
    "# \"\"\"Downsample the Data - as low pass fiter is already applied at 100Hz which is below the Nyquist freq., we dont have to worry about aliasing the data for the target freq. of 265 Hz \"\"\"\n",
    "\n",
    "# from scipy.signal import resample\n",
    "\n",
    "# # Resample the data from 512 Hz to 256 Hz\n",
    "# n_samples = data.shape[-1] // 2  # Divide the number of samples by 2 to downsample\n",
    "# downsampled_data = resample(data, n_samples, axis=-1)\n",
    "# print(downsampled_data.shape)\n",
    "# # data = downsampled_data"
   ]
  },
  {
   "cell_type": "code",
   "execution_count": 46,
   "metadata": {
    "id": "GRy5HuxGqXKM"
   },
   "outputs": [
    {
     "name": "stdout",
     "output_type": "stream",
     "text": [
      "Segmented data shape: (0, 15360, 430)\n",
      "Segmented labels shape: (0,)\n"
     ]
    }
   ],
   "source": [
    "import numpy as np\n",
    "\n",
    "def sliding_window_data(data, labels, fs, window_length, overlap):\n",
    "    \"\"\"\n",
    "    Segments data into epochs using a sliding window approach.\n",
    "\n",
    "    Parameters:\n",
    "    - data: np.array, shape (num_trials, num_channels, num_samples)\n",
    "    - labels: np.array, shape (num_trials,)\n",
    "    - fs: int, Sampling frequency (samples per second)\n",
    "    - window_length: float, Length of each window in seconds\n",
    "    - overlap: float, Overlap between consecutive windows (in range [0, 1])\n",
    "\n",
    "    Returns:\n",
    "    - segmented_data: np.array, shape (num_windows_total, num_channels, samples_per_window)\n",
    "    - segmented_labels: np.array, shape (num_windows_total,)\n",
    "    \"\"\"\n",
    "    samples_per_window = int(fs * window_length)  # Number of samples per window\n",
    "    step_size = int(samples_per_window * (1 - overlap))  # Step size based on overlap\n",
    "\n",
    "    num_trials, num_channels, num_samples = data.shape\n",
    "    num_windows_per_trial = (num_samples - samples_per_window) // step_size + 1\n",
    "    num_windows_total = num_trials * num_windows_per_trial\n",
    "\n",
    "    # Initialize arrays for segmented data and labels\n",
    "    segmented_data = np.zeros((num_windows_total, num_channels, samples_per_window))\n",
    "    segmented_labels = np.zeros(num_windows_total)\n",
    "\n",
    "    window_index = 0\n",
    "    for trial in range(num_trials):\n",
    "        for window in range(num_windows_per_trial):\n",
    "            start_sample = window * step_size\n",
    "            end_sample = start_sample + samples_per_window\n",
    "            segmented_data[window_index, :, :] = data[trial, :, start_sample:end_sample]\n",
    "            segmented_labels[window_index] = labels[trial]\n",
    "            window_index += 1\n",
    "\n",
    "    return segmented_data, segmented_labels\n",
    "\n",
    "segmented_data_overlap, segmented_labels_overlap = sliding_window_data(data, labels, fs=215, window_length=2, overlap=0)\n",
    "print(\"Segmented data shape:\", segmented_data_overlap.shape)\n",
    "print(\"Segmented labels shape:\", segmented_labels_overlap.shape)\n"
   ]
  },
  {
   "cell_type": "markdown",
   "metadata": {
    "id": "TJ5Vd7Rq4pLI"
   },
   "source": [
    "## EEGNet Model regular"
   ]
  },
  {
   "cell_type": "code",
   "execution_count": 47,
   "metadata": {
    "id": "oGEvzI8n4suL"
   },
   "outputs": [],
   "source": [
    "import numpy as np\n",
    "import torch\n",
    "from torch import nn\n",
    "from torch.nn.functional import elu\n",
    "import pytorch_lightning as pl\n",
    "\n",
    "\"\"\"\n",
    "Note: this code is taken from https://github.com/braindecode/braindecode/tree/master/braindecode\n",
    "which is the implemented EEGNet version from torcheeg.\n",
    "\n",
    "The model was adapted to be used with the pytorch lightning trainer.\n",
    "\n",
    "Notes:\n",
    "- 4D: n_trials, depth, n_channels, n_samples\n",
    "\"\"\"\n",
    "\n",
    "class EEGNetv4(nn.Module):\n",
    "    \"\"\"EEGNet v4 model from Lawhern et al 2018.\n",
    "\n",
    "    Parameters\n",
    "    ----------\n",
    "    in_chans : int\n",
    "\n",
    "    Notes\n",
    "    -----\n",
    "    This implementation is not guaranteed to be correct, has not been checked\n",
    "    by original authors, only reimplemented from the paper description.\n",
    "\n",
    "    References\n",
    "    ----------\n",
    "    .. [EEGNet4] Lawhern, V. J., Solon, A. J., Waytowich, N. R., Gordon,\n",
    "       S. M., Hung, C. P., & Lance, B. J. (2018).\n",
    "       EEGNet: A Compact Convolutional Network for EEG-based\n",
    "       Brain-Computer Interfaces.\n",
    "       arXiv preprint arXiv:1611.08024.\n",
    "    \"\"\"\n",
    "\n",
    "    def __init__(\n",
    "        self,\n",
    "        #General\n",
    "        lr = 1e-3,\n",
    "        one_cycle_lr = True,\n",
    "        weight_decay = 0.0,\n",
    "        epochs = 100,\n",
    "        in_chans = 64,\n",
    "        n_classes = 6,\n",
    "        final_conv_length=\"auto\",\n",
    "        input_window_samples=None,\n",
    "        #Convolutions and Pooling (depth of spatial conv = F2*D)\n",
    "        F1=64, # use 64 based on svens paper\n",
    "        D=2,\n",
    "        kernel_length=256, ## Filter length/kernel length in paper defined as 1/2 * sf\n",
    "        pool_mode=\"max\",\n",
    "        drop_prob=0.25,\n",
    "        momentum = 0.01,\n",
    "        **kwargs\n",
    "    ):\n",
    "        super().__init__()\n",
    "        if final_conv_length == \"auto\":\n",
    "            assert input_window_samples is not None\n",
    "        self.in_chans = in_chans\n",
    "        self.n_classes = n_classes\n",
    "        self.input_window_samples = input_window_samples\n",
    "        self.final_conv_length = final_conv_length\n",
    "        self.pool_mode = pool_mode\n",
    "        self.F1 = F1\n",
    "        self.D = D\n",
    "        self.F2 = D*F1\n",
    "        self.kernel_length = kernel_length\n",
    "        self.drop_prob = drop_prob\n",
    "        self.momentum = momentum\n",
    "        self.one_cycle_lr = one_cycle_lr\n",
    "        self.lr = lr\n",
    "        self.weight_decay = weight_decay\n",
    "        pool_class = dict(max=nn.MaxPool2d, mean=nn.AvgPool2d)[self.pool_mode]\n",
    "        self.loss = nn.NLLLoss() #EEGNet uses a log softmax layer. Therefore, using a NLLLoss() equates to CrossEntropyLoss()\n",
    "        self.epochs = epochs\n",
    "\n",
    "        self.ensuredims = Ensure4d() # from [b c t] to [b c t 1]\n",
    "        self.dimshuffle = Expression(_transpose_to_b_1_c_0) # from [b c t 1] to [b 1 c t] --> first conv over temporal dim with kernel_length\n",
    "        self.conv_temporal = nn.Conv2d(\n",
    "            in_channels = 1,\n",
    "            out_channels = self.F1,\n",
    "            kernel_size = (1, self.kernel_length),\n",
    "            stride = 1,\n",
    "            bias = False,\n",
    "            padding = (0, self.kernel_length // 2),\n",
    "            )\n",
    "        self.bnorm_temporal = nn.BatchNorm2d(self.F1, momentum=0.01, affine=True, eps=1e-3)\n",
    "        self.conv_spatial = Conv2dWithConstraint(\n",
    "            self.F1,\n",
    "            self.F1 * self.D,\n",
    "            (self.in_chans, 1),\n",
    "            max_norm=1,\n",
    "            stride=1,\n",
    "            bias=False,\n",
    "            groups=self.F1,\n",
    "            padding=(0, 0),\n",
    "            )\n",
    "        self.bnorm_1 = nn.BatchNorm2d(self.F1 * self.D, momentum=self.momentum, affine=True, eps=1e-3)\n",
    "        self.elu_1 = Expression(elu)   ##CHANGE\n",
    "        self.pool_1 = pool_class(kernel_size=(1, 4), stride=(1, 4))\n",
    "        self.drop_1 = nn.Dropout(p=self.drop_prob)\n",
    "        self.conv_separable_depth = nn.Conv2d(\n",
    "            self.F1 * self.D,\n",
    "            self.F1 * self.D,\n",
    "            (1, 32), ## 16 to 32\n",
    "            stride=1,\n",
    "            bias=False,\n",
    "            groups=self.F1 * self.D,\n",
    "            padding=(0, 32 // 2), ## 16 to 32\n",
    "            )\n",
    "        self.conv_separable_point = nn.Conv2d(\n",
    "            self.F1 * self.D,\n",
    "            self.F2,\n",
    "            (1, 1),\n",
    "            stride=1,\n",
    "            bias=False,\n",
    "            padding=(0, 0),\n",
    "            )\n",
    "        self.bnorm_2 = nn.BatchNorm2d(self.F2, momentum=self.momentum, affine=True, eps=1e-3)\n",
    "        self.elu_2 = Expression(elu)  ##CHANGE\n",
    "        self.pool_2 = pool_class(kernel_size=(1, 8), stride=(1, 8))\n",
    "        self.drop_2 = nn.Dropout(p=self.drop_prob)\n",
    "\n",
    "        #The following tests the output dimensions to pass the right dimensions to the classifier head\n",
    "        out = self.partial_forward(\n",
    "                torch.ones(\n",
    "                (1, self.in_chans, self.input_window_samples, 1),\n",
    "                dtype=torch.float32\n",
    "                )\n",
    "            )\n",
    "        n_out_virtual_chans = out.cpu().data.numpy().shape[2]\n",
    "        if self.final_conv_length == \"auto\":\n",
    "            n_out_time = out.cpu().data.numpy().shape[3]\n",
    "            self.final_conv_length = n_out_time\n",
    "        self.conv_classifier = nn.Conv2d(\n",
    "            self.F2,\n",
    "            self.n_classes,\n",
    "            (n_out_virtual_chans, self.final_conv_length),\n",
    "            bias=True,\n",
    "            )\n",
    "        self.softmax = nn.LogSoftmax(dim=1)\n",
    "        # Transpose time back in third dimension (axis=2)\n",
    "        self.permute_back = Expression(_transpose_1_0)\n",
    "        self.squeeze = Expression(squeeze_final_output)\n",
    "        _glorot_weight_zero_bias(self) #Initialize weights\n",
    "\n",
    "    def partial_forward(self, x): #for a sample of [1 8 500] and kernel_size=128\n",
    "        #Used to initially determine the input dimensions to the classifier head\n",
    "        x = self.ensuredims(x) # [1 8 500 1]\n",
    "        x = self.dimshuffle(x) # [1 1 8 500]\n",
    "        x = self.conv_temporal(x) # [1 8 8 501]\n",
    "        x = self.bnorm_temporal(x) # [1 8 8 501]\n",
    "        x = self.elu_1(x) # [1 8 8 501]\n",
    "        x = self.conv_spatial(x) # [1 16 1 501]\n",
    "        x = self.bnorm_1(x) # [1 16 1 501]\n",
    "        x = self.elu_1(x) # [1 16 1 501] \n",
    "        x = self.pool_1(x) # [1 16 1 125]\n",
    "        x = self.drop_1(x) # [1 16 1 125]\n",
    "        x = self.conv_separable_depth(x) # [1 16 1 126]\n",
    "        x = self.conv_separable_point(x) # [1 16 1 126]\n",
    "        x = self.bnorm_2(x) # [1 16 1 126]\n",
    "        x = self.elu_2(x) # [1 16 1 126]\n",
    "        x = self.pool_2(x) # [1 16 1 15]\n",
    "        x = self.drop_2(x) # [1 16 1 15]\n",
    "        return x\n",
    "\n",
    "    def forward(self, x):\n",
    "        x = self.partial_forward(x) # [1 16 1 15] #outputs bs x F2 x 1 x 15 (128*15)\n",
    "        x = self.conv_classifier(x) # [1 20 1 1]\n",
    "        x = self.softmax(x) # [1 20 1 1]\n",
    "        x = self.permute_back(x) # [1 20 1 1]\n",
    "        x = self.squeeze(x) # [1 20]\n",
    "        return x\n",
    "\n",
    "    # def configure_optimizers(self):\n",
    "    #     optimizer = torch.optim.Adam(self.parameters(), lr=self.lr, weight_decay = self.weight_decay)\n",
    "    #     return optimizer\n",
    "    \n",
    "    def configure_optimizers(self):\n",
    "        optimizer = torch.optim.Adam(params = self.parameters(), lr = self.lr, weight_decay = self.weight_decay)\n",
    "        if self.one_cycle_lr:\n",
    "            one_cycle = torch.optim.lr_scheduler.OneCycleLR(\n",
    "                    optimizer = optimizer,\n",
    "                    max_lr = self.lr,\n",
    "                    total_steps = len(self.trainer.datamodule.train_dataloader()) * self.epochs,\n",
    "                    # epochs = self.epochs, ## CHANGE thsi\n",
    "                    # steps_per_epoch = self.trainer.estimated_stepping_batches // self.epochs, #CHANGE this\n",
    "                    cycle_momentum = True\n",
    "                    )\n",
    "            # ##CHANGE\n",
    "            # fine_tuning = torch.optim.lr_scheduler.ReduceLROnPlateau(\n",
    "            #     self.optimizer,\n",
    "            #     mode = \"min\",\n",
    "            #     factor = 0.5, #factor by which lr will be reduced\n",
    "            #     patience = 4 #num epochs with no improvement after which lr will be reduced\n",
    "            # )\n",
    "            # fine_tuning = torch.optim.lr_scheduler.ConstantLR(\n",
    "            #     self.optimizer,\n",
    "            #     factor = 0.8 #factor by which lr will be reduced\n",
    "            #     )\n",
    "            # self.scheduler = torch.optim.lr_scheduler.SequentialLR(\n",
    "            #     optimizer = self.optimizer,\n",
    "            #     schedulers=[one_cycle, fine_tuning],\n",
    "            #     milestones = [len(self.trainer.datamodule.train_dataloader()) * 60] #For 60 epochs\n",
    "            #     )\n",
    "\n",
    "            lr_scheduler = {\n",
    "                \"scheduler\": one_cycle, #lr\n",
    "                \"interval\": \"step\",\n",
    "                \"name\": \"Learning Rate Scheduling\"\n",
    "            }\n",
    "            return [optimizer], [lr_scheduler]\n",
    "        else:\n",
    "            return [optimizer]\n",
    "\n",
    "#Helper functions and classes\n",
    "def _transpose_to_b_1_c_0(x):\n",
    "    return x.permute(0, 3, 1, 2)\n",
    "\n",
    "def _transpose_1_0(x):\n",
    "    return x.permute(0, 1, 3, 2)\n",
    "\n",
    "def _glorot_weight_zero_bias(model):\n",
    "    \"\"\"Initalize parameters of all modules by initializing weights with\n",
    "    glorot\n",
    "     uniform/xavier initialization, and setting biases to zero. Weights from\n",
    "     batch norm layers are set to 1.\n",
    "\n",
    "    Parameters\n",
    "    ----------\n",
    "    model: Module\n",
    "    \"\"\"\n",
    "    for module in model.modules():\n",
    "        if hasattr(module, \"weight\") and not \"NLLLoss\" in module.__class__.__name__:\n",
    "            if not (\"BatchNorm\" in module.__class__.__name__):\n",
    "                nn.init.xavier_uniform_(module.weight, gain=1)\n",
    "            else:\n",
    "                nn.init.constant_(module.weight, 1)\n",
    "        if hasattr(module, \"bias\"):\n",
    "            if module.bias is not None:\n",
    "                nn.init.constant_(module.bias, 0)\n",
    "\n",
    "def squeeze_final_output(x):\n",
    "    \"\"\"Removes empty dimension at end and potentially removes empty time\n",
    "     dimension. It does  not just use squeeze as we never want to remove\n",
    "     first dimension.\n",
    "\n",
    "    Returns\n",
    "    -------\n",
    "    x: torch.Tensor\n",
    "        squeezed tensor\n",
    "    \"\"\"\n",
    "    assert x.size()[3] == 1\n",
    "    x = x[:, :, :, 0]\n",
    "    if x.size()[2] == 1:\n",
    "        x = x[:, :, 0]\n",
    "    return x\n",
    "\n",
    "class Conv2dWithConstraint(nn.Conv2d):\n",
    "    \"\"\"Conv2d with weight constraint.\"\"\"\n",
    "    def __init__(self, *args, max_norm=1, **kwargs):\n",
    "        self.max_norm = max_norm\n",
    "        super(Conv2dWithConstraint, self).__init__(*args, **kwargs)\n",
    "\n",
    "    def forward(self, x):\n",
    "        self.weight.data = torch.renorm(self.weight.data, p=2, dim=0, maxnorm=self.max_norm)\n",
    "        return super(Conv2dWithConstraint, self).forward(x)\n",
    "\n",
    "class Expression(nn.Module):\n",
    "    \"\"\"Compute given expression on forward pass.\n",
    "\n",
    "    Parameters\n",
    "    ----------\n",
    "    expression_fn : callable\n",
    "        Should accept variable number of objects of type\n",
    "        `torch.autograd.Variable` to compute its output.\n",
    "    \"\"\"\n",
    "\n",
    "    def __init__(self, expression_fn):\n",
    "        super(Expression, self).__init__()\n",
    "        self.expression_fn = expression_fn\n",
    "\n",
    "    def forward(self, *x):\n",
    "        return self.expression_fn(*x)\n",
    "\n",
    "    def __repr__(self):\n",
    "        if hasattr(self.expression_fn, \"func\") and hasattr(\n",
    "            self.expression_fn, \"kwargs\"\n",
    "        ):\n",
    "            expression_str = \"{:s} {:s}\".format(\n",
    "                self.expression_fn.func.__name__, str(self.expression_fn.kwargs)\n",
    "            )\n",
    "        elif hasattr(self.expression_fn, \"__name__\"):\n",
    "            expression_str = self.expression_fn.__name__\n",
    "        else:\n",
    "            expression_str = repr(self.expression_fn)\n",
    "        return (\n",
    "            self.__class__.__name__ +\n",
    "            \"(expression=%s) \" % expression_str\n",
    "        )\n",
    "\n",
    "class Ensure4d(nn.Module):\n",
    "    def forward(self, x):\n",
    "        while len(x.shape) < 4:\n",
    "            x = x.unsqueeze(-1)\n",
    "        return x"
   ]
  },
  {
   "cell_type": "code",
   "execution_count": 10,
   "metadata": {
    "id": "rNKFEaXq5a5F"
   },
   "outputs": [],
   "source": [
    "\n",
    "# # This code is used for the EEG ChannelNet and is based on code from the following source:\n",
    "# # Title: EEG Visual Classification\n",
    "# # Author: PerceiveLab\n",
    "# # URL: https://github.com/perceivelab/eeg_visual_classification/blob/main/models/EEGChannelNet.py\n",
    "# # Date Accessed: 23.07.2023\n",
    "# # This is the model presented in the work: S. Palazzo, C. Spampinato, I. Kavasidis, D. Giordano, J. Schmidt, M. Shah, Decoding Brain Representations by\n",
    "# # Multimodal Learning of Neural Activity and Visual Features,  IEEE TRANSACTIONS ON PATTERN ANALYSIS AND MACHINE INTELLIGENCE, 2020, doi: 10.1109/TPAMI.2020.2995909\n",
    "# # Note the model is adapted to work with the general pipeline used in this study (pytorch lightning and wandb for logging, and reduction of input channels)\n",
    "# # Additionally the optimizer was integrated into the model with the default values found in the authors' respository\n",
    "\n",
    "# from typing import Any\n",
    "# import torch\n",
    "# import torch.nn as nn\n",
    "\n",
    "\n",
    "# class FeaturesExtractor(nn.Module):\n",
    "#     def __init__(self, in_channels, temp_channels, out_channels, input_width, in_height,\n",
    "#                  temporal_kernel, temporal_stride, temporal_dilation_list, num_temporal_layers,\n",
    "#                  num_spatial_layers, spatial_stride, num_residual_blocks, down_kernel, down_stride,\n",
    "#                  dropout):\n",
    "#         super().__init__()\n",
    "\n",
    "#         self.temporal_block = TemporalBlock(\n",
    "#             in_channels, temp_channels, num_temporal_layers, temporal_kernel, temporal_stride, temporal_dilation_list, input_width, dropout\n",
    "#         )\n",
    "\n",
    "#         self.spatial_block = SpatialBlock(\n",
    "#             temp_channels * num_temporal_layers, out_channels, num_spatial_layers, spatial_stride, in_height, dropout\n",
    "#         )\n",
    "\n",
    "#         self.res_blocks = nn.ModuleList([\n",
    "#             nn.Sequential(\n",
    "#                 ResidualBlock(\n",
    "#                     out_channels * num_spatial_layers, out_channels * num_spatial_layers\n",
    "#                 ),\n",
    "#                 ConvLayer2D(\n",
    "#                     out_channels * num_spatial_layers, out_channels * num_spatial_layers, down_kernel, down_stride, 0, 1, dropout\n",
    "#                 )\n",
    "#             ) for i in range(num_residual_blocks)\n",
    "#         ])\n",
    "\n",
    "#         self.final_conv = ConvLayer2D(\n",
    "#             out_channels * num_spatial_layers, out_channels, down_kernel, 1, 0, 1, dropout\n",
    "#         )\n",
    "\n",
    "#     def forward(self, x):\n",
    "#         out = self.temporal_block(x) #1x40x8x250\n",
    "#         out = self.spatial_block(out) #1x150x4x250\n",
    "#         if len(self.res_blocks) > 0:\n",
    "#             for res_block in self.res_blocks:\n",
    "#                 out = res_block(out)\n",
    "#         out = self.final_conv(out)\n",
    "#         return out\n",
    "\n",
    "# class ChannelNet(base_model):\n",
    "#     '''The model for EEG classification.\n",
    "#     The input is a tensor where each row is a channel the recorded signal and each colums is a time sample.\n",
    "#     The model performs different 2D to extract temporal e spatial information.\n",
    "#     The output is a vector of classes where the maximum value is the predicted class.\n",
    "#     Args:\n",
    "#         in_channels: number of input channels\n",
    "#         temp_channels: number of features of temporal block\n",
    "#         out_channels: number of features before classification\n",
    "#         num_classes: number possible classes\n",
    "#         embedding_size: size of the embedding vector\n",
    "#         input_width: width of the input tensor (necessary to compute classifier input size)\n",
    "#         input_height: height of the input tensor (necessary to compute classifier input size)\n",
    "#         temporal_dilation_list: list of dilations for temporal convolutions, second term must be even\n",
    "#         temporal_kernel: size of the temporal kernel, second term must be even (default: (1, 32))\n",
    "#         temporal_stride: size of the temporal stride, control temporal output size (default: (1, 2))\n",
    "#         num_temp_layers: number of temporal block layers\n",
    "#         num_spatial_layers: number of spatial layers\n",
    "#         spatial_stride: size of the spatial stride\n",
    "#         num_residual_blocks: the number of residual blocks\n",
    "#         down_kernel: size of the bottleneck kernel\n",
    "#         down_stride: size of the bottleneck stride\n",
    "#         '''\n",
    "#     def __init__(self, in_channels=1, temp_channels=10, out_channels=50, num_classes=20, embedding_size=1000,\n",
    "#                  input_width=500, input_height=8, temporal_dilation_list=[(1,1),(1,2),(1,4),(1,8),(1,16)],\n",
    "#                  temporal_kernel=(1,33), temporal_stride=(1,2),num_temp_layers=4,num_spatial_layers=4,\n",
    "#                  spatial_stride=(2,1), num_residual_blocks=2, down_kernel=(1,3), down_stride=2,\n",
    "#                  dropout = 0.5, lr = 0.001, one_cycle_lr = False, epochs = 100, **kwargs):\n",
    "#         super().__init__()\n",
    "#         self.lr = lr\n",
    "#         self.one_cycle_lr = one_cycle_lr\n",
    "#         self.epochs = epochs\n",
    "#         self.encoder = FeaturesExtractor(in_channels, temp_channels, out_channels, input_width, input_height,\n",
    "#                                      temporal_kernel, temporal_stride,temporal_dilation_list, num_temp_layers,\n",
    "#                                      num_spatial_layers, spatial_stride, num_residual_blocks, down_kernel, down_stride,\n",
    "#                                      dropout\n",
    "#                                      )\n",
    "\n",
    "#         encoding_size = self.encoder(torch.zeros(1, in_channels, input_height, input_width)).contiguous().view(-1).size()[0]\n",
    "\n",
    "#         self.classifier = nn.Sequential(\n",
    "#             nn.Linear(encoding_size, num_classes),\n",
    "#             # nn.ReLU(True),\n",
    "#             # nn.Linear(embedding_size, num_classes),\n",
    "#         )\n",
    "\n",
    "#     def forward(self, x):\n",
    "#         out = self.encoder(x.unsqueeze(1))\n",
    "#         out = out.view(x.size(0), -1) #bsx50x3x59 -> bsx8850\n",
    "#         out = self.classifier(out) #bsx8850 -> bsx1000 -> bsx20\n",
    "#         return out\n",
    "\n",
    "#     def configure_optimizers(self):\n",
    "#         optimizer = torch.optim.Adam(params = self.parameters(), lr = self.lr)#, weight_decay = self.weight_decay)\n",
    "#         if self.one_cycle_lr:\n",
    "#             lr = torch.optim.lr_scheduler.OneCycleLR(\n",
    "#                 optimizer = optimizer,\n",
    "#                 max_lr = self.lr,\n",
    "#                 total_steps = len(self.trainer.datamodule.train_dataloader()) * self.epochs,\n",
    "#                 # epochs = self.epochs,\n",
    "#                 # steps_per_epoch = self.trainer.estimated_stepping_batches // self.epochs,\n",
    "#                 cycle_momentum = True\n",
    "#                 )\n",
    "\n",
    "#             lr_scheduler = {\n",
    "#                 \"scheduler\": lr,\n",
    "#                 \"interval\": \"step\",\n",
    "#                 \"name\": \"Learning Rate Scheduling\"\n",
    "#             }\n",
    "#             return [optimizer], [lr_scheduler]\n",
    "#         else:\n",
    "#             return [optimizer]\n"
   ]
  },
  {
   "cell_type": "markdown",
   "metadata": {
    "id": "gZ5lB9nT0fh6"
   },
   "source": [
    "# Hyperparameter Check with Weights and Biases\n",
    "\n",
    "\n"
   ]
  },
  {
   "cell_type": "code",
   "execution_count": 48,
   "metadata": {
    "id": "fCNKLyr-DmOF"
   },
   "outputs": [
    {
     "name": "stdout",
     "output_type": "stream",
     "text": [
      "Requirement already satisfied: wandb in /Users/arnavkapur/.pyenv/versions/3.10.12/lib/python3.10/site-packages (0.17.8)\n",
      "Requirement already satisfied: click!=8.0.0,>=7.1 in /Users/arnavkapur/.pyenv/versions/3.10.12/lib/python3.10/site-packages (from wandb) (8.1.7)\n",
      "Requirement already satisfied: docker-pycreds>=0.4.0 in /Users/arnavkapur/.pyenv/versions/3.10.12/lib/python3.10/site-packages (from wandb) (0.4.0)\n",
      "Requirement already satisfied: gitpython!=3.1.29,>=1.0.0 in /Users/arnavkapur/.pyenv/versions/3.10.12/lib/python3.10/site-packages (from wandb) (3.1.43)\n",
      "Requirement already satisfied: platformdirs in /Users/arnavkapur/.pyenv/versions/3.10.12/lib/python3.10/site-packages (from wandb) (4.2.2)\n",
      "Requirement already satisfied: protobuf!=4.21.0,<6,>=3.19.0 in /Users/arnavkapur/.pyenv/versions/3.10.12/lib/python3.10/site-packages (from wandb) (4.25.4)\n",
      "Requirement already satisfied: psutil>=5.0.0 in /Users/arnavkapur/.pyenv/versions/3.10.12/lib/python3.10/site-packages (from wandb) (6.0.0)\n",
      "Requirement already satisfied: pyyaml in /Users/arnavkapur/.pyenv/versions/3.10.12/lib/python3.10/site-packages (from wandb) (6.0.2)\n",
      "Requirement already satisfied: requests<3,>=2.0.0 in /Users/arnavkapur/.pyenv/versions/3.10.12/lib/python3.10/site-packages (from wandb) (2.32.3)\n",
      "Requirement already satisfied: sentry-sdk>=1.0.0 in /Users/arnavkapur/.pyenv/versions/3.10.12/lib/python3.10/site-packages (from wandb) (2.13.0)\n",
      "Requirement already satisfied: setproctitle in /Users/arnavkapur/.pyenv/versions/3.10.12/lib/python3.10/site-packages (from wandb) (1.3.3)\n",
      "Requirement already satisfied: setuptools in /Users/arnavkapur/.pyenv/versions/3.10.12/lib/python3.10/site-packages (from wandb) (65.5.0)\n",
      "Requirement already satisfied: six>=1.4.0 in /Users/arnavkapur/.pyenv/versions/3.10.12/lib/python3.10/site-packages (from docker-pycreds>=0.4.0->wandb) (1.16.0)\n",
      "Requirement already satisfied: gitdb<5,>=4.0.1 in /Users/arnavkapur/.pyenv/versions/3.10.12/lib/python3.10/site-packages (from gitpython!=3.1.29,>=1.0.0->wandb) (4.0.11)\n",
      "Requirement already satisfied: charset-normalizer<4,>=2 in /Users/arnavkapur/.pyenv/versions/3.10.12/lib/python3.10/site-packages (from requests<3,>=2.0.0->wandb) (3.3.2)\n",
      "Requirement already satisfied: idna<4,>=2.5 in /Users/arnavkapur/.pyenv/versions/3.10.12/lib/python3.10/site-packages (from requests<3,>=2.0.0->wandb) (3.8)\n",
      "Requirement already satisfied: urllib3<3,>=1.21.1 in /Users/arnavkapur/.pyenv/versions/3.10.12/lib/python3.10/site-packages (from requests<3,>=2.0.0->wandb) (2.2.2)\n",
      "Requirement already satisfied: certifi>=2017.4.17 in /Users/arnavkapur/.pyenv/versions/3.10.12/lib/python3.10/site-packages (from requests<3,>=2.0.0->wandb) (2024.8.30)\n",
      "Requirement already satisfied: smmap<6,>=3.0.1 in /Users/arnavkapur/.pyenv/versions/3.10.12/lib/python3.10/site-packages (from gitdb<5,>=4.0.1->gitpython!=3.1.29,>=1.0.0->wandb) (5.0.1)\n",
      "Requirement already satisfied: onnx in /Users/arnavkapur/.pyenv/versions/3.10.12/lib/python3.10/site-packages (1.16.2)\n",
      "Requirement already satisfied: numpy>=1.20 in /Users/arnavkapur/.pyenv/versions/3.10.12/lib/python3.10/site-packages (from onnx) (1.23.5)\n",
      "Requirement already satisfied: protobuf>=3.20.2 in /Users/arnavkapur/.pyenv/versions/3.10.12/lib/python3.10/site-packages (from onnx) (4.25.4)\n"
     ]
    },
    {
     "data": {
      "text/plain": [
       "True"
      ]
     },
     "execution_count": 48,
     "metadata": {},
     "output_type": "execute_result"
    }
   ],
   "source": [
    "!pip install wandb\n",
    "!pip install onnx\n",
    "import onnx\n",
    "import os\n",
    "import wandb\n",
    "\n",
    "os.environ['WANDB_API_KEY'] = 'e1d04737bfba884150d852595cab76060de2a6e5'\n",
    "os.environ['WANDB_NOTEBOOK_NAME']= \"Copy_of_EEGNet_Classification.ipynb\"\n",
    "\n",
    "# Manually set  API key or use another method as shown above\n",
    "# api_key = \"e1d04737bfba884150d852595cab76060de2a6e5\"\n",
    "# wandb.login(key=api_key)\n",
    "\n",
    "wandb.login()"
   ]
  },
  {
   "cell_type": "code",
   "execution_count": 12,
   "metadata": {
    "id": "ZoAhee2MNvZ0"
   },
   "outputs": [
    {
     "name": "stdout",
     "output_type": "stream",
     "text": [
      "Create sweep with ID: otgw413p\n",
      "Sweep URL: https://wandb.ai/constanzealbrecht-eth-z-rich/eeg-classification/sweeps/otgw413p\n"
     ]
    }
   ],
   "source": [
    "sweep_config = dict(\n",
    "    method='random',\n",
    "    parameters=dict(\n",
    "        epochs=dict(values=[100]),\n",
    "        batch_size = dict(values=[32]),\n",
    "        drop_prob=dict(values=[0.25]), # 0.5 increase for overfitting\n",
    "        pool_mode=dict(values=['max']), # mean\n",
    "        lr=dict(distribution='log_uniform_values', min=0.0001, max=0.1),\n",
    "        weight_decay = dict(values=[0.000]),\n",
    "        # window_length = dict(values=[1,2,4,8]),\n",
    "        # overlap = dict(values=[0.1,0.2,0.5]),\n",
    "        F1=dict(values=[64]),\n",
    "        D=dict(values=[2])\n",
    "    )\n",
    ")\n",
    "sweep_id = wandb.sweep(sweep_config, project=\"eeg-classification\")\n"
   ]
  },
  {
   "cell_type": "code",
   "execution_count": 26,
   "metadata": {
    "id": "uBEBtM7ooU22"
   },
   "outputs": [],
   "source": [
    " # Calculate accuracy (a classification metric)\n",
    "def accuracy_fn(y_true, y_pred):\n",
    "    # y_true = y_true.view(-1) # Flatten y_true if it's not already 1D\n",
    "    # y_pred = y_pred.view(-1) # Flatten y_pred if it's not already 1D\n",
    "    correct = torch.eq(y_true, y_pred).sum().item() # torch.eq() calculates where two tensors are equal\n",
    "    acc = (correct / len(y_pred)) * 100\n",
    "    return acc"
   ]
  },
  {
   "cell_type": "markdown",
   "metadata": {
    "id": "iJEvLJ_-YPsu"
   },
   "source": [
    "## Hyperparameter Optimization with Validation Set"
   ]
  },
  {
   "cell_type": "code",
   "execution_count": 27,
   "metadata": {},
   "outputs": [
    {
     "data": {
      "text/plain": [
       "(78, 15360, 64)"
      ]
     },
     "execution_count": 27,
     "metadata": {},
     "output_type": "execute_result"
    }
   ],
   "source": [
    "data.shape"
   ]
  },
  {
   "cell_type": "code",
   "execution_count": 33,
   "metadata": {
    "id": "qASvjtohYYO0"
   },
   "outputs": [],
   "source": [
    "from sklearn.model_selection import train_test_split\n",
    "import torch\n",
    "from scipy.signal import resample\n",
    "from torch.utils.data import Dataset, DataLoader\n",
    "from tqdm.auto import tqdm\n",
    "import argparse\n",
    "\n",
    "def make(config):\n",
    "    # n_samples = data.shape[-1] // 2  # Divide the number of samples by 2 to downsample to 256 Hz \n",
    "    # downsampled_data = resample(data, n_samples, axis=-1)\n",
    "    # print(downsampled_data.shape)\n",
    "    # data = downsampled_data\n",
    "    data = np.load(\"/Users/arnavkapur/Desktop/Analysis_3DImagery/imagery2024/PREPROCESSED_DATA/Sven_Prp/eeg/eeg_P03_2D.npy\")\n",
    "    print(data.shape)\n",
    "    labels = np.load(\"/Users/arnavkapur/Desktop/Analysis_3DImagery/imagery2024/PREPROCESSED_DATA/Sven_Prp/group_label/group_P03_2D.npy\")\n",
    "    print(labels.shape)\n",
    "\n",
    "    fs = 512\n",
    "    window_length =2 #config[\"window_length\"]\n",
    "    overlap = 0 #config[\"overlap\"]\n",
    "\n",
    "    # for segments of data\n",
    "    X_train, X_temp, y_train, y_temp = train_test_split(data, labels, test_size=0.2, random_state=42)\n",
    "    X_val, X_test, y_val, y_test = train_test_split(X_temp, y_temp, test_size=0.5, random_state=42)\n",
    "\n",
    "    X_train,y_train = sliding_window_data(X_train, y_train, fs=fs, window_length=window_length, overlap=overlap)\n",
    "    X_val,y_val = sliding_window_data(X_val, y_val, fs=fs, window_length=window_length, overlap=overlap)\n",
    "    X_test,y_test = sliding_window_data(X_test, y_test, fs=fs, window_length=window_length, overlap=overlap)\n",
    "\n",
    "\n",
    "    X_train = torch.from_numpy(X_train).type(torch.float).unsqueeze(1)\n",
    "    X_val = torch.from_numpy(X_val).type(torch.float).unsqueeze(1)\n",
    "    X_test = torch.from_numpy(X_test).type(torch.float).unsqueeze(1)\n",
    "    y_train = torch.from_numpy(y_train-1).type(torch.LongTensor)\n",
    "    y_val = torch.from_numpy(y_val-1).type(torch.LongTensor)\n",
    "    y_test = torch.from_numpy(y_test-1).type(torch.LongTensor)\n",
    "\n",
    "\n",
    "\n",
    "    ## Make Data\n",
    "    # X_data = torch.from_numpy(data).type(torch.float)\n",
    "    # X_data = X_data.unsqueeze(1)\n",
    "    # y_labels = torch.from_numpy(labels-1).type(torch.LongTensor)\n",
    "\n",
    "\n",
    "    # # Split into training and remaining (test + validation)\n",
    "    # X_train, X_temp, y_train, y_temp = train_test_split(X_data, y_labels, test_size=0.3, random_state=42)\n",
    "    # X_val, X_test, y_val, y_test = train_test_split(X_temp, y_temp, test_size=0.5, random_state=42)\n",
    "\n",
    "    X_train = X_train.permute(0,2,3,1)\n",
    "    X_val = X_val.permute(0,2,3,1)\n",
    "    X_test = X_test.permute(0,2,3,1)\n",
    "\n",
    "    class EEGDataloader(Dataset):\n",
    "        def __init__(self, X, y):\n",
    "            self.X = X\n",
    "            self.y = y\n",
    "\n",
    "        def __len__(self):\n",
    "            return len(self.X)\n",
    "\n",
    "        def __getitem__(self, idx):\n",
    "            return self.X[idx], self.y[idx]\n",
    "\n",
    "    train_dataset = EEGDataloader(X_train, y_train)\n",
    "    val_dataset = EEGDataloader(X_val, y_val)\n",
    "    test_dataset = EEGDataloader(X_test, y_test)\n",
    "\n",
    "    train_dataloader = DataLoader(train_dataset, batch_size=config[\"batch_size\"], shuffle=True)\n",
    "    val_dataloader = DataLoader(val_dataset, batch_size=config[\"batch_size\"], shuffle=False)\n",
    "    test_dataloader = DataLoader(test_dataset, batch_size=config[\"batch_size\"], shuffle=False)\n",
    "\n",
    "    model = EEGNetv4(\n",
    "        in_chans=64,  # Adjust if necessary\n",
    "        n_classes=6,\n",
    "        input_window_samples=fs*window_length,\n",
    "        lr=config.lr,\n",
    "        epochs=config[\"epochs\"],\n",
    "        weight_decay=config[\"weight_decay\"],\n",
    "        drop_prob=config[\"drop_prob\"],\n",
    "        pool_mode=config[\"pool_mode\"],\n",
    "        one_cycle_lr=True\n",
    "    ).to(device)\n",
    "\n",
    "    loss_fn = nn.CrossEntropyLoss()\n",
    "    optimizer = torch.optim.Adam(model.parameters(), lr=config[\"lr\"])\n",
    "\n",
    "    return train_dataloader, val_dataloader, test_dataloader, model, loss_fn, optimizer\n"
   ]
  },
  {
   "cell_type": "code",
   "execution_count": 34,
   "metadata": {
    "id": "qGYnA-cYYjck"
   },
   "outputs": [],
   "source": [
    "def train(model, train_dataloader, val_dataloader, loss_fn, optimizer, config):\n",
    "    wandb.watch(model, loss_fn, log=\"all\", log_freq=10)\n",
    "\n",
    "    example_ct = 0  # number of examples seen\n",
    "    epochs = config[\"epochs\"]\n",
    "\n",
    "    ## we want to save the best performing hyperparameters for each participant with wandb \n",
    "    best_val_acc = 0  # Initialize a variable to keep track of the best validation accuracy\n",
    "    best_config = None  # To store the best configuration    \n",
    "\n",
    "    for epoch in tqdm(range(epochs)):\n",
    "        print(f\"Epoch: {epoch}\\n---------\")\n",
    "        train_loss, train_acc = 0, 0\n",
    "\n",
    "        model.train()  # Set the model to training mode\n",
    "        for batch, (X, y) in enumerate(train_dataloader):\n",
    "            X = X.to(device)\n",
    "            y = y.to(device)\n",
    "\n",
    "            # Forward pass\n",
    "            y_pred = model(X)\n",
    "\n",
    "            # Calculate loss\n",
    "            loss = loss_fn(y_pred, y)\n",
    "            example_ct += len(X)\n",
    "            train_loss += loss.item()\n",
    "            train_acc += accuracy_fn(y_true=y, y_pred=y_pred.argmax(dim=1))\n",
    "\n",
    "            # Backward pass\n",
    "            optimizer.zero_grad()\n",
    "            loss.backward()\n",
    "            optimizer.step()\n",
    "\n",
    "        train_loss /= len(train_dataloader)\n",
    "        train_acc /= len(train_dataloader)\n",
    "\n",
    "        # Validate the model\n",
    "        val_loss, val_acc = 0, 0\n",
    "        model.eval()  \n",
    "        with torch.inference_mode():\n",
    "            for X_val, y_val in val_dataloader:\n",
    "                X_val, y_val = X_val.to(device), y_val.to(device)\n",
    "                val_pred = model(X_val)\n",
    "                val_loss += loss_fn(val_pred, y_val).item()\n",
    "                val_acc += accuracy_fn(y_true=y_val, y_pred=val_pred.argmax(dim=1))\n",
    "\n",
    "            val_loss /= len(val_dataloader)\n",
    "            val_acc /= len(val_dataloader)\n",
    "\n",
    "        wandb.log({\n",
    "            \"epoch\": epoch,\n",
    "            \"train_loss\": train_loss,\n",
    "            \"train_accuracy\": train_acc,\n",
    "            \"val_loss\": val_loss,\n",
    "            \"val_accuracy\": val_acc\n",
    "        }, step=example_ct)\n",
    "\n",
    "        print(f\"Epoch {epoch}: Train Loss: {train_loss:.3f}, Train Accuracy: {train_acc:.3f}, \"\n",
    "              f\"Val Loss: {val_loss:.3f}, Val Accuracy: {val_acc:.3f}\")\n",
    "\n",
    "def test(model, test_dataloader,loss_fn):\n",
    "    test_loss, test_acc = 0, 0\n",
    "    model.to(device)\n",
    "    model.eval() # put model in eval mode\n",
    "    # Turn on inference context manager\n",
    "    with torch.inference_mode():\n",
    "        for X, y in test_dataloader: #data_loader changed\n",
    "            # Send data to GPU\n",
    "            X, y = X.to(device), y.to(device)\n",
    "\n",
    "            # 1. Forward pass\n",
    "            test_pred = model(X)\n",
    "\n",
    "            # 2. Calculate loss and accuracy\n",
    "            test_loss += loss_fn(test_pred, y)\n",
    "            test_acc += accuracy_fn(y_true=y,\n",
    "                y_pred=test_pred.argmax(dim=1) # Go from logits -> pred labels\n",
    "            )\n",
    "\n",
    "        # Adjust metrics and print out\n",
    "        test_loss /= len(test_dataloader)\n",
    "        test_acc /= len(test_dataloader)\n",
    "        print(f\"Test loss: {test_loss:.5f} | Test accuracy: {test_acc:.2f}%\\n\")\n",
    "\n",
    "        wandb.log({\"test_accuracy\":test_acc,\n",
    "                   \"test loss\": test_loss})\n",
    "\n",
    "\n",
    "        # Save the model in the exchangeable ONNX format\n",
    "        torch.onnx.export(model, X, \"model.onnx\")\n",
    "        wandb.save(\"model.onnx\")\n"
   ]
  },
  {
   "cell_type": "code",
   "execution_count": 35,
   "metadata": {
    "id": "TBPu-rH_YlWL"
   },
   "outputs": [],
   "source": [
    "def model_pipeline():\n",
    "    with wandb.init():\n",
    "        config = wandb.config\n",
    "        train_dataloader, val_dataloader, test_dataloader, model, loss_fn, optimizer = make(config)\n",
    "\n",
    "        train(model, train_dataloader, val_dataloader, loss_fn, optimizer, config)\n",
    "        test(model, test_dataloader, loss_fn)\n",
    "\n",
    "    return model\n"
   ]
  },
  {
   "cell_type": "code",
   "execution_count": 36,
   "metadata": {},
   "outputs": [],
   "source": [
    "device = torch.device(\"cuda\" if torch.cuda.is_available() else \"cpu\")   "
   ]
  },
  {
   "cell_type": "code",
   "execution_count": 37,
   "metadata": {
    "colab": {
     "base_uri": "https://localhost:8080/",
     "height": 156
    },
    "id": "R6G9ClabEe_i",
    "outputId": "1f75b72b-aad9-41bd-a70c-a6b3337f3ef8"
   },
   "outputs": [
    {
     "name": "stderr",
     "output_type": "stream",
     "text": [
      "\u001b[34m\u001b[1mwandb\u001b[0m: Agent Starting Run: unawc03l with config:\n",
      "\u001b[34m\u001b[1mwandb\u001b[0m: \tD: 2\n",
      "\u001b[34m\u001b[1mwandb\u001b[0m: \tF1: 64\n",
      "\u001b[34m\u001b[1mwandb\u001b[0m: \tbatch_size: 32\n",
      "\u001b[34m\u001b[1mwandb\u001b[0m: \tdrop_prob: 0.25\n",
      "\u001b[34m\u001b[1mwandb\u001b[0m: \tepochs: 100\n",
      "\u001b[34m\u001b[1mwandb\u001b[0m: \tlr: 0.01743521332321587\n",
      "\u001b[34m\u001b[1mwandb\u001b[0m: \tpool_mode: max\n",
      "\u001b[34m\u001b[1mwandb\u001b[0m: \tweight_decay: 0\n"
     ]
    },
    {
     "data": {
      "text/html": [
       "Tracking run with wandb version 0.17.8"
      ],
      "text/plain": [
       "<IPython.core.display.HTML object>"
      ]
     },
     "metadata": {},
     "output_type": "display_data"
    },
    {
     "data": {
      "text/html": [
       "Run data is saved locally in <code>/Users/arnavkapur/Desktop/Analysis_3DImagery/imagery2024/Classification/wandb/run-20240926_101708-unawc03l</code>"
      ],
      "text/plain": [
       "<IPython.core.display.HTML object>"
      ]
     },
     "metadata": {},
     "output_type": "display_data"
    },
    {
     "data": {
      "text/html": [
       "Syncing run <strong><a href='https://wandb.ai/constanzealbrecht-eth-z-rich/eeg-classification/runs/unawc03l' target=\"_blank\">cool-sweep-7</a></strong> to <a href='https://wandb.ai/constanzealbrecht-eth-z-rich/eeg-classification' target=\"_blank\">Weights & Biases</a> (<a href='https://wandb.me/run' target=\"_blank\">docs</a>)<br/>Sweep page: <a href='https://wandb.ai/constanzealbrecht-eth-z-rich/eeg-classification/sweeps/otgw413p' target=\"_blank\">https://wandb.ai/constanzealbrecht-eth-z-rich/eeg-classification/sweeps/otgw413p</a>"
      ],
      "text/plain": [
       "<IPython.core.display.HTML object>"
      ]
     },
     "metadata": {},
     "output_type": "display_data"
    },
    {
     "data": {
      "text/html": [
       " View project at <a href='https://wandb.ai/constanzealbrecht-eth-z-rich/eeg-classification' target=\"_blank\">https://wandb.ai/constanzealbrecht-eth-z-rich/eeg-classification</a>"
      ],
      "text/plain": [
       "<IPython.core.display.HTML object>"
      ]
     },
     "metadata": {},
     "output_type": "display_data"
    },
    {
     "data": {
      "text/html": [
       " View sweep at <a href='https://wandb.ai/constanzealbrecht-eth-z-rich/eeg-classification/sweeps/otgw413p' target=\"_blank\">https://wandb.ai/constanzealbrecht-eth-z-rich/eeg-classification/sweeps/otgw413p</a>"
      ],
      "text/plain": [
       "<IPython.core.display.HTML object>"
      ]
     },
     "metadata": {},
     "output_type": "display_data"
    },
    {
     "data": {
      "text/html": [
       " View run at <a href='https://wandb.ai/constanzealbrecht-eth-z-rich/eeg-classification/runs/unawc03l' target=\"_blank\">https://wandb.ai/constanzealbrecht-eth-z-rich/eeg-classification/runs/unawc03l</a>"
      ],
      "text/plain": [
       "<IPython.core.display.HTML object>"
      ]
     },
     "metadata": {},
     "output_type": "display_data"
    },
    {
     "name": "stdout",
     "output_type": "stream",
     "text": [
      "(78, 15360, 64)\n",
      "(78,)\n"
     ]
    },
    {
     "name": "stderr",
     "output_type": "stream",
     "text": [
      "Traceback (most recent call last):\n",
      "  File \"/var/folders/w2/bjrs7bh539701pd5yx65p_cc0000gp/T/ipykernel_24175/2024294583.py\", line 4, in model_pipeline\n",
      "    train_dataloader, val_dataloader, test_dataloader, model, loss_fn, optimizer = make(config)\n",
      "  File \"/var/folders/w2/bjrs7bh539701pd5yx65p_cc0000gp/T/ipykernel_24175/3897473038.py\", line 69, in make\n",
      "    train_dataloader = DataLoader(train_dataset, batch_size=config[\"batch_size\"], shuffle=True)\n",
      "  File \"/Users/arnavkapur/.pyenv/versions/3.10.12/lib/python3.10/site-packages/torch/utils/data/dataloader.py\", line 350, in __init__\n",
      "    sampler = RandomSampler(dataset, generator=generator)  # type: ignore[arg-type]\n",
      "  File \"/Users/arnavkapur/.pyenv/versions/3.10.12/lib/python3.10/site-packages/torch/utils/data/sampler.py\", line 143, in __init__\n",
      "    raise ValueError(f\"num_samples should be a positive integer value, but got num_samples={self.num_samples}\")\n",
      "ValueError: num_samples should be a positive integer value, but got num_samples=0\n"
     ]
    },
    {
     "data": {
      "application/vnd.jupyter.widget-view+json": {
       "model_id": "fe8e0d4b9cc64d069a8337bbb1927750",
       "version_major": 2,
       "version_minor": 0
      },
      "text/plain": [
       "VBox(children=(Label(value='0.001 MB of 0.001 MB uploaded\\r'), FloatProgress(value=1.0, max=1.0)))"
      ]
     },
     "metadata": {},
     "output_type": "display_data"
    },
    {
     "data": {
      "text/html": [
       " View run <strong style=\"color:#cdcd00\">cool-sweep-7</strong> at: <a href='https://wandb.ai/constanzealbrecht-eth-z-rich/eeg-classification/runs/unawc03l' target=\"_blank\">https://wandb.ai/constanzealbrecht-eth-z-rich/eeg-classification/runs/unawc03l</a><br/> View project at: <a href='https://wandb.ai/constanzealbrecht-eth-z-rich/eeg-classification' target=\"_blank\">https://wandb.ai/constanzealbrecht-eth-z-rich/eeg-classification</a><br/>Synced 5 W&B file(s), 0 media file(s), 0 artifact file(s) and 0 other file(s)"
      ],
      "text/plain": [
       "<IPython.core.display.HTML object>"
      ]
     },
     "metadata": {},
     "output_type": "display_data"
    },
    {
     "data": {
      "text/html": [
       "Find logs at: <code>./wandb/run-20240926_101708-unawc03l/logs</code>"
      ],
      "text/plain": [
       "<IPython.core.display.HTML object>"
      ]
     },
     "metadata": {},
     "output_type": "display_data"
    },
    {
     "data": {
      "text/html": [
       "wandb version 0.18.1 is available!  To upgrade, please run:\n",
       " $ pip install wandb --upgrade"
      ],
      "text/plain": [
       "<IPython.core.display.HTML object>"
      ]
     },
     "metadata": {},
     "output_type": "display_data"
    },
    {
     "data": {
      "text/html": [
       "The new W&B backend becomes opt-out in version 0.18.0; try it out with `wandb.require(\"core\")`! See https://wandb.me/wandb-core for more information."
      ],
      "text/plain": [
       "<IPython.core.display.HTML object>"
      ]
     },
     "metadata": {},
     "output_type": "display_data"
    },
    {
     "name": "stderr",
     "output_type": "stream",
     "text": [
      "Run unawc03l errored:\n",
      "Traceback (most recent call last):\n",
      "  File \"/Users/arnavkapur/.pyenv/versions/3.10.12/lib/python3.10/site-packages/wandb/agents/pyagent.py\", line 306, in _run_job\n",
      "    self._function()\n",
      "  File \"/var/folders/w2/bjrs7bh539701pd5yx65p_cc0000gp/T/ipykernel_24175/2024294583.py\", line 4, in model_pipeline\n",
      "    train_dataloader, val_dataloader, test_dataloader, model, loss_fn, optimizer = make(config)\n",
      "  File \"/var/folders/w2/bjrs7bh539701pd5yx65p_cc0000gp/T/ipykernel_24175/3897473038.py\", line 69, in make\n",
      "    train_dataloader = DataLoader(train_dataset, batch_size=config[\"batch_size\"], shuffle=True)\n",
      "  File \"/Users/arnavkapur/.pyenv/versions/3.10.12/lib/python3.10/site-packages/torch/utils/data/dataloader.py\", line 350, in __init__\n",
      "    sampler = RandomSampler(dataset, generator=generator)  # type: ignore[arg-type]\n",
      "  File \"/Users/arnavkapur/.pyenv/versions/3.10.12/lib/python3.10/site-packages/torch/utils/data/sampler.py\", line 143, in __init__\n",
      "    raise ValueError(f\"num_samples should be a positive integer value, but got num_samples={self.num_samples}\")\n",
      "ValueError: num_samples should be a positive integer value, but got num_samples=0\n",
      "\n",
      "\u001b[34m\u001b[1mwandb\u001b[0m: \u001b[32m\u001b[41mERROR\u001b[0m Run unawc03l errored:\n",
      "\u001b[34m\u001b[1mwandb\u001b[0m: \u001b[32m\u001b[41mERROR\u001b[0m Traceback (most recent call last):\n",
      "\u001b[34m\u001b[1mwandb\u001b[0m: \u001b[32m\u001b[41mERROR\u001b[0m   File \"/Users/arnavkapur/.pyenv/versions/3.10.12/lib/python3.10/site-packages/wandb/agents/pyagent.py\", line 306, in _run_job\n",
      "\u001b[34m\u001b[1mwandb\u001b[0m: \u001b[32m\u001b[41mERROR\u001b[0m     self._function()\n",
      "\u001b[34m\u001b[1mwandb\u001b[0m: \u001b[32m\u001b[41mERROR\u001b[0m   File \"/var/folders/w2/bjrs7bh539701pd5yx65p_cc0000gp/T/ipykernel_24175/2024294583.py\", line 4, in model_pipeline\n",
      "\u001b[34m\u001b[1mwandb\u001b[0m: \u001b[32m\u001b[41mERROR\u001b[0m     train_dataloader, val_dataloader, test_dataloader, model, loss_fn, optimizer = make(config)\n",
      "\u001b[34m\u001b[1mwandb\u001b[0m: \u001b[32m\u001b[41mERROR\u001b[0m   File \"/var/folders/w2/bjrs7bh539701pd5yx65p_cc0000gp/T/ipykernel_24175/3897473038.py\", line 69, in make\n",
      "\u001b[34m\u001b[1mwandb\u001b[0m: \u001b[32m\u001b[41mERROR\u001b[0m     train_dataloader = DataLoader(train_dataset, batch_size=config[\"batch_size\"], shuffle=True)\n",
      "\u001b[34m\u001b[1mwandb\u001b[0m: \u001b[32m\u001b[41mERROR\u001b[0m   File \"/Users/arnavkapur/.pyenv/versions/3.10.12/lib/python3.10/site-packages/torch/utils/data/dataloader.py\", line 350, in __init__\n",
      "\u001b[34m\u001b[1mwandb\u001b[0m: \u001b[32m\u001b[41mERROR\u001b[0m     sampler = RandomSampler(dataset, generator=generator)  # type: ignore[arg-type]\n",
      "\u001b[34m\u001b[1mwandb\u001b[0m: \u001b[32m\u001b[41mERROR\u001b[0m   File \"/Users/arnavkapur/.pyenv/versions/3.10.12/lib/python3.10/site-packages/torch/utils/data/sampler.py\", line 143, in __init__\n",
      "\u001b[34m\u001b[1mwandb\u001b[0m: \u001b[32m\u001b[41mERROR\u001b[0m     raise ValueError(f\"num_samples should be a positive integer value, but got num_samples={self.num_samples}\")\n",
      "\u001b[34m\u001b[1mwandb\u001b[0m: \u001b[32m\u001b[41mERROR\u001b[0m ValueError: num_samples should be a positive integer value, but got num_samples=0\n",
      "\u001b[34m\u001b[1mwandb\u001b[0m: \u001b[32m\u001b[41mERROR\u001b[0m \n",
      "\u001b[34m\u001b[1mwandb\u001b[0m: Agent Starting Run: zn8807n0 with config:\n",
      "\u001b[34m\u001b[1mwandb\u001b[0m: \tD: 2\n",
      "\u001b[34m\u001b[1mwandb\u001b[0m: \tF1: 64\n",
      "\u001b[34m\u001b[1mwandb\u001b[0m: \tbatch_size: 32\n",
      "\u001b[34m\u001b[1mwandb\u001b[0m: \tdrop_prob: 0.25\n",
      "\u001b[34m\u001b[1mwandb\u001b[0m: \tepochs: 100\n",
      "\u001b[34m\u001b[1mwandb\u001b[0m: \tlr: 0.00017973906216144686\n",
      "\u001b[34m\u001b[1mwandb\u001b[0m: \tpool_mode: max\n",
      "\u001b[34m\u001b[1mwandb\u001b[0m: \tweight_decay: 0\n"
     ]
    },
    {
     "data": {
      "application/vnd.jupyter.widget-view+json": {
       "model_id": "f4e25e846e8e498c8f8790de42a31f5c",
       "version_major": 2,
       "version_minor": 0
      },
      "text/plain": [
       "VBox(children=(Label(value='Waiting for wandb.init()...\\r'), FloatProgress(value=0.011168058088878751, max=1.0…"
      ]
     },
     "metadata": {},
     "output_type": "display_data"
    },
    {
     "data": {
      "text/html": [
       "Tracking run with wandb version 0.17.8"
      ],
      "text/plain": [
       "<IPython.core.display.HTML object>"
      ]
     },
     "metadata": {},
     "output_type": "display_data"
    },
    {
     "data": {
      "text/html": [
       "Run data is saved locally in <code>/Users/arnavkapur/Desktop/Analysis_3DImagery/imagery2024/Classification/wandb/run-20240926_101719-zn8807n0</code>"
      ],
      "text/plain": [
       "<IPython.core.display.HTML object>"
      ]
     },
     "metadata": {},
     "output_type": "display_data"
    },
    {
     "data": {
      "text/html": [
       "Syncing run <strong><a href='https://wandb.ai/constanzealbrecht-eth-z-rich/eeg-classification/runs/zn8807n0' target=\"_blank\">hardy-sweep-8</a></strong> to <a href='https://wandb.ai/constanzealbrecht-eth-z-rich/eeg-classification' target=\"_blank\">Weights & Biases</a> (<a href='https://wandb.me/run' target=\"_blank\">docs</a>)<br/>Sweep page: <a href='https://wandb.ai/constanzealbrecht-eth-z-rich/eeg-classification/sweeps/otgw413p' target=\"_blank\">https://wandb.ai/constanzealbrecht-eth-z-rich/eeg-classification/sweeps/otgw413p</a>"
      ],
      "text/plain": [
       "<IPython.core.display.HTML object>"
      ]
     },
     "metadata": {},
     "output_type": "display_data"
    },
    {
     "data": {
      "text/html": [
       " View project at <a href='https://wandb.ai/constanzealbrecht-eth-z-rich/eeg-classification' target=\"_blank\">https://wandb.ai/constanzealbrecht-eth-z-rich/eeg-classification</a>"
      ],
      "text/plain": [
       "<IPython.core.display.HTML object>"
      ]
     },
     "metadata": {},
     "output_type": "display_data"
    },
    {
     "data": {
      "text/html": [
       " View sweep at <a href='https://wandb.ai/constanzealbrecht-eth-z-rich/eeg-classification/sweeps/otgw413p' target=\"_blank\">https://wandb.ai/constanzealbrecht-eth-z-rich/eeg-classification/sweeps/otgw413p</a>"
      ],
      "text/plain": [
       "<IPython.core.display.HTML object>"
      ]
     },
     "metadata": {},
     "output_type": "display_data"
    },
    {
     "data": {
      "text/html": [
       " View run at <a href='https://wandb.ai/constanzealbrecht-eth-z-rich/eeg-classification/runs/zn8807n0' target=\"_blank\">https://wandb.ai/constanzealbrecht-eth-z-rich/eeg-classification/runs/zn8807n0</a>"
      ],
      "text/plain": [
       "<IPython.core.display.HTML object>"
      ]
     },
     "metadata": {},
     "output_type": "display_data"
    },
    {
     "name": "stdout",
     "output_type": "stream",
     "text": [
      "(78, 15360, 64)\n",
      "(78,)\n"
     ]
    },
    {
     "name": "stderr",
     "output_type": "stream",
     "text": [
      "Traceback (most recent call last):\n",
      "  File \"/var/folders/w2/bjrs7bh539701pd5yx65p_cc0000gp/T/ipykernel_24175/2024294583.py\", line 4, in model_pipeline\n",
      "    train_dataloader, val_dataloader, test_dataloader, model, loss_fn, optimizer = make(config)\n",
      "  File \"/var/folders/w2/bjrs7bh539701pd5yx65p_cc0000gp/T/ipykernel_24175/3897473038.py\", line 69, in make\n",
      "    train_dataloader = DataLoader(train_dataset, batch_size=config[\"batch_size\"], shuffle=True)\n",
      "  File \"/Users/arnavkapur/.pyenv/versions/3.10.12/lib/python3.10/site-packages/torch/utils/data/dataloader.py\", line 350, in __init__\n",
      "    sampler = RandomSampler(dataset, generator=generator)  # type: ignore[arg-type]\n",
      "  File \"/Users/arnavkapur/.pyenv/versions/3.10.12/lib/python3.10/site-packages/torch/utils/data/sampler.py\", line 143, in __init__\n",
      "    raise ValueError(f\"num_samples should be a positive integer value, but got num_samples={self.num_samples}\")\n",
      "ValueError: num_samples should be a positive integer value, but got num_samples=0\n"
     ]
    },
    {
     "data": {
      "application/vnd.jupyter.widget-view+json": {
       "model_id": "4be5515b1a774fcab5fbd9222005cad4",
       "version_major": 2,
       "version_minor": 0
      },
      "text/plain": [
       "VBox(children=(Label(value='0.001 MB of 0.001 MB uploaded\\r'), FloatProgress(value=1.0, max=1.0)))"
      ]
     },
     "metadata": {},
     "output_type": "display_data"
    },
    {
     "data": {
      "text/html": [
       " View run <strong style=\"color:#cdcd00\">hardy-sweep-8</strong> at: <a href='https://wandb.ai/constanzealbrecht-eth-z-rich/eeg-classification/runs/zn8807n0' target=\"_blank\">https://wandb.ai/constanzealbrecht-eth-z-rich/eeg-classification/runs/zn8807n0</a><br/> View project at: <a href='https://wandb.ai/constanzealbrecht-eth-z-rich/eeg-classification' target=\"_blank\">https://wandb.ai/constanzealbrecht-eth-z-rich/eeg-classification</a><br/>Synced 5 W&B file(s), 0 media file(s), 0 artifact file(s) and 0 other file(s)"
      ],
      "text/plain": [
       "<IPython.core.display.HTML object>"
      ]
     },
     "metadata": {},
     "output_type": "display_data"
    },
    {
     "data": {
      "text/html": [
       "Find logs at: <code>./wandb/run-20240926_101719-zn8807n0/logs</code>"
      ],
      "text/plain": [
       "<IPython.core.display.HTML object>"
      ]
     },
     "metadata": {},
     "output_type": "display_data"
    },
    {
     "data": {
      "text/html": [
       "wandb version 0.18.1 is available!  To upgrade, please run:\n",
       " $ pip install wandb --upgrade"
      ],
      "text/plain": [
       "<IPython.core.display.HTML object>"
      ]
     },
     "metadata": {},
     "output_type": "display_data"
    },
    {
     "data": {
      "text/html": [
       "The new W&B backend becomes opt-out in version 0.18.0; try it out with `wandb.require(\"core\")`! See https://wandb.me/wandb-core for more information."
      ],
      "text/plain": [
       "<IPython.core.display.HTML object>"
      ]
     },
     "metadata": {},
     "output_type": "display_data"
    },
    {
     "name": "stderr",
     "output_type": "stream",
     "text": [
      "Run zn8807n0 errored:\n",
      "Traceback (most recent call last):\n",
      "  File \"/Users/arnavkapur/.pyenv/versions/3.10.12/lib/python3.10/site-packages/wandb/agents/pyagent.py\", line 306, in _run_job\n",
      "    self._function()\n",
      "  File \"/var/folders/w2/bjrs7bh539701pd5yx65p_cc0000gp/T/ipykernel_24175/2024294583.py\", line 4, in model_pipeline\n",
      "    train_dataloader, val_dataloader, test_dataloader, model, loss_fn, optimizer = make(config)\n",
      "  File \"/var/folders/w2/bjrs7bh539701pd5yx65p_cc0000gp/T/ipykernel_24175/3897473038.py\", line 69, in make\n",
      "    train_dataloader = DataLoader(train_dataset, batch_size=config[\"batch_size\"], shuffle=True)\n",
      "  File \"/Users/arnavkapur/.pyenv/versions/3.10.12/lib/python3.10/site-packages/torch/utils/data/dataloader.py\", line 350, in __init__\n",
      "    sampler = RandomSampler(dataset, generator=generator)  # type: ignore[arg-type]\n",
      "  File \"/Users/arnavkapur/.pyenv/versions/3.10.12/lib/python3.10/site-packages/torch/utils/data/sampler.py\", line 143, in __init__\n",
      "    raise ValueError(f\"num_samples should be a positive integer value, but got num_samples={self.num_samples}\")\n",
      "ValueError: num_samples should be a positive integer value, but got num_samples=0\n",
      "\n",
      "\u001b[34m\u001b[1mwandb\u001b[0m: \u001b[32m\u001b[41mERROR\u001b[0m Run zn8807n0 errored:\n",
      "\u001b[34m\u001b[1mwandb\u001b[0m: \u001b[32m\u001b[41mERROR\u001b[0m Traceback (most recent call last):\n",
      "\u001b[34m\u001b[1mwandb\u001b[0m: \u001b[32m\u001b[41mERROR\u001b[0m   File \"/Users/arnavkapur/.pyenv/versions/3.10.12/lib/python3.10/site-packages/wandb/agents/pyagent.py\", line 306, in _run_job\n",
      "\u001b[34m\u001b[1mwandb\u001b[0m: \u001b[32m\u001b[41mERROR\u001b[0m     self._function()\n",
      "\u001b[34m\u001b[1mwandb\u001b[0m: \u001b[32m\u001b[41mERROR\u001b[0m   File \"/var/folders/w2/bjrs7bh539701pd5yx65p_cc0000gp/T/ipykernel_24175/2024294583.py\", line 4, in model_pipeline\n",
      "\u001b[34m\u001b[1mwandb\u001b[0m: \u001b[32m\u001b[41mERROR\u001b[0m     train_dataloader, val_dataloader, test_dataloader, model, loss_fn, optimizer = make(config)\n",
      "\u001b[34m\u001b[1mwandb\u001b[0m: \u001b[32m\u001b[41mERROR\u001b[0m   File \"/var/folders/w2/bjrs7bh539701pd5yx65p_cc0000gp/T/ipykernel_24175/3897473038.py\", line 69, in make\n",
      "\u001b[34m\u001b[1mwandb\u001b[0m: \u001b[32m\u001b[41mERROR\u001b[0m     train_dataloader = DataLoader(train_dataset, batch_size=config[\"batch_size\"], shuffle=True)\n",
      "\u001b[34m\u001b[1mwandb\u001b[0m: \u001b[32m\u001b[41mERROR\u001b[0m   File \"/Users/arnavkapur/.pyenv/versions/3.10.12/lib/python3.10/site-packages/torch/utils/data/dataloader.py\", line 350, in __init__\n",
      "\u001b[34m\u001b[1mwandb\u001b[0m: \u001b[32m\u001b[41mERROR\u001b[0m     sampler = RandomSampler(dataset, generator=generator)  # type: ignore[arg-type]\n",
      "\u001b[34m\u001b[1mwandb\u001b[0m: \u001b[32m\u001b[41mERROR\u001b[0m   File \"/Users/arnavkapur/.pyenv/versions/3.10.12/lib/python3.10/site-packages/torch/utils/data/sampler.py\", line 143, in __init__\n",
      "\u001b[34m\u001b[1mwandb\u001b[0m: \u001b[32m\u001b[41mERROR\u001b[0m     raise ValueError(f\"num_samples should be a positive integer value, but got num_samples={self.num_samples}\")\n",
      "\u001b[34m\u001b[1mwandb\u001b[0m: \u001b[32m\u001b[41mERROR\u001b[0m ValueError: num_samples should be a positive integer value, but got num_samples=0\n",
      "\u001b[34m\u001b[1mwandb\u001b[0m: \u001b[32m\u001b[41mERROR\u001b[0m \n",
      "\u001b[34m\u001b[1mwandb\u001b[0m: Sweep Agent: Waiting for job.\n",
      "\u001b[34m\u001b[1mwandb\u001b[0m: Job received.\n",
      "\u001b[34m\u001b[1mwandb\u001b[0m: Agent Starting Run: y4dcmhe7 with config:\n",
      "\u001b[34m\u001b[1mwandb\u001b[0m: \tD: 2\n",
      "\u001b[34m\u001b[1mwandb\u001b[0m: \tF1: 64\n",
      "\u001b[34m\u001b[1mwandb\u001b[0m: \tbatch_size: 32\n",
      "\u001b[34m\u001b[1mwandb\u001b[0m: \tdrop_prob: 0.25\n",
      "\u001b[34m\u001b[1mwandb\u001b[0m: \tepochs: 100\n",
      "\u001b[34m\u001b[1mwandb\u001b[0m: \tlr: 0.03127151008939937\n",
      "\u001b[34m\u001b[1mwandb\u001b[0m: \tpool_mode: max\n",
      "\u001b[34m\u001b[1mwandb\u001b[0m: \tweight_decay: 0\n"
     ]
    },
    {
     "data": {
      "application/vnd.jupyter.widget-view+json": {
       "model_id": "8e4e06b055f1412b9fea779f5bf1e38c",
       "version_major": 2,
       "version_minor": 0
      },
      "text/plain": [
       "VBox(children=(Label(value='Waiting for wandb.init()...\\r'), FloatProgress(value=0.011161976233334927, max=1.0…"
      ]
     },
     "metadata": {},
     "output_type": "display_data"
    },
    {
     "data": {
      "text/html": [
       "Tracking run with wandb version 0.17.8"
      ],
      "text/plain": [
       "<IPython.core.display.HTML object>"
      ]
     },
     "metadata": {},
     "output_type": "display_data"
    },
    {
     "data": {
      "text/html": [
       "Run data is saved locally in <code>/Users/arnavkapur/Desktop/Analysis_3DImagery/imagery2024/Classification/wandb/run-20240926_101738-y4dcmhe7</code>"
      ],
      "text/plain": [
       "<IPython.core.display.HTML object>"
      ]
     },
     "metadata": {},
     "output_type": "display_data"
    },
    {
     "data": {
      "text/html": [
       "Syncing run <strong><a href='https://wandb.ai/constanzealbrecht-eth-z-rich/eeg-classification/runs/y4dcmhe7' target=\"_blank\">cerulean-sweep-9</a></strong> to <a href='https://wandb.ai/constanzealbrecht-eth-z-rich/eeg-classification' target=\"_blank\">Weights & Biases</a> (<a href='https://wandb.me/run' target=\"_blank\">docs</a>)<br/>Sweep page: <a href='https://wandb.ai/constanzealbrecht-eth-z-rich/eeg-classification/sweeps/otgw413p' target=\"_blank\">https://wandb.ai/constanzealbrecht-eth-z-rich/eeg-classification/sweeps/otgw413p</a>"
      ],
      "text/plain": [
       "<IPython.core.display.HTML object>"
      ]
     },
     "metadata": {},
     "output_type": "display_data"
    },
    {
     "data": {
      "text/html": [
       " View project at <a href='https://wandb.ai/constanzealbrecht-eth-z-rich/eeg-classification' target=\"_blank\">https://wandb.ai/constanzealbrecht-eth-z-rich/eeg-classification</a>"
      ],
      "text/plain": [
       "<IPython.core.display.HTML object>"
      ]
     },
     "metadata": {},
     "output_type": "display_data"
    },
    {
     "data": {
      "text/html": [
       " View sweep at <a href='https://wandb.ai/constanzealbrecht-eth-z-rich/eeg-classification/sweeps/otgw413p' target=\"_blank\">https://wandb.ai/constanzealbrecht-eth-z-rich/eeg-classification/sweeps/otgw413p</a>"
      ],
      "text/plain": [
       "<IPython.core.display.HTML object>"
      ]
     },
     "metadata": {},
     "output_type": "display_data"
    },
    {
     "data": {
      "text/html": [
       " View run at <a href='https://wandb.ai/constanzealbrecht-eth-z-rich/eeg-classification/runs/y4dcmhe7' target=\"_blank\">https://wandb.ai/constanzealbrecht-eth-z-rich/eeg-classification/runs/y4dcmhe7</a>"
      ],
      "text/plain": [
       "<IPython.core.display.HTML object>"
      ]
     },
     "metadata": {},
     "output_type": "display_data"
    },
    {
     "name": "stdout",
     "output_type": "stream",
     "text": [
      "(78, 15360, 64)\n",
      "(78,)\n"
     ]
    },
    {
     "name": "stderr",
     "output_type": "stream",
     "text": [
      "Traceback (most recent call last):\n",
      "  File \"/var/folders/w2/bjrs7bh539701pd5yx65p_cc0000gp/T/ipykernel_24175/2024294583.py\", line 4, in model_pipeline\n",
      "    train_dataloader, val_dataloader, test_dataloader, model, loss_fn, optimizer = make(config)\n",
      "  File \"/var/folders/w2/bjrs7bh539701pd5yx65p_cc0000gp/T/ipykernel_24175/3897473038.py\", line 69, in make\n",
      "    train_dataloader = DataLoader(train_dataset, batch_size=config[\"batch_size\"], shuffle=True)\n",
      "  File \"/Users/arnavkapur/.pyenv/versions/3.10.12/lib/python3.10/site-packages/torch/utils/data/dataloader.py\", line 350, in __init__\n",
      "    sampler = RandomSampler(dataset, generator=generator)  # type: ignore[arg-type]\n",
      "  File \"/Users/arnavkapur/.pyenv/versions/3.10.12/lib/python3.10/site-packages/torch/utils/data/sampler.py\", line 143, in __init__\n",
      "    raise ValueError(f\"num_samples should be a positive integer value, but got num_samples={self.num_samples}\")\n",
      "ValueError: num_samples should be a positive integer value, but got num_samples=0\n"
     ]
    },
    {
     "data": {
      "application/vnd.jupyter.widget-view+json": {
       "model_id": "114dc4855b1b470aa1cf073819d547dd",
       "version_major": 2,
       "version_minor": 0
      },
      "text/plain": [
       "VBox(children=(Label(value='0.001 MB of 0.001 MB uploaded\\r'), FloatProgress(value=1.0, max=1.0)))"
      ]
     },
     "metadata": {},
     "output_type": "display_data"
    },
    {
     "data": {
      "text/html": [
       " View run <strong style=\"color:#cdcd00\">cerulean-sweep-9</strong> at: <a href='https://wandb.ai/constanzealbrecht-eth-z-rich/eeg-classification/runs/y4dcmhe7' target=\"_blank\">https://wandb.ai/constanzealbrecht-eth-z-rich/eeg-classification/runs/y4dcmhe7</a><br/> View project at: <a href='https://wandb.ai/constanzealbrecht-eth-z-rich/eeg-classification' target=\"_blank\">https://wandb.ai/constanzealbrecht-eth-z-rich/eeg-classification</a><br/>Synced 5 W&B file(s), 0 media file(s), 0 artifact file(s) and 0 other file(s)"
      ],
      "text/plain": [
       "<IPython.core.display.HTML object>"
      ]
     },
     "metadata": {},
     "output_type": "display_data"
    },
    {
     "data": {
      "text/html": [
       "Find logs at: <code>./wandb/run-20240926_101738-y4dcmhe7/logs</code>"
      ],
      "text/plain": [
       "<IPython.core.display.HTML object>"
      ]
     },
     "metadata": {},
     "output_type": "display_data"
    },
    {
     "data": {
      "text/html": [
       "wandb version 0.18.1 is available!  To upgrade, please run:\n",
       " $ pip install wandb --upgrade"
      ],
      "text/plain": [
       "<IPython.core.display.HTML object>"
      ]
     },
     "metadata": {},
     "output_type": "display_data"
    },
    {
     "data": {
      "text/html": [
       "The new W&B backend becomes opt-out in version 0.18.0; try it out with `wandb.require(\"core\")`! See https://wandb.me/wandb-core for more information."
      ],
      "text/plain": [
       "<IPython.core.display.HTML object>"
      ]
     },
     "metadata": {},
     "output_type": "display_data"
    },
    {
     "name": "stderr",
     "output_type": "stream",
     "text": [
      "Run y4dcmhe7 errored:\n",
      "Traceback (most recent call last):\n",
      "  File \"/Users/arnavkapur/.pyenv/versions/3.10.12/lib/python3.10/site-packages/wandb/agents/pyagent.py\", line 306, in _run_job\n",
      "    self._function()\n",
      "  File \"/var/folders/w2/bjrs7bh539701pd5yx65p_cc0000gp/T/ipykernel_24175/2024294583.py\", line 4, in model_pipeline\n",
      "    train_dataloader, val_dataloader, test_dataloader, model, loss_fn, optimizer = make(config)\n",
      "  File \"/var/folders/w2/bjrs7bh539701pd5yx65p_cc0000gp/T/ipykernel_24175/3897473038.py\", line 69, in make\n",
      "    train_dataloader = DataLoader(train_dataset, batch_size=config[\"batch_size\"], shuffle=True)\n",
      "  File \"/Users/arnavkapur/.pyenv/versions/3.10.12/lib/python3.10/site-packages/torch/utils/data/dataloader.py\", line 350, in __init__\n",
      "    sampler = RandomSampler(dataset, generator=generator)  # type: ignore[arg-type]\n",
      "  File \"/Users/arnavkapur/.pyenv/versions/3.10.12/lib/python3.10/site-packages/torch/utils/data/sampler.py\", line 143, in __init__\n",
      "    raise ValueError(f\"num_samples should be a positive integer value, but got num_samples={self.num_samples}\")\n",
      "ValueError: num_samples should be a positive integer value, but got num_samples=0\n",
      "\n",
      "\u001b[34m\u001b[1mwandb\u001b[0m: \u001b[32m\u001b[41mERROR\u001b[0m Run y4dcmhe7 errored:\n",
      "\u001b[34m\u001b[1mwandb\u001b[0m: \u001b[32m\u001b[41mERROR\u001b[0m Traceback (most recent call last):\n",
      "\u001b[34m\u001b[1mwandb\u001b[0m: \u001b[32m\u001b[41mERROR\u001b[0m   File \"/Users/arnavkapur/.pyenv/versions/3.10.12/lib/python3.10/site-packages/wandb/agents/pyagent.py\", line 306, in _run_job\n",
      "\u001b[34m\u001b[1mwandb\u001b[0m: \u001b[32m\u001b[41mERROR\u001b[0m     self._function()\n",
      "\u001b[34m\u001b[1mwandb\u001b[0m: \u001b[32m\u001b[41mERROR\u001b[0m   File \"/var/folders/w2/bjrs7bh539701pd5yx65p_cc0000gp/T/ipykernel_24175/2024294583.py\", line 4, in model_pipeline\n",
      "\u001b[34m\u001b[1mwandb\u001b[0m: \u001b[32m\u001b[41mERROR\u001b[0m     train_dataloader, val_dataloader, test_dataloader, model, loss_fn, optimizer = make(config)\n",
      "\u001b[34m\u001b[1mwandb\u001b[0m: \u001b[32m\u001b[41mERROR\u001b[0m   File \"/var/folders/w2/bjrs7bh539701pd5yx65p_cc0000gp/T/ipykernel_24175/3897473038.py\", line 69, in make\n",
      "\u001b[34m\u001b[1mwandb\u001b[0m: \u001b[32m\u001b[41mERROR\u001b[0m     train_dataloader = DataLoader(train_dataset, batch_size=config[\"batch_size\"], shuffle=True)\n",
      "\u001b[34m\u001b[1mwandb\u001b[0m: \u001b[32m\u001b[41mERROR\u001b[0m   File \"/Users/arnavkapur/.pyenv/versions/3.10.12/lib/python3.10/site-packages/torch/utils/data/dataloader.py\", line 350, in __init__\n",
      "\u001b[34m\u001b[1mwandb\u001b[0m: \u001b[32m\u001b[41mERROR\u001b[0m     sampler = RandomSampler(dataset, generator=generator)  # type: ignore[arg-type]\n",
      "\u001b[34m\u001b[1mwandb\u001b[0m: \u001b[32m\u001b[41mERROR\u001b[0m   File \"/Users/arnavkapur/.pyenv/versions/3.10.12/lib/python3.10/site-packages/torch/utils/data/sampler.py\", line 143, in __init__\n",
      "\u001b[34m\u001b[1mwandb\u001b[0m: \u001b[32m\u001b[41mERROR\u001b[0m     raise ValueError(f\"num_samples should be a positive integer value, but got num_samples={self.num_samples}\")\n",
      "\u001b[34m\u001b[1mwandb\u001b[0m: \u001b[32m\u001b[41mERROR\u001b[0m ValueError: num_samples should be a positive integer value, but got num_samples=0\n",
      "\u001b[34m\u001b[1mwandb\u001b[0m: \u001b[32m\u001b[41mERROR\u001b[0m \n",
      "Detected 3 failed runs in the first 60 seconds, killing sweep.\n",
      "\u001b[34m\u001b[1mwandb\u001b[0m: \u001b[32m\u001b[41mERROR\u001b[0m Detected 3 failed runs in the first 60 seconds, killing sweep.\n",
      "\u001b[34m\u001b[1mwandb\u001b[0m: To disable this check set WANDB_AGENT_DISABLE_FLAPPING=true\n"
     ]
    }
   ],
   "source": [
    "# Build, train and analyze the model with the pipeline\n",
    "wandb.agent(sweep_id, function=model_pipeline)"
   ]
  },
  {
   "cell_type": "code",
   "execution_count": null,
   "metadata": {},
   "outputs": [],
   "source": [
    "import yaml \n",
    "\n",
    "# Function to save the best config to a YAML file\n",
    "def save_best_config(best_config, file_name=\"best_config.yaml\"):\n",
    "    with open(file_name, 'w') as file:\n",
    "        yaml.dump(best_config, file)\n",
    "\n"
   ]
  },
  {
   "cell_type": "code",
   "execution_count": null,
   "metadata": {},
   "outputs": [],
   "source": [
    "import numpy as np\n",
    "import matplotlib.pyplot as plt\n",
    "\n",
    "def plot_top_1_percent_accuracy(eeg_data, accuracy_scores, ch_names, top_percentage=1, sfreq=512):\n",
    "    \"\"\"\n",
    "    Function to plot EEG data for the top 1% most accurate trials.\n",
    "\n",
    "    Parameters:\n",
    "    - eeg_data: EEG data array of shape (n_trials, n_channels, n_samples).\n",
    "    - accuracy_scores: List or array of accuracy scores (or a similar metric) for each trial.\n",
    "    - ch_names: List of EEG channel names.\n",
    "    - top_percentage: Percentage of top trials to plot (default is 1%).\n",
    "    - sfreq: Sampling frequency (default is 512 Hz).\n",
    "    \"\"\"\n",
    "    # Ensure accuracy_scores has the same number of elements as trials in eeg_data\n",
    "    assert len(accuracy_scores) == eeg_data.shape[0], \"Number of accuracy scores must match the number of trials.\"\n",
    "\n",
    "    # Determine the number of trials to select (top 1%)\n",
    "    n_trials = eeg_data.shape[0]\n",
    "    n_top_trials = max(1, int(n_trials * top_percentage / 100))  # At least 1 trial\n",
    "\n",
    "    # Get indices of the top 1% most accurate trials\n",
    "    top_trials_idx = np.argsort(accuracy_scores)[-n_top_trials:]  # Sort and select top indices\n",
    "\n",
    "    # Extract the top 1% trials from eeg_data\n",
    "    top_trials_data = eeg_data[top_trials_idx]\n",
    "\n",
    "    # Plot the top 1% trials\n",
    "    time = np.linspace(0, eeg_data.shape[2] / sfreq, eeg_data.shape[2])\n",
    "\n",
    "    # Create subplots for each channel\n",
    "    n_cols = 8\n",
    "    n_rows = int(np.ceil(len(ch_names) / n_cols))\n",
    "    fig, axes = plt.subplots(n_rows, n_cols, figsize=(20, 2.5 * n_rows))\n",
    "\n",
    "    for i, ch_name in enumerate(ch_names):\n",
    "        row = i // n_cols\n",
    "        col = i % n_cols\n",
    "        ax = axes[row, col]  # Access the subplot\n",
    "\n",
    "        # Plot the top trials for this channel\n",
    "        for trial in range(n_top_trials):\n",
    "            ax.plot(time, top_trials_data[trial, i, :], alpha=0.3)\n",
    "        \n",
    "        ax.set_title(f'{ch_name}', fontsize=10)\n",
    "        ax.set_xlabel('Time (s)', fontsize=8)\n",
    "        ax.set_ylabel('Amplitude (µV)', fontsize=8)\n",
    "        ax.grid(True)\n",
    "        ax.set_xlim(0, eeg_data.shape[2] / sfreq)  # Full time range\n",
    "\n",
    "    # Remove empty subplots, if any\n",
    "    for i in range(len(ch_names), n_rows * n_cols):\n",
    "        fig.delaxes(axes.flatten()[i])\n",
    "\n",
    "    plt.tight_layout()\n",
    "    plt.show()\n",
    "\n",
    "\n",
    "\n",
    "plot_top_1_percent_accuracy(data, accuracy_scores, ch_names, top_percentage=1)\n"
   ]
  },
  {
   "cell_type": "markdown",
   "metadata": {},
   "source": [
    "## Adding Checkpoints and Cross Validation"
   ]
  },
  {
   "cell_type": "code",
   "execution_count": null,
   "metadata": {},
   "outputs": [],
   "source": [
    "# import os\n",
    "# import torch\n",
    "# import wandb\n",
    "# from torch.utils.data import Dataset, DataLoader\n",
    "# from sklearn.model_selection import KFold\n",
    "# from pytorch_lightning.callbacks import ModelCheckpoint, LearningRateMonitor\n",
    "# from pytorch_lightning import Trainer, seed_everything\n",
    "# from tqdm.auto import tqdm\n",
    "\n",
    "# def make(config, train_idx, val_idx):\n",
    "#     # Prepare the training and validation data based on cross-validation indices\n",
    "#     X_train, y_train = data[train_idx], labels[train_idx]\n",
    "#     X_val, y_val = data[val_idx], labels[val_idx]\n",
    "\n",
    "#     X_train = torch.from_numpy(X_train).type(torch.float).unsqueeze(1)\n",
    "#     X_val = torch.from_numpy(X_val).type(torch.float).unsqueeze(1)\n",
    "#     y_train = torch.from_numpy(y_train - 1).type(torch.LongTensor)\n",
    "#     y_val = torch.from_numpy(y_val - 1).type(torch.LongTensor)\n",
    "\n",
    "#     X_train = X_train.permute(0, 2, 3, 1)\n",
    "#     X_val = X_val.permute(0, 2, 3, 1)\n",
    "\n",
    "#     class EEGDataloader(Dataset):\n",
    "#         def __init__(self, X, y):\n",
    "#             self.X = X\n",
    "#             self.y = y\n",
    "\n",
    "#         def __len__(self):\n",
    "#             return len(self.X)\n",
    "\n",
    "#         def __getitem__(self, idx):\n",
    "#             return self.X[idx], self.y[idx]\n",
    "\n",
    "#     train_dataset = EEGDataloader(X_train, y_train)\n",
    "#     val_dataset = EEGDataloader(X_val, y_val)\n",
    "\n",
    "#     train_dataloader = DataLoader(train_dataset, batch_size=config.batch_size, shuffle=True)\n",
    "#     val_dataloader = DataLoader(val_dataset, batch_size=config.batch_size, shuffle=False)\n",
    "\n",
    "#     model = EEGNetv4(\n",
    "#         in_chans=64,\n",
    "#         n_classes=6,\n",
    "#         input_window_samples=4096,\n",
    "#         lr=config.lr,\n",
    "#         epochs=config.epochs,\n",
    "#         weight_decay=config.weight_decay,\n",
    "#         drop_prob=config.drop_prob,\n",
    "#         pool_mode=config.pool_mode,\n",
    "#         one_cycle_lr=True\n",
    "#     ).to(device)\n",
    "\n",
    "#     loss_fn = torch.nn.CrossEntropyLoss()\n",
    "#     optimizer = torch.optim.Adam(model.parameters(), lr=config.lr)\n",
    "\n",
    "#     return train_dataloader, val_dataloader, model, loss_fn, optimizer\n",
    "\n",
    "# def train(model, train_dataloader, val_dataloader, loss_fn, optimizer, config):\n",
    "#     # Setup model checkpointing\n",
    "#     checkpoint_callback = ModelCheckpoint(\n",
    "#         monitor='val_accuracy',\n",
    "#         mode='max',\n",
    "#         filename='best-model-{epoch:02d}-{val_accuracy:.2f}',\n",
    "#         save_top_k=1,\n",
    "#         save_weights_only=True,\n",
    "#         verbose=True\n",
    "#     )\n",
    "    \n",
    "#     lr_monitor = LearningRateMonitor(logging_interval=\"epoch\")\n",
    "    \n",
    "#     # Initialize trainer\n",
    "#     trainer = Trainer(\n",
    "#         max_epochs=config.epochs,\n",
    "#         logger=wandb_logger,\n",
    "#         callbacks=[checkpoint_callback, lr_monitor],\n",
    "#         default_root_dir=\"your/checkpoint/directory/path\"\n",
    "#     )\n",
    "    \n",
    "#     wandb.watch(model, loss_fn, log=\"all\", log_freq=10)\n",
    "\n",
    "#     example_ct = 0\n",
    "#     for epoch in tqdm(range(config.epochs)):\n",
    "#         model.train()\n",
    "#         for batch, (X, y) in enumerate(train_dataloader):\n",
    "#             X, y = X.to(device), y.to(device)\n",
    "#             y_pred = model(X)\n",
    "#             loss = loss_fn(y_pred, y)\n",
    "#             example_ct += len(X)\n",
    "#             optimizer.zero_grad()\n",
    "#             loss.backward()\n",
    "#             optimizer.step()\n",
    "\n",
    "#         trainer.fit(model, train_dataloader, val_dataloader)\n",
    "\n",
    "# def cross_validate(config):\n",
    "#     kfold = KFold(n_splits=5, shuffle=True, random_state=42)\n",
    "#     for fold, (train_idx, val_idx) in enumerate(kfold.split(data)):\n",
    "#         print(f\"Fold {fold+1}\")\n",
    "#         train_dataloader, val_dataloader, model, loss_fn, optimizer = make(config, train_idx, val_idx)\n",
    "#         train(model, train_dataloader, val_dataloader, loss_fn, optimizer, config)\n",
    "\n",
    "# def model_pipeline():\n",
    "#     with wandb.init():\n",
    "#         config = wandb.config\n",
    "#         cross_validate(config)\n",
    "#     return model\n",
    "\n",
    "# wandb.agent(sweep_id, function=model_pipeline)\n",
    "\n"
   ]
  },
  {
   "cell_type": "markdown",
   "metadata": {
    "id": "6M7QLUQmAAU2"
   },
   "source": [
    "# SVM\n",
    "\n"
   ]
  },
  {
   "cell_type": "markdown",
   "metadata": {
    "id": "KCkqBp0MyDtW"
   },
   "source": [
    "## Feature Engineering"
   ]
  },
  {
   "cell_type": "markdown",
   "metadata": {},
   "source": [
    "-  Time-Domain Feature Extraction:\n",
    "This function extracts common statistical features from the time domain of the EEG signal for each epoch:\n",
    "\n",
    "    - Mean: Average of the signal.\n",
    "    - Standard Deviation: Spread of the signal values\n",
    "    - Skewness: Asymmetry in the signal’s distribution\n",
    "    - Kurtosis: \"Tailedness\" or sharpness of the peak of the signal distribution.\n",
    "\n",
    "- Frequency-Domain Feature Extraction:\n",
    "    - Power in Frequency Bands: Calculates theta (4-8 Hz), alpha (8-13 Hz), and beta (13-30 Hz) power from the Power Spectral Density (PSD).\n",
    "    - Mean Frequency: Weighted average of frequencies.\n",
    "    - Peak Frequency: Frequency where the maximum power occurs.\n",
    "\n",
    "- Alpha Asymmetry:\n",
    "    - Alpha power (8-13 Hz) is computed for both the left and right channels using Welch's method.\n",
    "    - The logarithmic difference between alpha power in the two channels is calculated to measure asymmetry.\n"
   ]
  },
  {
   "cell_type": "code",
   "execution_count": null,
   "metadata": {},
   "outputs": [],
   "source": [
    "from scipy import stats\n",
    "from scipy.signal import welch\n",
    "from scipy import signal\n",
    "import numpy as np\n",
    "import pandas as pd\n",
    "\n",
    "# Time-Domain Features\n",
    "\n",
    "def extract_time_domain_features(epoch):\n",
    "    mean = np.mean(epoch, axis=-1)\n",
    "    std = np.std(epoch, axis=-1)\n",
    "    skewness = stats.skew(epoch, axis=-1)\n",
    "    kurtosis = stats.kurtosis(epoch, axis=-1)\n",
    "    \n",
    "    features = {\n",
    "        'Mean': [mean],\n",
    "        'StdDev': [std],\n",
    "        'Skewness': [skewness],\n",
    "        'Kurtosis': [kurtosis],\n",
    "    }\n",
    "    \n",
    "    return pd.DataFrame(features)\n",
    "\n",
    "# Frequency-Domain Features\n",
    "def extract_frequency_domain_features(epoch, sample_rate):\n",
    "    freqs, psd = signal.welch(epoch, fs=sample_rate, axis=-1)\n",
    "    \n",
    "    # delta_power = np.sum(psd[(freqs >= 0.5) & (freqs <= 4)], axis=-1)\n",
    "    theta_power = np.sum(psd[(freqs >= 4) & (freqs <= 8)], axis=-1)\n",
    "    alpha_power = np.sum(psd[(freqs >= 8) & (freqs <= 13)], axis=-1)\n",
    "    beta_power = np.sum(psd[(freqs >= 13) & (freqs <= 30)], axis=-1)\n",
    "    # gamma_power = np.sum(psd[(freqs >= 30)], axis=-1)\n",
    "    \n",
    "    mean_freq = np.sum(freqs * psd, axis=-1) / np.sum(psd, axis=-1)\n",
    "    peak_freq = freqs[np.argmax(psd, axis=-1)]\n",
    "    \n",
    "    features = {\n",
    "        # 'DeltaPower': [delta_power],\n",
    "        'ThetaPower': [theta_power],\n",
    "        'AlphaPower': [alpha_power],\n",
    "        'BetaPower': [beta_power],\n",
    "        # 'GammaPower': [gamma_power],\n",
    "        'MeanFrequency': [mean_freq],\n",
    "        'PeakFrequency': [peak_freq]\n",
    "    }\n",
    "    \n",
    "    return pd.DataFrame(features)\n",
    "\n",
    "def extract_alpha_asymmetry(epoch, sample_rate, left_channel, right_channel):\n",
    "    freqs, psd_left = signal.welch(epoch[left_channel], fs=sample_rate)\n",
    "    _, psd_right = signal.welch(epoch[right_channel], fs=sample_rate)\n",
    "    \n",
    "    alpha_power_left = np.sum(psd_left[(freqs >= 8) & (freqs <= 13)])\n",
    "    alpha_power_right = np.sum(psd_right[(freqs >= 8) & (freqs <= 13)])\n",
    "    \n",
    "    alpha_asymmetry = np.log(alpha_power_left + 1e-10) - np.log(alpha_power_right + 1e-10)\n",
    "    \n",
    "    return alpha_asymmetry"
   ]
  },
  {
   "cell_type": "code",
   "execution_count": 134,
   "metadata": {},
   "outputs": [],
   "source": [
    "import re\n",
    "    \n",
    "\n",
    "def extract_features_from_eeg(eeg_data, \n",
    "                              sample_rate, \n",
    "                              ch_names, \n",
    "                              bad_channels,\n",
    "                              tmax = None,\n",
    "                              ch_inclusion_re = '.*',\n",
    "                              left_right_pairs = None\n",
    "                              ):\n",
    "    \n",
    "    # time-domain cutoff\n",
    "    if tmax:\n",
    "        eeg_data = eeg_data[:, :, :int(tmax*sample_rate)]\n",
    "\n",
    "    printed = False\n",
    "    n_trials, n_channels, n_times = eeg_data.shape\n",
    "    features = []\n",
    "    channes_used = set([])\n",
    "    \n",
    "    for i in range(n_trials):\n",
    "        trial_features = []\n",
    "\n",
    "        # Time and Frequency domain features\n",
    "        for j in range(n_channels):\n",
    "            # skip bad channels\n",
    "            if ch_names[j] in bad_channels or not re.match(ch_inclusion_re, ch_names[j]):\n",
    "                continue\n",
    "            else:\n",
    "                channes_used.add(ch_names[j])\n",
    "\n",
    "            epoch = eeg_data[i, j, :]\n",
    "\n",
    "            time_features = extract_time_domain_features(epoch)\n",
    "            freq_features = extract_frequency_domain_features(epoch, sample_rate)\n",
    "            \n",
    "            channel_features = pd.concat([time_features, freq_features], axis=1)\n",
    "            channel_features = channel_features.add_suffix(f'_{ch_names[j]}')\n",
    "            trial_features.append(channel_features)\n",
    "        \n",
    "        if not printed:\n",
    "            print('features per channel:', trial_features[0].shape)\n",
    "            print('num channels used:', len(trial_features))\n",
    "            printed = True\n",
    "            \n",
    "        # Alpha Asymmetry feature\n",
    "        if left_right_pairs:\n",
    "            for left_channel_name, right_channel_name in left_right_pairs:\n",
    "                if left_channel_name in ch_names and right_channel_name in ch_names:\n",
    "                    left_idx = ch_names.index(left_channel_name)\n",
    "                    right_idx = ch_names.index(right_channel_name)\n",
    "                    alpha_asymmetry = extract_alpha_asymmetry(eeg_data[i], sample_rate, left_idx, right_idx)\n",
    "                    asymmetry_feature = pd.DataFrame({'AlphaAsymmetry': [alpha_asymmetry]})\n",
    "                    asymmetry_feature = asymmetry_feature.add_suffix(f'_{left_channel_name}-{right_channel_name}')\n",
    "                    trial_features.append(asymmetry_feature)\n",
    "    \n",
    "        features.append(pd.concat(trial_features, axis=1))\n",
    "\n",
    "    features = pd.concat(features, axis=0)\n",
    "    \n",
    "    return features, channes_used"
   ]
  },
  {
   "cell_type": "code",
   "execution_count": 142,
   "metadata": {},
   "outputs": [
    {
     "data": {
      "text/plain": [
       "(1170, 64, 1024)"
      ]
     },
     "execution_count": 142,
     "metadata": {},
     "output_type": "execute_result"
    }
   ],
   "source": [
    "data.shape"
   ]
  },
  {
   "cell_type": "code",
   "execution_count": 164,
   "metadata": {},
   "outputs": [
    {
     "name": "stderr",
     "output_type": "stream",
     "text": [
      "Exception ignored in: Exception ignored in: <generator object tqdm.__iter__ at 0x144729c40>\n",
      "Traceback (most recent call last):\n",
      "  File \"/Users/arnavkapur/.pyenv/versions/3.10.12/lib/python3.10/site-packages/tqdm/std.py\", line 1196, in __iter__\n",
      "    self.close()\n",
      "  File \"/Users/arnavkapur/.pyenv/versions/3.10.12/lib/python3.10/site-packages/tqdm/notebook.py\", line 279, in close\n",
      "    self.disp(bar_style='danger', check_delay=False)\n",
      "  File \"/Users/arnavkapur/.pyenv/versions/3.10.12/lib/python3.10/site-packages/tqdm/notebook.py\", line 178, in display\n",
      "    pbar.bar_style = bar_style\n",
      "  File \"/Users/arnavkapur/.pyenv/versions/3.10.12/lib/python3.10/site-packages/traitlets/traitlets.py\", line 716, in __set__\n",
      "    self.set(obj, value)\n",
      "  File \"/Users/arnavkapur/.pyenv/versions/3.10.12/lib/python3.10/site-packages/traitlets/traitlets.py\", line 706, in set\n",
      "    obj._notify_trait(self.name, old_value, new_value)\n",
      "  File \"/Users/arnavkapur/.pyenv/versions/3.10.12/lib/python3.10/site-packages/traitlets/traitlets.py\", line 1513, in _notify_trait\n",
      "    self.notify_change(\n",
      "  File \"/Users/arnavkapur/.pyenv/versions/3.10.12/lib/python3.10/site-packages/ipywidgets/widgets/widget.py\", line 700, in notify_change\n",
      "    self.send_state(key=name)\n",
      "  File \"/Users/arnavkapur/.pyenv/versions/3.10.12/lib/python3.10/site-packages/ipywidgets/widgets/widget.py\", line 586, in send_state\n",
      "    self._send(msg, buffers=buffers)\n",
      "  File \"/Users/arnavkapur/.pyenv/versions/3.10.12/lib/python3.10/site-packages/ipywidgets/widgets/widget.py\", line 825, in _send\n",
      "    self.comm.send(data=msg, buffers=buffers)\n",
      "  File \"/Users/arnavkapur/.pyenv/versions/3.10.12/lib/python3.10/site-packages/comm/base_comm.py\", line 147, in send\n",
      "    self.publish_msg(\n",
      "  File \"/Users/arnavkapur/.pyenv/versions/3.10.12/lib/python3.10/site-packages/ipykernel/comm/comm.py\", line 37, in publish_msg\n",
      "    self.kernel.session.send(\n",
      "  File \"/Users/arnavkapur/.pyenv/versions/3.10.12/lib/python3.10/site-packages/jupyter_client/session.py\", line 863, in send\n",
      "    stream.send_multipart(to_send, copy=copy)\n",
      "  File \"/Users/arnavkapur/.pyenv/versions/3.10.12/lib/python3.10/site-packages/ipykernel/iostream.py\", line 346, in send_multipart\n",
      "    return self.io_thread.send_multipart(*args, **kwargs)\n",
      "  File \"/Users/arnavkapur/.pyenv/versions/3.10.12/lib/python3.10/site-packages/ipykernel/iostream.py\", line 276, in send_multipart\n",
      "    self.schedule(lambda: self._really_send(*args, **kwargs))\n",
      "  File \"/Users/arnavkapur/.pyenv/versions/3.10.12/lib/python3.10/site-packages/ipykernel/iostream.py\", line 267, in schedule\n",
      "    self._event_pipe.send(b\"\")\n",
      "  File \"/Users/arnavkapur/.pyenv/versions/3.10.12/lib/python3.10/site-packages/zmq/sugar/socket.py\", line 701, in send\n",
      "    return super().send(data, flags=flags, copy=copy, track=track)\n",
      "  File \"_zmq.py\", line 1092, in zmq.backend.cython._zmq.Socket.send\n",
      "  File \"_zmq.py\", line 1134, in zmq.backend.cython._zmq.Socket.send\n",
      "  File \"_zmq.py\", line 1209, in zmq.backend.cython._zmq._check_closed\n",
      "zmq.error.ZMQError: Socket operation on non-socket\n",
      "Exception ignored in sys.unraisablehook: <built-in function unraisablehook>\n",
      "Traceback (most recent call last):\n",
      "  File \"/Users/arnavkapur/.pyenv/versions/3.10.12/lib/python3.10/site-packages/ipykernel/iostream.py\", line 604, in flush\n",
      "    self.pub_thread.schedule(self._flush)\n",
      "  File \"/Users/arnavkapur/.pyenv/versions/3.10.12/lib/python3.10/site-packages/ipykernel/iostream.py\", line 267, in schedule\n",
      "    self._event_pipe.send(b\"\")\n",
      "  File \"/Users/arnavkapur/.pyenv/versions/3.10.12/lib/python3.10/site-packages/zmq/sugar/socket.py\", line 701, in send\n",
      "    return super().send(data, flags=flags, copy=copy, track=track)\n",
      "  File \"_zmq.py\", line 1092, in zmq.backend.cython._zmq.Socket.send\n",
      "  File \"_zmq.py\", line 1134, in zmq.backend.cython._zmq.Socket.send\n",
      "  File \"_zmq.py\", line 1209, in zmq.backend.cython._zmq._check_closed\n",
      "zmq.error.ZMQError: Socket operation on non-socket\n",
      "Exception ignored in sys.unraisablehook: <built-in function unraisablehook>\n",
      "Traceback (most recent call last):\n",
      "  File \"/Users/arnavkapur/.pyenv/versions/3.10.12/lib/python3.10/site-packages/wandb/sdk/lib/redirect.py\", line 645, in write\n",
      "    self._old_write(data)\n",
      "  File \"/Users/arnavkapur/.pyenv/versions/3.10.12/lib/python3.10/site-packages/ipykernel/iostream.py\", line 694, in write\n",
      "    self._schedule_flush()\n",
      "  File \"/Users/arnavkapur/.pyenv/versions/3.10.12/lib/python3.10/site-packages/ipykernel/iostream.py\", line 590, in _schedule_flush\n",
      "    self.pub_thread.schedule(_schedule_in_thread)\n",
      "  File \"/Users/arnavkapur/.pyenv/versions/3.10.12/lib/python3.10/site-packages/ipykernel/iostream.py\", line 267, in schedule\n",
      "    self._event_pipe.send(b\"\")\n",
      "  File \"/Users/arnavkapur/.pyenv/versions/3.10.12/lib/python3.10/site-packages/zmq/sugar/socket.py\", line 701, in send\n",
      "    return super().send(data, flags=flags, copy=copy, track=track)\n",
      "  File \"_zmq.py\", line 1092, in zmq.backend.cython._zmq.Socket.send\n",
      "  File \"_zmq.py\", line 1134, in zmq.backend.cython._zmq.Socket.send\n",
      "  File \"_zmq.py\", line 1209, in zmq.backend.cython._zmq._check_closed\n",
      "zmq.error.ZMQError: Socket operation on non-socket\n",
      "Traceback (most recent call last):\n",
      "  File \"/var/folders/w2/bjrs7bh539701pd5yx65p_cc0000gp/T/ipykernel_47008/2713334857.py\", line 6, in model_pipeline\n",
      "    train(model, train_dataloader, val_dataloader, loss_fn, optimizer, config)\n",
      "  File \"/var/folders/w2/bjrs7bh539701pd5yx65p_cc0000gp/T/ipykernel_47008/3461136753.py\", line 58, in train\n",
      "    print(f\"Epoch {epoch}: Train Loss: {train_loss:.3f}, Train Accuracy: {train_acc:.3f}, \"\n",
      "  File \"/Users/arnavkapur/.pyenv/versions/3.10.12/lib/python3.10/site-packages/wandb/sdk/lib/redirect.py\", line 645, in write\n",
      "    self._old_write(data)\n",
      "  File \"/Users/arnavkapur/.pyenv/versions/3.10.12/lib/python3.10/site-packages/ipykernel/iostream.py\", line 694, in write\n",
      "    self._schedule_flush()\n",
      "  File \"/Users/arnavkapur/.pyenv/versions/3.10.12/lib/python3.10/site-packages/ipykernel/iostream.py\", line 590, in _schedule_flush\n",
      "    self.pub_thread.schedule(_schedule_in_thread)\n",
      "  File \"/Users/arnavkapur/.pyenv/versions/3.10.12/lib/python3.10/site-packages/ipykernel/iostream.py\", line 267, in schedule\n",
      "    self._event_pipe.send(b\"\")\n",
      "  File \"/Users/arnavkapur/.pyenv/versions/3.10.12/lib/python3.10/site-packages/zmq/sugar/socket.py\", line 701, in send\n",
      "    return super().send(data, flags=flags, copy=copy, track=track)\n",
      "  File \"_zmq.py\", line 1092, in zmq.backend.cython._zmq.Socket.send\n",
      "  File \"_zmq.py\", line 1134, in zmq.backend.cython._zmq.Socket.send\n",
      "  File \"_zmq.py\", line 1209, in zmq.backend.cython._zmq._check_closed\n",
      "zmq.error.ZMQError: Socket operation on non-socket\n",
      "\u001b[34m\u001b[1mwandb\u001b[0m: \u001b[33mWARNING\u001b[0m Unable to render progress bar, see the user log for details\n",
      "\u001b[34m\u001b[1mwandb\u001b[0m: \u001b[32m\u001b[41mERROR\u001b[0m Problem finishing run\n"
     ]
    },
    {
     "name": "stdout",
     "output_type": "stream",
     "text": [
      "Epoch 36: Train Loss: 1.701, Train Accuracy: 27.083, Val Loss: 1.809, Val Accuracy: 20.833"
     ]
    },
    {
     "name": "stdout",
     "output_type": "stream",
     "text": [
      "features per channel: (1, 9)\n",
      "num channels used: 63\n",
      "   Mean_Fp1  StdDev_Fp1  Skewness_Fp1  Kurtosis_Fp1  ThetaPower_Fp1  \\\n",
      "0  0.235964    1.202949      1.463989      0.955751        0.177205   \n",
      "0  0.075508    0.799724      2.155030      4.038741        0.064566   \n",
      "0  0.100267    0.922660      2.275815      4.313613        0.128895   \n",
      "0  0.061135    0.542723      3.270230     10.743816        0.031897   \n",
      "0 -0.018494    0.715766      3.211309     10.218731        0.093647   \n",
      "\n",
      "   AlphaPower_Fp1  BetaPower_Fp1  MeanFrequency_Fp1  PeakFrequency_Fp1  \\\n",
      "0        0.014412       0.001587           3.324627                2.0   \n",
      "0        0.006961       0.001094           3.312412                2.0   \n",
      "0        0.012412       0.002309           3.156583                2.0   \n",
      "0        0.001384       0.000916           3.436963                2.0   \n",
      "0        0.007780       0.001177           3.161753                2.0   \n",
      "\n",
      "   Mean_Fpz  ...  PeakFrequency_PO8   Mean_Oz  StdDev_Oz  Skewness_Oz  \\\n",
      "0  0.118402  ...                2.0 -0.110760   1.680774     0.460626   \n",
      "0  0.081672  ...                2.0 -0.018245   0.822756     0.473668   \n",
      "0  0.112003  ...                2.0  0.060618   0.786309    -0.020507   \n",
      "0  0.063036  ...                2.0 -0.080995   0.838494     0.025344   \n",
      "0 -0.035889  ...                2.0  0.023405   0.723161    -0.154708   \n",
      "\n",
      "   Kurtosis_Oz  ThetaPower_Oz  AlphaPower_Oz  BetaPower_Oz  MeanFrequency_Oz  \\\n",
      "0     0.434432       0.113398       0.069475      0.199749         31.965033   \n",
      "0     1.088125       0.044973       0.041455      0.058183         35.456450   \n",
      "0     0.208566       0.038679       0.010565      0.051277         39.171856   \n",
      "0     0.221793       0.071091       0.050393      0.039713         28.226333   \n",
      "0     0.147285       0.050994       0.036815      0.050543         29.236919   \n",
      "\n",
      "   PeakFrequency_Oz  \n",
      "0               2.0  \n",
      "0               2.0  \n",
      "0               4.0  \n",
      "0               2.0  \n",
      "0               2.0  \n",
      "\n",
      "[5 rows x 567 columns]\n",
      "Channels used: {'C2', 'FCz', 'P3', 'P4', 'FC4', 'Fp2', 'C4', 'TP7', 'POz', 'F4', 'Pz', 'Cz', 'T7', 'F3', 'CP1', 'AF8', 'C6', 'P8', 'Oz', 'PO5', 'AF7', 'PO4', 'C5', 'O1', 'P2', 'AF4', 'C3', 'F8', 'Fp1', 'FC3', 'M2', 'CP5', 'PO3', 'PO6', 'PO7', 'P5', 'Fpz', 'M1', 'F5', 'F1', 'PO8', 'CP3', 'CP2', 'FC1', 'Fz', 'F7', 'CP6', 'P7', 'F6', 'FC6', 'P6', 'FC2', 'O2', 'FC5', 'T8', 'CP4', 'C1', 'TP8', 'FT8', 'FT7', 'P1', 'AF3', 'F2'}\n"
     ]
    }
   ],
   "source": [
    "# Example parameters\n",
    "import numpy as np\n",
    "from scipy import stats\n",
    "\n",
    "\n",
    "# data = np.load(data_path + 'P03_01.npy')\n",
    "# labels_path = '/Users/arnavkapur/Desktop/Analysis_Imagery/imagery2024/PREPROCESSED_DATA/S01/class_labels/'\n",
    "# labels = np.load(labels_path + 'group_P03_01.npy')\n",
    "\n",
    "\"\"\"Choose for out grouped by labels\"\"\"\n",
    "# data = np.load(\"/Users/arnavkapur/Desktop/Analysis_3DImagery/imagery2024/PREPROCESSED_DATA/2D/eeg/P03_2D.npy\")\n",
    "# labels = np.load('/Users/arnavkapur/Desktop/Analysis_3DImagery/imagery2024/PREPROCESSED_DATA/2D/class_labels/group_P03_2D.npy')\n",
    "# # data = np.transpose(data, (0, 2, 1))\n",
    "\n",
    "\"\"\"Choose for out grouped by trials \"\"\"\n",
    "data = np.load(\"/Users/arnavkapur/Desktop/Analysis_3DImagery/imagery2024/PREPROCESSED_DATA/2D/Saved_byTrial/eeg/eeg_P03_2D.npy\")\n",
    "labels = np.load('/Users/arnavkapur/Desktop/Analysis_3DImagery/imagery2024/PREPROCESSED_DATA/2D/Saved_byTrial/label/group_P03_2D.npy')\n",
    "\n",
    "sample_rate = 512  # Hz\n",
    "ch_names = ['Fp1', 'Fpz', 'Fp2', 'F7', 'F3', 'Fz', 'F4', 'F8', 'FC5', 'FC1', 'FC2', 'FC6', 'M1', \n",
    "                    'T7', 'C3', 'Cz', 'C4', 'T8', 'M2', 'CP5', 'CP1', 'CP2', 'CP6', 'P7', 'P3', 'Pz', \n",
    "                    'P4', 'P8', 'POz', 'O1', 'O2', 'EOG', 'AF7', 'AF3', 'AF4', 'AF8', 'F5', 'F1', 'F2', \n",
    "                    'F6', 'FC3', 'FCz', 'FC4', 'C5', 'C1', 'C2', 'C6', 'CP3', 'CP4', 'P5', 'P1', 'P2', \n",
    "                    'P6', 'PO5', 'PO3', 'PO4', 'PO6', 'FT7', 'FT8', 'TP7', 'TP8', 'PO7', 'PO8', 'Oz']\n",
    "bad_channels = ['EOG']  # No bad channels in this example\n",
    "tmax = 8  # Use the first 1 seconds of data (optional)\n",
    "ch_inclusion_re = '.*'  #'O1|O2|Oz|POz|PO3|PO4|Pz|P3|P4|PO7' # # Include all channels  'O1|O2|Oz'\n",
    "left_right_pairs = [('O1'), ('O2')]  # Example left-right pairs for alpha asymmetry\n",
    "\n",
    "\n",
    "# Extract features\n",
    "final_features, channels_used = extract_features_from_eeg(\n",
    "    eeg_data=data,\n",
    "    sample_rate=sample_rate,\n",
    "    ch_names=ch_names,\n",
    "    bad_channels=bad_channels,\n",
    "    tmax=tmax,\n",
    "    ch_inclusion_re=ch_inclusion_re,\n",
    "    left_right_pairs=left_right_pairs\n",
    ")\n",
    "\n",
    "# final_features will be a DataFrame containing all the extracted features\n",
    "print(final_features.head())\n",
    "print('Channels used:', channels_used)\n"
   ]
  },
  {
   "cell_type": "markdown",
   "metadata": {},
   "source": [
    "## Try PCA Analysis for feature extraction and dim reduction"
   ]
  },
  {
   "cell_type": "markdown",
   "metadata": {},
   "source": [
    "- Dimension reduction - simplify dataset (reducing features etc)\n",
    "- Preserving important variation \n",
    "- Variance and PC -> PC are lin combinations of var (PC1 highest var, PC2 orthogonal) \n",
    "- All components are uncorrleated and orthogonal to each other - ranked by variance\n",
    "- try here for SNR improvement \n",
    "\n",
    "1. Standartization - scale for mean of 0, sd =1 -> equal contribiution of features\n",
    "2. Covatiance Matrix - eigvect = max variance, eigenval = magnitude of var\n",
    "3. Data projected on slected Variance components for dim reduction\n",
    "\n",
    "\n",
    "\n",
    "\n"
   ]
  },
  {
   "cell_type": "markdown",
   "metadata": {},
   "source": [
    "### PCA Across Channels"
   ]
  },
  {
   "cell_type": "markdown",
   "metadata": {},
   "source": [
    "- Goal: Reduce the dimensionality of the 64 channels while retaining the temporal structure.\n",
    "- Steps:\n",
    "Reshape the data to combine the last two dimensions into one.\n",
    "Apply PCA to reduce the 64 channels.\n",
    "Reshape the data back if needed."
   ]
  },
  {
   "cell_type": "code",
   "execution_count": 5,
   "metadata": {},
   "outputs": [
    {
     "name": "stdout",
     "output_type": "stream",
     "text": [
      "(468, 4096, 10)\n"
     ]
    },
    {
     "data": {
      "image/png": "[encoded data removed]",
      "text/plain": [
       "<Figure size 800x600 with 1 Axes>"
      ]
     },
     "metadata": {},
     "output_type": "display_data"
    }
   ],
   "source": [
    "import numpy as np\n",
    "from sklearn.decomposition import PCA\n",
    "import matplotlib.pyplot as plt\n",
    "\n",
    "\n",
    "data_path = '/Users/arnavkapur/Desktop/Analysis_Imagery/imagery2024/PREPROCESSED_DATA/S01/eeg/'\n",
    "\n",
    "data = np.load(data_path + 'P03_01.npy')\n",
    "labels_path = '/Users/arnavkapur/Desktop/Analysis_Imagery/imagery2024/PREPROCESSED_DATA/S01/class_labels/'\n",
    "labels = np.load(labels_path + 'group_P03_01.npy')\n",
    "\n",
    "# Reshape to (468 * 4096, 64) for PCA across channels\n",
    "data_reshaped = data.reshape(-1, 64)\n",
    "\n",
    "# Apply PCA, reducing 64 channels to, for example, 10 components\n",
    "pca = PCA(n_components=10)\n",
    "data_pca = pca.fit_transform(data_reshaped)\n",
    "\n",
    "# Reshape back to (468, 4096, 10) if you need to keep the temporal structure\n",
    "data_pca_reshaped = data_pca.reshape(468, 4096, 10)\n",
    "\n",
    "print(data_pca_reshaped.shape)  # Output: (468, 4096, 10)\n",
    "\n",
    "\n",
    "\n",
    "# Plot the PCA result\n",
    "plt.figure(figsize=(8, 6))\n",
    "plt.scatter(data_pca[:, 0], data_pca[:, 1], c='blue', edgecolor='k')\n",
    "plt.xlabel('Principal Component 1')\n",
    "plt.ylabel('Principal Component 2')\n",
    "plt.title('PCA of Dataset')\n",
    "plt.grid()\n",
    "plt.show()"
   ]
  },
  {
   "cell_type": "markdown",
   "metadata": {},
   "source": [
    "### PCA Across Time"
   ]
  },
  {
   "cell_type": "markdown",
   "metadata": {},
   "source": [
    "- Goal: Reduce the dimensionality of the time dimension (4096) while retaining the spatial structure (channels).\n",
    "- Steps:\n",
    "Reshape the data to combine the first two dimensions (samples and channels).\n",
    "Apply PCA to reduce the time dimension.\n",
    "Reshape the data back if needed."
   ]
  },
  {
   "cell_type": "code",
   "execution_count": null,
   "metadata": {},
   "outputs": [
    {
     "name": "stdout",
     "output_type": "stream",
     "text": [
      "(468, 64, 100)\n"
     ]
    },
    {
     "data": {
      "image/png": "[encoded data removed]",
      "text/plain": [
       "<Figure size 800x600 with 1 Axes>"
      ]
     },
     "metadata": {},
     "output_type": "display_data"
    }
   ],
   "source": [
    "import numpy as np\n",
    "from sklearn.decomposition import PCA\n",
    "\n",
    "\n",
    "# Reshape to (468 * 64, 4096) for PCA across time\n",
    "data_reshaped = data.reshape(468 * 64, 4096)\n",
    "\n",
    "# Apply PCA, reducing 4096 time points to, for example, 100 components\n",
    "pca = PCA(n_components=100)\n",
    "data_pca = pca.fit_transform(data_reshaped)\n",
    "\n",
    "# Reshape back to (468, 64, 100) if you need to keep the spatial structure\n",
    "data_pca_reshaped = data_pca.reshape(468, 64, 100)\n",
    "\n",
    "print(data_pca_reshaped.shape)  # Output: (468, 64, 100)\n",
    "\n",
    "\n",
    "# Plot the PCA result\n",
    "plt.figure(figsize=(8, 6))\n",
    "plt.scatter(data_pca[:, 0], data_pca[:, 1], c='blue', edgecolor='k')\n",
    "plt.xlabel('Principal Component 1')\n",
    "plt.ylabel('Principal Component 2')\n",
    "plt.title('PCA of Dataset')\n",
    "plt.grid()\n",
    "plt.show()\n"
   ]
  },
  {
   "cell_type": "code",
   "execution_count": null,
   "metadata": {},
   "outputs": [
    {
     "data": {
      "image/png": "[encoded data removed]",
      "text/plain": [
       "<Figure size 1000x500 with 1 Axes>"
      ]
     },
     "metadata": {},
     "output_type": "display_data"
    },
    {
     "data": {
      "image/png": "[encoded data removed]",
      "text/plain": [
       "<Figure size 1000x500 with 1 Axes>"
      ]
     },
     "metadata": {},
     "output_type": "display_data"
    }
   ],
   "source": [
    "import numpy as np\n",
    "from sklearn.decomposition import PCA\n",
    "import matplotlib.pyplot as plt\n",
    "\n",
    "# Assuming 'eeg_data' is your data matrix with shape (n_samples, n_channels)\n",
    "# n_samples could be the number of time points or epochs, and n_channels is the number of EEG channels\n",
    "\n",
    "# Standardize the data if necessary\n",
    "eeg_data = (final_features - np.mean(final_features, axis=0)) / np.std(final_features, axis=0)\n",
    "\n",
    "# Apply PCA\n",
    "pca = PCA(n_components=0.95)  # Retain 95% of the variance\n",
    "principal_components = pca.fit_transform(final_features)\n",
    "\n",
    "# Variance explained by each principal component\n",
    "explained_variance = pca.explained_variance_ratio_\n",
    "\n",
    "# Scree plot\n",
    "plt.figure(figsize=(10, 5))\n",
    "plt.plot(np.cumsum(explained_variance))\n",
    "plt.xlabel('Number of Components')\n",
    "plt.ylabel('Cumulative Explained Variance')\n",
    "plt.title('Scree Plot')\n",
    "plt.show()\n",
    "\n",
    "# 2D scatter plot of the first two principal components\n",
    "plt.figure(figsize=(10, 5))\n",
    "plt.scatter(principal_components[:, 0], principal_components[:, 1], c='r')\n",
    "plt.xlabel('PC1')\n",
    "plt.ylabel('PC2')\n",
    "plt.grid()\n",
    "plt.title('2D PCA Scatter Plot')\n",
    "plt.show()\n"
   ]
  },
  {
   "cell_type": "markdown",
   "metadata": {},
   "source": [
    "### PCA for flattened data\n",
    "\n",
    "Goal: Reduce the dimensionality of the entire dataset by treating it as a large feature vector.\n",
    "Steps:\n",
    "Flatten the data to combine all dimensions into one.\n",
    "Apply PCA to reduce the overall dimensionality."
   ]
  },
  {
   "cell_type": "code",
   "execution_count": 6,
   "metadata": {},
   "outputs": [
    {
     "name": "stdout",
     "output_type": "stream",
     "text": [
      "(468, 100)\n"
     ]
    },
    {
     "data": {
      "image/png": "[encoded data removed]",
      "text/plain": [
       "<Figure size 1000x500 with 1 Axes>"
      ]
     },
     "metadata": {},
     "output_type": "display_data"
    }
   ],
   "source": [
    "# Flatten the data to (468, 64 * 4096)\n",
    "data_flattened = data.reshape(468, -1)\n",
    "\n",
    "# Apply PCA to reduce the overall dimensionality\n",
    "pca = PCA(n_components=100)  # Example: reduce to 100 components\n",
    "data_pca = pca.fit_transform(data_flattened)\n",
    "\n",
    "print(data_pca.shape)  # Output: (468, 100)\n",
    "\n",
    "plt.figure(figsize=(10, 5))\n",
    "plt.scatter(data_pca[:, 0], data_pca[:, 1], c='r')\n",
    "plt.xlabel('PC1')\n",
    "plt.ylabel('PC2')\n",
    "plt.grid()\n",
    "plt.title('2D PCA Scatter Plot')\n",
    "plt.show()\n",
    "\n"
   ]
  },
  {
   "cell_type": "code",
   "execution_count": 7,
   "metadata": {},
   "outputs": [
    {
     "name": "stdout",
     "output_type": "stream",
     "text": [
      "Filtered data shape: (465, 100)\n",
      "Filtered labels shape: (465,)\n"
     ]
    },
    {
     "data": {
      "image/png": "[encoded data removed]",
      "text/plain": [
       "<Figure size 1000x500 with 1 Axes>"
      ]
     },
     "metadata": {},
     "output_type": "display_data"
    },
    {
     "name": "stdout",
     "output_type": "stream",
     "text": [
      "Original data shape: (468, 100)\n",
      "Filtered data shape: (465, 100)\n"
     ]
    }
   ],
   "source": [
    "import numpy as np\n",
    "import matplotlib.pyplot as plt\n",
    "from sklearn.decomposition import PCA\n",
    "\n",
    "\n",
    "# Define the range for PC1 and PC2 to keep\n",
    "pc1_range = (-500, 500)\n",
    "pc2_range = (-250, 250)\n",
    "\n",
    "# Find the indices of the data points that fall within the specified ranges\n",
    "valid_indices = np.where(\n",
    "    (data_pca[:, 0] >= pc1_range[0]) & (data_pca[:, 0] <= pc1_range[1]) &\n",
    "    (data_pca[:, 1] >= pc2_range[0]) & (data_pca[:, 1] <= pc2_range[1])\n",
    ")[0]\n",
    "\n",
    "# Filter the data based on these indices\n",
    "data_pca_filtered = data_pca[valid_indices, :]\n",
    "\n",
    "# Filter labels based on same indices\n",
    "labels_filtered = labels[valid_indices]\n",
    "\n",
    "# Ensure that the filtered labels correspond to the filtered data\n",
    "print(f\"Filtered data shape: {data_pca_filtered.shape}\")  # Should be (N, 100)\n",
    "print(f\"Filtered labels shape: {labels_filtered.shape}\")  # Should be (N,)\n",
    "\n",
    "\n",
    "# Plot the filtered data\n",
    "plt.figure(figsize=(10, 5))\n",
    "plt.scatter(data_pca_filtered[:, 0], data_pca_filtered[:, 1], c=labels_filtered, cmap='viridis', alpha=0.7)\n",
    "plt.xlabel('PC1')\n",
    "plt.ylabel('PC2')\n",
    "plt.grid()\n",
    "plt.title('2D PCA Scatter Plot (Outliers Removed)')\n",
    "plt.show()\n",
    "\n",
    "print(f\"Original data shape: {data_pca.shape}\")\n",
    "print(f\"Filtered data shape: {data_pca_filtered.shape}\")\n"
   ]
  },
  {
   "cell_type": "markdown",
   "metadata": {},
   "source": [
    "## Features"
   ]
  },
  {
   "cell_type": "code",
   "execution_count": 137,
   "metadata": {
    "id": "s4sSUObKfjrD"
   },
   "outputs": [
    {
     "name": "stderr",
     "output_type": "stream",
     "text": [
      "/Users/arnavkapur/.pyenv/versions/3.10.12/lib/python3.10/site-packages/scipy/signal/_spectral_py.py:600: UserWarning: nperseg = 512 is greater than input length  = 64, using nperseg = 64\n",
      "  freqs, _, Pxy = _spectral_helper(x, y, fs, window, nperseg, noverlap,\n",
      "/Users/arnavkapur/.pyenv/versions/3.10.12/lib/python3.10/site-packages/numpy/core/fromnumeric.py:3504: RuntimeWarning: Mean of empty slice.\n",
      "  return _methods._mean(a, axis=axis, dtype=dtype,\n",
      "/Users/arnavkapur/.pyenv/versions/3.10.12/lib/python3.10/site-packages/numpy/core/_methods.py:129: RuntimeWarning: invalid value encountered in scalar divide\n",
      "  ret = ret.dtype.type(ret / rcount)\n"
     ]
    },
    {
     "ename": "KeyboardInterrupt",
     "evalue": "",
     "output_type": "error",
     "traceback": [
      "\u001b[0;31m---------------------------------------------------------------------------\u001b[0m",
      "\u001b[0;31mKeyboardInterrupt\u001b[0m                         Traceback (most recent call last)",
      "Cell \u001b[0;32mIn[137], line 96\u001b[0m\n\u001b[1;32m     94\u001b[0m delta_band_features[trial, channel] \u001b[38;5;241m=\u001b[39m bandpower(channel_data, fs, delta_band)\n\u001b[1;32m     95\u001b[0m theta_band_features[trial, channel] \u001b[38;5;241m=\u001b[39m bandpower(channel_data, fs, theta_band)\n\u001b[0;32m---> 96\u001b[0m alpha_band_features[trial, channel] \u001b[38;5;241m=\u001b[39m \u001b[43mbandpower\u001b[49m\u001b[43m(\u001b[49m\u001b[43mchannel_data\u001b[49m\u001b[43m,\u001b[49m\u001b[43m \u001b[49m\u001b[43mfs\u001b[49m\u001b[43m,\u001b[49m\u001b[43m \u001b[49m\u001b[43malpha_band\u001b[49m\u001b[43m)\u001b[49m\n\u001b[1;32m     97\u001b[0m beta_band_features[trial, channel] \u001b[38;5;241m=\u001b[39m bandpower(channel_data, fs, beta_band)\n\u001b[1;32m     98\u001b[0m gamma_band_features[trial, channel] \u001b[38;5;241m=\u001b[39m bandpower(channel_data, fs, gamma_band)\n",
      "Cell \u001b[0;32mIn[137], line 43\u001b[0m, in \u001b[0;36mbandpower\u001b[0;34m(data, sf, band)\u001b[0m\n\u001b[1;32m     42\u001b[0m \u001b[38;5;28;01mdef\u001b[39;00m \u001b[38;5;21mbandpower\u001b[39m(data, sf, band):\n\u001b[0;32m---> 43\u001b[0m     freqs, psd \u001b[38;5;241m=\u001b[39m \u001b[43mwelch\u001b[49m\u001b[43m(\u001b[49m\u001b[43mdata\u001b[49m\u001b[43m,\u001b[49m\u001b[43m \u001b[49m\u001b[43msf\u001b[49m\u001b[43m,\u001b[49m\u001b[43m \u001b[49m\u001b[43mnperseg\u001b[49m\u001b[38;5;241;43m=\u001b[39;49m\u001b[43mfs\u001b[49m\u001b[43m)\u001b[49m\n\u001b[1;32m     44\u001b[0m     idx_band \u001b[38;5;241m=\u001b[39m np\u001b[38;5;241m.\u001b[39mlogical_and(freqs \u001b[38;5;241m>\u001b[39m\u001b[38;5;241m=\u001b[39m band[\u001b[38;5;241m0\u001b[39m], freqs \u001b[38;5;241m<\u001b[39m\u001b[38;5;241m=\u001b[39m band[\u001b[38;5;241m1\u001b[39m])\n\u001b[1;32m     45\u001b[0m     \u001b[38;5;28;01mreturn\u001b[39;00m np\u001b[38;5;241m.\u001b[39mmean(psd[idx_band])\n",
      "File \u001b[0;32m~/.pyenv/versions/3.10.12/lib/python3.10/site-packages/scipy/signal/_spectral_py.py:462\u001b[0m, in \u001b[0;36mwelch\u001b[0;34m(x, fs, window, nperseg, noverlap, nfft, detrend, return_onesided, scaling, axis, average)\u001b[0m\n\u001b[1;32m    300\u001b[0m \u001b[38;5;28;01mdef\u001b[39;00m \u001b[38;5;21mwelch\u001b[39m(x, fs\u001b[38;5;241m=\u001b[39m\u001b[38;5;241m1.0\u001b[39m, window\u001b[38;5;241m=\u001b[39m\u001b[38;5;124m'\u001b[39m\u001b[38;5;124mhann\u001b[39m\u001b[38;5;124m'\u001b[39m, nperseg\u001b[38;5;241m=\u001b[39m\u001b[38;5;28;01mNone\u001b[39;00m, noverlap\u001b[38;5;241m=\u001b[39m\u001b[38;5;28;01mNone\u001b[39;00m, nfft\u001b[38;5;241m=\u001b[39m\u001b[38;5;28;01mNone\u001b[39;00m,\n\u001b[1;32m    301\u001b[0m           detrend\u001b[38;5;241m=\u001b[39m\u001b[38;5;124m'\u001b[39m\u001b[38;5;124mconstant\u001b[39m\u001b[38;5;124m'\u001b[39m, return_onesided\u001b[38;5;241m=\u001b[39m\u001b[38;5;28;01mTrue\u001b[39;00m, scaling\u001b[38;5;241m=\u001b[39m\u001b[38;5;124m'\u001b[39m\u001b[38;5;124mdensity\u001b[39m\u001b[38;5;124m'\u001b[39m,\n\u001b[1;32m    302\u001b[0m           axis\u001b[38;5;241m=\u001b[39m\u001b[38;5;241m-\u001b[39m\u001b[38;5;241m1\u001b[39m, average\u001b[38;5;241m=\u001b[39m\u001b[38;5;124m'\u001b[39m\u001b[38;5;124mmean\u001b[39m\u001b[38;5;124m'\u001b[39m):\n\u001b[1;32m    303\u001b[0m \u001b[38;5;250m    \u001b[39m\u001b[38;5;124mr\u001b[39m\u001b[38;5;124;03m\"\"\"\u001b[39;00m\n\u001b[1;32m    304\u001b[0m \u001b[38;5;124;03m    Estimate power spectral density using Welch's method.\u001b[39;00m\n\u001b[1;32m    305\u001b[0m \n\u001b[0;32m   (...)\u001b[0m\n\u001b[1;32m    460\u001b[0m \n\u001b[1;32m    461\u001b[0m \u001b[38;5;124;03m    \"\"\"\u001b[39;00m\n\u001b[0;32m--> 462\u001b[0m     freqs, Pxx \u001b[38;5;241m=\u001b[39m \u001b[43mcsd\u001b[49m\u001b[43m(\u001b[49m\u001b[43mx\u001b[49m\u001b[43m,\u001b[49m\u001b[43m \u001b[49m\u001b[43mx\u001b[49m\u001b[43m,\u001b[49m\u001b[43m \u001b[49m\u001b[43mfs\u001b[49m\u001b[38;5;241;43m=\u001b[39;49m\u001b[43mfs\u001b[49m\u001b[43m,\u001b[49m\u001b[43m \u001b[49m\u001b[43mwindow\u001b[49m\u001b[38;5;241;43m=\u001b[39;49m\u001b[43mwindow\u001b[49m\u001b[43m,\u001b[49m\u001b[43m \u001b[49m\u001b[43mnperseg\u001b[49m\u001b[38;5;241;43m=\u001b[39;49m\u001b[43mnperseg\u001b[49m\u001b[43m,\u001b[49m\n\u001b[1;32m    463\u001b[0m \u001b[43m                     \u001b[49m\u001b[43mnoverlap\u001b[49m\u001b[38;5;241;43m=\u001b[39;49m\u001b[43mnoverlap\u001b[49m\u001b[43m,\u001b[49m\u001b[43m \u001b[49m\u001b[43mnfft\u001b[49m\u001b[38;5;241;43m=\u001b[39;49m\u001b[43mnfft\u001b[49m\u001b[43m,\u001b[49m\u001b[43m \u001b[49m\u001b[43mdetrend\u001b[49m\u001b[38;5;241;43m=\u001b[39;49m\u001b[43mdetrend\u001b[49m\u001b[43m,\u001b[49m\n\u001b[1;32m    464\u001b[0m \u001b[43m                     \u001b[49m\u001b[43mreturn_onesided\u001b[49m\u001b[38;5;241;43m=\u001b[39;49m\u001b[43mreturn_onesided\u001b[49m\u001b[43m,\u001b[49m\u001b[43m \u001b[49m\u001b[43mscaling\u001b[49m\u001b[38;5;241;43m=\u001b[39;49m\u001b[43mscaling\u001b[49m\u001b[43m,\u001b[49m\n\u001b[1;32m    465\u001b[0m \u001b[43m                     \u001b[49m\u001b[43maxis\u001b[49m\u001b[38;5;241;43m=\u001b[39;49m\u001b[43maxis\u001b[49m\u001b[43m,\u001b[49m\u001b[43m \u001b[49m\u001b[43maverage\u001b[49m\u001b[38;5;241;43m=\u001b[39;49m\u001b[43maverage\u001b[49m\u001b[43m)\u001b[49m\n\u001b[1;32m    467\u001b[0m     \u001b[38;5;28;01mreturn\u001b[39;00m freqs, Pxx\u001b[38;5;241m.\u001b[39mreal\n",
      "File \u001b[0;32m~/.pyenv/versions/3.10.12/lib/python3.10/site-packages/scipy/signal/_spectral_py.py:600\u001b[0m, in \u001b[0;36mcsd\u001b[0;34m(x, y, fs, window, nperseg, noverlap, nfft, detrend, return_onesided, scaling, axis, average)\u001b[0m\n\u001b[1;32m    470\u001b[0m \u001b[38;5;28;01mdef\u001b[39;00m \u001b[38;5;21mcsd\u001b[39m(x, y, fs\u001b[38;5;241m=\u001b[39m\u001b[38;5;241m1.0\u001b[39m, window\u001b[38;5;241m=\u001b[39m\u001b[38;5;124m'\u001b[39m\u001b[38;5;124mhann\u001b[39m\u001b[38;5;124m'\u001b[39m, nperseg\u001b[38;5;241m=\u001b[39m\u001b[38;5;28;01mNone\u001b[39;00m, noverlap\u001b[38;5;241m=\u001b[39m\u001b[38;5;28;01mNone\u001b[39;00m, nfft\u001b[38;5;241m=\u001b[39m\u001b[38;5;28;01mNone\u001b[39;00m,\n\u001b[1;32m    471\u001b[0m         detrend\u001b[38;5;241m=\u001b[39m\u001b[38;5;124m'\u001b[39m\u001b[38;5;124mconstant\u001b[39m\u001b[38;5;124m'\u001b[39m, return_onesided\u001b[38;5;241m=\u001b[39m\u001b[38;5;28;01mTrue\u001b[39;00m, scaling\u001b[38;5;241m=\u001b[39m\u001b[38;5;124m'\u001b[39m\u001b[38;5;124mdensity\u001b[39m\u001b[38;5;124m'\u001b[39m,\n\u001b[1;32m    472\u001b[0m         axis\u001b[38;5;241m=\u001b[39m\u001b[38;5;241m-\u001b[39m\u001b[38;5;241m1\u001b[39m, average\u001b[38;5;241m=\u001b[39m\u001b[38;5;124m'\u001b[39m\u001b[38;5;124mmean\u001b[39m\u001b[38;5;124m'\u001b[39m):\n\u001b[1;32m    473\u001b[0m \u001b[38;5;250m    \u001b[39m\u001b[38;5;124mr\u001b[39m\u001b[38;5;124;03m\"\"\"\u001b[39;00m\n\u001b[1;32m    474\u001b[0m \u001b[38;5;124;03m    Estimate the cross power spectral density, Pxy, using Welch's method.\u001b[39;00m\n\u001b[1;32m    475\u001b[0m \n\u001b[0;32m   (...)\u001b[0m\n\u001b[1;32m    598\u001b[0m \n\u001b[1;32m    599\u001b[0m \u001b[38;5;124;03m    \"\"\"\u001b[39;00m\n\u001b[0;32m--> 600\u001b[0m     freqs, _, Pxy \u001b[38;5;241m=\u001b[39m \u001b[43m_spectral_helper\u001b[49m\u001b[43m(\u001b[49m\u001b[43mx\u001b[49m\u001b[43m,\u001b[49m\u001b[43m \u001b[49m\u001b[43my\u001b[49m\u001b[43m,\u001b[49m\u001b[43m \u001b[49m\u001b[43mfs\u001b[49m\u001b[43m,\u001b[49m\u001b[43m \u001b[49m\u001b[43mwindow\u001b[49m\u001b[43m,\u001b[49m\u001b[43m \u001b[49m\u001b[43mnperseg\u001b[49m\u001b[43m,\u001b[49m\u001b[43m \u001b[49m\u001b[43mnoverlap\u001b[49m\u001b[43m,\u001b[49m\n\u001b[1;32m    601\u001b[0m \u001b[43m                                     \u001b[49m\u001b[43mnfft\u001b[49m\u001b[43m,\u001b[49m\u001b[43m \u001b[49m\u001b[43mdetrend\u001b[49m\u001b[43m,\u001b[49m\u001b[43m \u001b[49m\u001b[43mreturn_onesided\u001b[49m\u001b[43m,\u001b[49m\u001b[43m \u001b[49m\u001b[43mscaling\u001b[49m\u001b[43m,\u001b[49m\n\u001b[1;32m    602\u001b[0m \u001b[43m                                     \u001b[49m\u001b[43maxis\u001b[49m\u001b[43m,\u001b[49m\u001b[43m \u001b[49m\u001b[43mmode\u001b[49m\u001b[38;5;241;43m=\u001b[39;49m\u001b[38;5;124;43m'\u001b[39;49m\u001b[38;5;124;43mpsd\u001b[39;49m\u001b[38;5;124;43m'\u001b[39;49m\u001b[43m)\u001b[49m\n\u001b[1;32m    604\u001b[0m     \u001b[38;5;66;03m# Average over windows.\u001b[39;00m\n\u001b[1;32m    605\u001b[0m     \u001b[38;5;28;01mif\u001b[39;00m \u001b[38;5;28mlen\u001b[39m(Pxy\u001b[38;5;241m.\u001b[39mshape) \u001b[38;5;241m>\u001b[39m\u001b[38;5;241m=\u001b[39m \u001b[38;5;241m2\u001b[39m \u001b[38;5;129;01mand\u001b[39;00m Pxy\u001b[38;5;241m.\u001b[39msize \u001b[38;5;241m>\u001b[39m \u001b[38;5;241m0\u001b[39m:\n",
      "File \u001b[0;32m~/.pyenv/versions/3.10.12/lib/python3.10/site-packages/scipy/signal/_spectral_py.py:1928\u001b[0m, in \u001b[0;36m_spectral_helper\u001b[0;34m(x, y, fs, window, nperseg, noverlap, nfft, detrend, return_onesided, scaling, axis, mode, boundary, padded)\u001b[0m\n\u001b[1;32m   1925\u001b[0m     freqs \u001b[38;5;241m=\u001b[39m sp_fft\u001b[38;5;241m.\u001b[39mrfftfreq(nfft, \u001b[38;5;241m1\u001b[39m\u001b[38;5;241m/\u001b[39mfs)\n\u001b[1;32m   1927\u001b[0m \u001b[38;5;66;03m# Perform the windowed FFTs\u001b[39;00m\n\u001b[0;32m-> 1928\u001b[0m result \u001b[38;5;241m=\u001b[39m \u001b[43m_fft_helper\u001b[49m\u001b[43m(\u001b[49m\u001b[43mx\u001b[49m\u001b[43m,\u001b[49m\u001b[43m \u001b[49m\u001b[43mwin\u001b[49m\u001b[43m,\u001b[49m\u001b[43m \u001b[49m\u001b[43mdetrend_func\u001b[49m\u001b[43m,\u001b[49m\u001b[43m \u001b[49m\u001b[43mnperseg\u001b[49m\u001b[43m,\u001b[49m\u001b[43m \u001b[49m\u001b[43mnoverlap\u001b[49m\u001b[43m,\u001b[49m\u001b[43m \u001b[49m\u001b[43mnfft\u001b[49m\u001b[43m,\u001b[49m\u001b[43m \u001b[49m\u001b[43msides\u001b[49m\u001b[43m)\u001b[49m\n\u001b[1;32m   1930\u001b[0m \u001b[38;5;28;01mif\u001b[39;00m \u001b[38;5;129;01mnot\u001b[39;00m same_data:\n\u001b[1;32m   1931\u001b[0m     \u001b[38;5;66;03m# All the same operations on the y data\u001b[39;00m\n\u001b[1;32m   1932\u001b[0m     result_y \u001b[38;5;241m=\u001b[39m _fft_helper(y, win, detrend_func, nperseg, noverlap, nfft,\n\u001b[1;32m   1933\u001b[0m                            sides)\n",
      "File \u001b[0;32m~/.pyenv/versions/3.10.12/lib/python3.10/site-packages/scipy/signal/_spectral_py.py:1995\u001b[0m, in \u001b[0;36m_fft_helper\u001b[0;34m(x, win, detrend_func, nperseg, noverlap, nfft, sides)\u001b[0m\n\u001b[1;32m   1993\u001b[0m \u001b[38;5;28;01melse\u001b[39;00m:\n\u001b[1;32m   1994\u001b[0m     step \u001b[38;5;241m=\u001b[39m nperseg \u001b[38;5;241m-\u001b[39m noverlap\n\u001b[0;32m-> 1995\u001b[0m     result \u001b[38;5;241m=\u001b[39m \u001b[43mnp\u001b[49m\u001b[38;5;241;43m.\u001b[39;49m\u001b[43mlib\u001b[49m\u001b[38;5;241;43m.\u001b[39;49m\u001b[43mstride_tricks\u001b[49m\u001b[38;5;241;43m.\u001b[39;49m\u001b[43msliding_window_view\u001b[49m\u001b[43m(\u001b[49m\n\u001b[1;32m   1996\u001b[0m \u001b[43m        \u001b[49m\u001b[43mx\u001b[49m\u001b[43m,\u001b[49m\u001b[43m \u001b[49m\u001b[43mwindow_shape\u001b[49m\u001b[38;5;241;43m=\u001b[39;49m\u001b[43mnperseg\u001b[49m\u001b[43m,\u001b[49m\u001b[43m \u001b[49m\u001b[43maxis\u001b[49m\u001b[38;5;241;43m=\u001b[39;49m\u001b[38;5;241;43m-\u001b[39;49m\u001b[38;5;241;43m1\u001b[39;49m\u001b[43m,\u001b[49m\u001b[43m \u001b[49m\u001b[43mwriteable\u001b[49m\u001b[38;5;241;43m=\u001b[39;49m\u001b[38;5;28;43;01mTrue\u001b[39;49;00m\n\u001b[1;32m   1997\u001b[0m \u001b[43m    \u001b[49m\u001b[43m)\u001b[49m\n\u001b[1;32m   1998\u001b[0m     result \u001b[38;5;241m=\u001b[39m result[\u001b[38;5;241m.\u001b[39m\u001b[38;5;241m.\u001b[39m\u001b[38;5;241m.\u001b[39m, \u001b[38;5;241m0\u001b[39m::step, :]\n\u001b[1;32m   2000\u001b[0m \u001b[38;5;66;03m# Detrend each data segment individually\u001b[39;00m\n",
      "File \u001b[0;32m~/.pyenv/versions/3.10.12/lib/python3.10/site-packages/numpy/lib/stride_tricks.py:309\u001b[0m, in \u001b[0;36msliding_window_view\u001b[0;34m(x, window_shape, axis, subok, writeable)\u001b[0m\n\u001b[1;32m    306\u001b[0m x \u001b[38;5;241m=\u001b[39m np\u001b[38;5;241m.\u001b[39marray(x, copy\u001b[38;5;241m=\u001b[39m\u001b[38;5;28;01mFalse\u001b[39;00m, subok\u001b[38;5;241m=\u001b[39msubok)\n\u001b[1;32m    308\u001b[0m window_shape_array \u001b[38;5;241m=\u001b[39m np\u001b[38;5;241m.\u001b[39marray(window_shape)\n\u001b[0;32m--> 309\u001b[0m \u001b[38;5;28;01mif\u001b[39;00m \u001b[43mnp\u001b[49m\u001b[38;5;241;43m.\u001b[39;49m\u001b[43many\u001b[49m\u001b[43m(\u001b[49m\u001b[43mwindow_shape_array\u001b[49m\u001b[43m \u001b[49m\u001b[38;5;241;43m<\u001b[39;49m\u001b[43m \u001b[49m\u001b[38;5;241;43m0\u001b[39;49m\u001b[43m)\u001b[49m:\n\u001b[1;32m    310\u001b[0m     \u001b[38;5;28;01mraise\u001b[39;00m \u001b[38;5;167;01mValueError\u001b[39;00m(\u001b[38;5;124m'\u001b[39m\u001b[38;5;124m`window_shape` cannot contain negative values\u001b[39m\u001b[38;5;124m'\u001b[39m)\n\u001b[1;32m    312\u001b[0m \u001b[38;5;28;01mif\u001b[39;00m axis \u001b[38;5;129;01mis\u001b[39;00m \u001b[38;5;28;01mNone\u001b[39;00m:\n",
      "File \u001b[0;32m~/.pyenv/versions/3.10.12/lib/python3.10/site-packages/numpy/core/fromnumeric.py:2412\u001b[0m, in \u001b[0;36many\u001b[0;34m(a, axis, out, keepdims, where)\u001b[0m\n\u001b[1;32m   2322\u001b[0m \u001b[38;5;129m@array_function_dispatch\u001b[39m(_any_dispatcher)\n\u001b[1;32m   2323\u001b[0m \u001b[38;5;28;01mdef\u001b[39;00m \u001b[38;5;21many\u001b[39m(a, axis\u001b[38;5;241m=\u001b[39m\u001b[38;5;28;01mNone\u001b[39;00m, out\u001b[38;5;241m=\u001b[39m\u001b[38;5;28;01mNone\u001b[39;00m, keepdims\u001b[38;5;241m=\u001b[39mnp\u001b[38;5;241m.\u001b[39m_NoValue, \u001b[38;5;241m*\u001b[39m, where\u001b[38;5;241m=\u001b[39mnp\u001b[38;5;241m.\u001b[39m_NoValue):\n\u001b[1;32m   2324\u001b[0m \u001b[38;5;250m    \u001b[39m\u001b[38;5;124;03m\"\"\"\u001b[39;00m\n\u001b[1;32m   2325\u001b[0m \u001b[38;5;124;03m    Test whether any array element along a given axis evaluates to True.\u001b[39;00m\n\u001b[1;32m   2326\u001b[0m \n\u001b[0;32m   (...)\u001b[0m\n\u001b[1;32m   2410\u001b[0m \n\u001b[1;32m   2411\u001b[0m \u001b[38;5;124;03m    \"\"\"\u001b[39;00m\n\u001b[0;32m-> 2412\u001b[0m     \u001b[38;5;28;01mreturn\u001b[39;00m \u001b[43m_wrapreduction\u001b[49m\u001b[43m(\u001b[49m\u001b[43ma\u001b[49m\u001b[43m,\u001b[49m\u001b[43m \u001b[49m\u001b[43mnp\u001b[49m\u001b[38;5;241;43m.\u001b[39;49m\u001b[43mlogical_or\u001b[49m\u001b[43m,\u001b[49m\u001b[43m \u001b[49m\u001b[38;5;124;43m'\u001b[39;49m\u001b[38;5;124;43many\u001b[39;49m\u001b[38;5;124;43m'\u001b[39;49m\u001b[43m,\u001b[49m\u001b[43m \u001b[49m\u001b[43maxis\u001b[49m\u001b[43m,\u001b[49m\u001b[43m \u001b[49m\u001b[38;5;28;43;01mNone\u001b[39;49;00m\u001b[43m,\u001b[49m\u001b[43m \u001b[49m\u001b[43mout\u001b[49m\u001b[43m,\u001b[49m\n\u001b[1;32m   2413\u001b[0m \u001b[43m                          \u001b[49m\u001b[43mkeepdims\u001b[49m\u001b[38;5;241;43m=\u001b[39;49m\u001b[43mkeepdims\u001b[49m\u001b[43m,\u001b[49m\u001b[43m \u001b[49m\u001b[43mwhere\u001b[49m\u001b[38;5;241;43m=\u001b[39;49m\u001b[43mwhere\u001b[49m\u001b[43m)\u001b[49m\n",
      "File \u001b[0;32m~/.pyenv/versions/3.10.12/lib/python3.10/site-packages/numpy/core/fromnumeric.py:88\u001b[0m, in \u001b[0;36m_wrapreduction\u001b[0;34m(obj, ufunc, method, axis, dtype, out, **kwargs)\u001b[0m\n\u001b[1;32m     85\u001b[0m         \u001b[38;5;28;01melse\u001b[39;00m:\n\u001b[1;32m     86\u001b[0m             \u001b[38;5;28;01mreturn\u001b[39;00m reduction(axis\u001b[38;5;241m=\u001b[39maxis, out\u001b[38;5;241m=\u001b[39mout, \u001b[38;5;241m*\u001b[39m\u001b[38;5;241m*\u001b[39mpasskwargs)\n\u001b[0;32m---> 88\u001b[0m \u001b[38;5;28;01mreturn\u001b[39;00m \u001b[43mufunc\u001b[49m\u001b[38;5;241;43m.\u001b[39;49m\u001b[43mreduce\u001b[49m\u001b[43m(\u001b[49m\u001b[43mobj\u001b[49m\u001b[43m,\u001b[49m\u001b[43m \u001b[49m\u001b[43maxis\u001b[49m\u001b[43m,\u001b[49m\u001b[43m \u001b[49m\u001b[43mdtype\u001b[49m\u001b[43m,\u001b[49m\u001b[43m \u001b[49m\u001b[43mout\u001b[49m\u001b[43m,\u001b[49m\u001b[43m \u001b[49m\u001b[38;5;241;43m*\u001b[39;49m\u001b[38;5;241;43m*\u001b[39;49m\u001b[43mpasskwargs\u001b[49m\u001b[43m)\u001b[49m\n",
      "\u001b[0;31mKeyboardInterrupt\u001b[0m: "
     ]
    }
   ],
   "source": [
    "from scipy.signal import resample\n",
    "import numpy as np\n",
    "from scipy.signal import welch\n",
    "\n",
    "#Get Data\n",
    "# data_path = '/Users/arnavkapur/Desktop/Analysis_Imagery/imagery2024/PREPROCESSED_DATA/S01/eeg/'\n",
    "\n",
    "# data = np.load(data_path + 'P03_01.npy')\n",
    "\n",
    "\n",
    "data = np.load('/Users/arnavkapur/Desktop/Analysis_3DImagery/imagery2024/PREPROCESSED_DATA/Sven_Prp/eeg/eeg_P03_2D.npy')\n",
    "labels = np.load('/Users/arnavkapur/Desktop/Analysis_3DImagery/imagery2024/PREPROCESSED_DATA/Sven_Prp/group_label/group_P03_2D.npy')\n",
    "\n",
    "\n",
    "\"\"\" Use the first 500ms of the data and downsample it for classfiacation\"\"\"\n",
    "\n",
    "# # Extract the first 256 samples (which corresponds to the first 500 ms)\n",
    "# first_500ms_data = data[:, :, :256]\n",
    "# print(\"New data shape:\", first_500ms_data.shape)  # This should print (468, 64, 256)\n",
    "\n",
    "\n",
    "# # # # Resample the data from 512 Hz to 256 Hz\n",
    "# n_samples = data.shape[-1] // 2  # Divide the number of samples by 2 to downsample\n",
    "# downsampled_data = resample(data, n_samples, axis=-1)\n",
    "# print(downsampled_data.shape)\n",
    "# data = downsampled_data\n",
    "\n",
    "fs = 512\n",
    "\n",
    "# Define frequency bands\n",
    "delta_band = (1, 4)\n",
    "theta_band = (4, 8)\n",
    "alpha_band = (8, 12)\n",
    "beta_band = (12, 30)\n",
    "gamma_band = (30, 100)\n",
    "sigma_band = (12, 16)\n",
    "\n",
    "\n",
    "\n",
    "\n",
    "# Function to calculate band power\n",
    "def bandpower(data, sf, band):\n",
    "    freqs, psd = welch(data, sf, nperseg=fs)\n",
    "    idx_band = np.logical_and(freqs >= band[0], freqs <= band[1])\n",
    "    return np.mean(psd[idx_band])\n",
    "\n",
    "# Calculate mean and peak frequency\n",
    "def mean_and_peak_frequency(data, sf):\n",
    "    freqs, psd = welch(data, sf, nperseg=fs)\n",
    "    mean_freq = np.sum(freqs * psd) / np.sum(psd)\n",
    "    peak_freq = freqs[np.argmax(psd)]\n",
    "    return mean_freq, peak_freq\n",
    "\n",
    "# Initialize feature arrays\n",
    "mean_features = np.zeros((data.shape[0], data.shape[1]))\n",
    "std_features = np.zeros((data.shape[0], data.shape[1]))\n",
    "delta_band_features = np.zeros((data.shape[0], data.shape[1]))\n",
    "theta_band_features = np.zeros((data.shape[0], data.shape[1]))\n",
    "alpha_band_features = np.zeros((data.shape[0], data.shape[1]))\n",
    "beta_band_features = np.zeros((data.shape[0], data.shape[1]))\n",
    "gamma_band_features = np.zeros((data.shape[0], data.shape[1]))\n",
    "sigma_band_features = np.zeros((data.shape[0], data.shape[1]))\n",
    "\n",
    "mean_freq_features = np.zeros((data.shape[0], data.shape[1]))\n",
    "peak_freq_features = np.zeros((data.shape[0], data.shape[1]))\n",
    "\n",
    "\n",
    "\n",
    "## Alpha asymmetry\n",
    "channel_pairs = [(0, 1)]  # Replace with actual pairs for your setup\n",
    "alpha_asymmetry_features = np.zeros((data.shape[0], len(channel_pairs)))\n",
    "\n",
    "\n",
    "\n",
    "\n",
    "# Set up wavelet scattering\n",
    "# J max scale ogf wavelet transform\n",
    "# # Q control the number of waveles per octave\n",
    "# scattering = Scattering1D(J=6, shape=data.shape[2], Q=8)  # J is log2(N) with N=signal length =4096 -> Jmax = 12,\n",
    "# example_input = data[0, 0, :]\n",
    "# scattering_coeffs_example = scattering(example_input)\n",
    "# scattering_features = np.zeros((data.shape[0], data.shape[1], scattering_coeffs_example.shape[0],scattering_coeffs_example.shape[1] ))\n",
    "\n",
    "\n",
    "# Compute features per channel\n",
    "for trial in range(data.shape[0]):\n",
    "    for channel in range(data.shape[1]):\n",
    "        channel_data = data[trial, channel, :]\n",
    "\n",
    "        mean_features[trial, channel] = np.mean(channel_data)\n",
    "        std_features[trial, channel] = np.std(channel_data)\n",
    "\n",
    "        # Band intensities\n",
    "        delta_band_features[trial, channel] = bandpower(channel_data, fs, delta_band)\n",
    "        theta_band_features[trial, channel] = bandpower(channel_data, fs, theta_band)\n",
    "        alpha_band_features[trial, channel] = bandpower(channel_data, fs, alpha_band)\n",
    "        beta_band_features[trial, channel] = bandpower(channel_data, fs, beta_band)\n",
    "        gamma_band_features[trial, channel] = bandpower(channel_data, fs, gamma_band)\n",
    "        sigma_band_features[trial, channel] = bandpower(channel_data, fs, sigma_band)\n",
    "\n",
    "         # Mean and peak frequency\n",
    "        mean_freq_features[trial, channel], peak_freq_features[trial, channel] = mean_and_peak_frequency(channel_data, fs)\n",
    "\n",
    "\n",
    "        # # Wavelet scattering\n",
    "        # scattering_coeffs = scattering(channel_data)\n",
    "        # scattering_features[trial, channel, :] = scattering_coeffs\n",
    "\n",
    "         # Compute alpha asymmetry for defined channel pairs\n",
    "    for idx, (ch1, ch2) in enumerate(channel_pairs):\n",
    "        alpha_asymmetry_features[trial, idx] = alpha_band_features[trial, ch1] - alpha_band_features[trial, ch2]\n",
    "\n",
    "\n",
    "combined_features = np.concatenate([\n",
    "    mean_features,\n",
    "    std_features,\n",
    "    delta_band_features,\n",
    "    theta_band_features,\n",
    "    alpha_band_features,\n",
    "    beta_band_features,\n",
    "    gamma_band_features,\n",
    "    sigma_band_features,\n",
    "    mean_freq_features,\n",
    "    peak_freq_features,\n",
    "    alpha_asymmetry_features,\n",
    "    # scattering_features.reshape(data.shape[0], -1)  # Flatten the scattering features\n",
    "], axis=1)\n",
    "\n",
    "print(\"Combined features shape:\", combined_features.shape)\n",
    "\n",
    "## alpha assymetry\n",
    "## Mean and peak frequency\n",
    "\n",
    "\n"
   ]
  },
  {
   "cell_type": "code",
   "execution_count": 78,
   "metadata": {},
   "outputs": [],
   "source": [
    "import numpy as np\n",
    "import pandas as pd\n",
    "\n",
    "# Example array with NaN values\n",
    "\n",
    "\n",
    "def interpolate_nan_rows(arr):\n",
    "    df = pd.DataFrame(arr)\n",
    "    # Interpolate NaN values row-wise\n",
    "    df = df.interpolate(method='linear', axis=1, limit_direction='both')\n",
    "    return df.to_numpy()\n",
    "\n",
    "interpolated_features = interpolate_nan_rows(combined_features)\n"
   ]
  },
  {
   "cell_type": "markdown",
   "metadata": {},
   "source": [
    "## Try Classificaiton for 2 classes\n"
   ]
  },
  {
   "cell_type": "code",
   "execution_count": 118,
   "metadata": {},
   "outputs": [
    {
     "name": "stderr",
     "output_type": "stream",
     "text": [
      "Exception ignored in: Exception ignored in: <generator object tqdm.__iter__ at 0x1445beb20>\n",
      "Traceback (most recent call last):\n",
      "  File \"/Users/arnavkapur/.pyenv/versions/3.10.12/lib/python3.10/site-packages/tqdm/std.py\", line 1196, in __iter__\n",
      "    self.close()\n",
      "  File \"/Users/arnavkapur/.pyenv/versions/3.10.12/lib/python3.10/site-packages/tqdm/notebook.py\", line 279, in close\n",
      "    self.disp(bar_style='danger', check_delay=False)\n",
      "  File \"/Users/arnavkapur/.pyenv/versions/3.10.12/lib/python3.10/site-packages/tqdm/notebook.py\", line 178, in display\n",
      "    pbar.bar_style = bar_style\n",
      "  File \"/Users/arnavkapur/.pyenv/versions/3.10.12/lib/python3.10/site-packages/traitlets/traitlets.py\", line 716, in __set__\n",
      "    self.set(obj, value)\n",
      "  File \"/Users/arnavkapur/.pyenv/versions/3.10.12/lib/python3.10/site-packages/traitlets/traitlets.py\", line 706, in set\n",
      "    obj._notify_trait(self.name, old_value, new_value)\n",
      "  File \"/Users/arnavkapur/.pyenv/versions/3.10.12/lib/python3.10/site-packages/traitlets/traitlets.py\", line 1513, in _notify_trait\n",
      "    self.notify_change(\n",
      "  File \"/Users/arnavkapur/.pyenv/versions/3.10.12/lib/python3.10/site-packages/ipywidgets/widgets/widget.py\", line 700, in notify_change\n",
      "    self.send_state(key=name)\n",
      "  File \"/Users/arnavkapur/.pyenv/versions/3.10.12/lib/python3.10/site-packages/ipywidgets/widgets/widget.py\", line 586, in send_state\n",
      "    self._send(msg, buffers=buffers)\n",
      "  File \"/Users/arnavkapur/.pyenv/versions/3.10.12/lib/python3.10/site-packages/ipywidgets/widgets/widget.py\", line 825, in _send\n",
      "    self.comm.send(data=msg, buffers=buffers)\n",
      "  File \"/Users/arnavkapur/.pyenv/versions/3.10.12/lib/python3.10/site-packages/comm/base_comm.py\", line 147, in send\n",
      "    self.publish_msg(\n",
      "  File \"/Users/arnavkapur/.pyenv/versions/3.10.12/lib/python3.10/site-packages/ipykernel/comm/comm.py\", line 37, in publish_msg\n",
      "    self.kernel.session.send(\n",
      "  File \"/Users/arnavkapur/.pyenv/versions/3.10.12/lib/python3.10/site-packages/jupyter_client/session.py\", line 863, in send\n",
      "    stream.send_multipart(to_send, copy=copy)\n",
      "  File \"/Users/arnavkapur/.pyenv/versions/3.10.12/lib/python3.10/site-packages/ipykernel/iostream.py\", line 346, in send_multipart\n",
      "    return self.io_thread.send_multipart(*args, **kwargs)\n",
      "  File \"/Users/arnavkapur/.pyenv/versions/3.10.12/lib/python3.10/site-packages/ipykernel/iostream.py\", line 276, in send_multipart\n",
      "    self.schedule(lambda: self._really_send(*args, **kwargs))\n",
      "  File \"/Users/arnavkapur/.pyenv/versions/3.10.12/lib/python3.10/site-packages/ipykernel/iostream.py\", line 267, in schedule\n",
      "    self._event_pipe.send(b\"\")\n",
      "  File \"/Users/arnavkapur/.pyenv/versions/3.10.12/lib/python3.10/site-packages/zmq/sugar/socket.py\", line 701, in send\n",
      "    return super().send(data, flags=flags, copy=copy, track=track)\n",
      "  File \"_zmq.py\", line 1092, in zmq.backend.cython._zmq.Socket.send\n",
      "  File \"_zmq.py\", line 1134, in zmq.backend.cython._zmq.Socket.send\n",
      "  File \"_zmq.py\", line 1209, in zmq.backend.cython._zmq._check_closed\n",
      "zmq.error.ZMQError: Socket operation on non-socket\n",
      "Exception ignored in sys.unraisablehook: <built-in function unraisablehook>\n",
      "Traceback (most recent call last):\n",
      "  File \"/Users/arnavkapur/.pyenv/versions/3.10.12/lib/python3.10/site-packages/ipykernel/iostream.py\", line 604, in flush\n",
      "    self.pub_thread.schedule(self._flush)\n",
      "  File \"/Users/arnavkapur/.pyenv/versions/3.10.12/lib/python3.10/site-packages/ipykernel/iostream.py\", line 267, in schedule\n",
      "    self._event_pipe.send(b\"\")\n",
      "  File \"/Users/arnavkapur/.pyenv/versions/3.10.12/lib/python3.10/site-packages/zmq/sugar/socket.py\", line 701, in send\n",
      "    return super().send(data, flags=flags, copy=copy, track=track)\n",
      "  File \"_zmq.py\", line 1092, in zmq.backend.cython._zmq.Socket.send\n",
      "  File \"_zmq.py\", line 1134, in zmq.backend.cython._zmq.Socket.send\n",
      "  File \"_zmq.py\", line 1209, in zmq.backend.cython._zmq._check_closed\n",
      "zmq.error.ZMQError: Socket operation on non-socket\n",
      "Exception ignored in sys.unraisablehook: <built-in function unraisablehook>\n",
      "Traceback (most recent call last):\n",
      "  File \"/Users/arnavkapur/.pyenv/versions/3.10.12/lib/python3.10/site-packages/wandb/sdk/lib/redirect.py\", line 645, in write\n",
      "    self._old_write(data)\n",
      "  File \"/Users/arnavkapur/.pyenv/versions/3.10.12/lib/python3.10/site-packages/ipykernel/iostream.py\", line 694, in write\n",
      "    self._schedule_flush()\n",
      "  File \"/Users/arnavkapur/.pyenv/versions/3.10.12/lib/python3.10/site-packages/ipykernel/iostream.py\", line 590, in _schedule_flush\n",
      "    self.pub_thread.schedule(_schedule_in_thread)\n",
      "  File \"/Users/arnavkapur/.pyenv/versions/3.10.12/lib/python3.10/site-packages/ipykernel/iostream.py\", line 267, in schedule\n",
      "    self._event_pipe.send(b\"\")\n",
      "  File \"/Users/arnavkapur/.pyenv/versions/3.10.12/lib/python3.10/site-packages/zmq/sugar/socket.py\", line 701, in send\n",
      "    return super().send(data, flags=flags, copy=copy, track=track)\n",
      "  File \"_zmq.py\", line 1092, in zmq.backend.cython._zmq.Socket.send\n",
      "  File \"_zmq.py\", line 1134, in zmq.backend.cython._zmq.Socket.send\n",
      "  File \"_zmq.py\", line 1209, in zmq.backend.cython._zmq._check_closed\n",
      "zmq.error.ZMQError: Socket operation on non-socket\n",
      "Traceback (most recent call last):\n",
      "  File \"/var/folders/w2/bjrs7bh539701pd5yx65p_cc0000gp/T/ipykernel_47008/2713334857.py\", line 6, in model_pipeline\n",
      "    train(model, train_dataloader, val_dataloader, loss_fn, optimizer, config)\n",
      "  File \"/var/folders/w2/bjrs7bh539701pd5yx65p_cc0000gp/T/ipykernel_47008/3461136753.py\", line 58, in train\n",
      "    print(f\"Epoch {epoch}: Train Loss: {train_loss:.3f}, Train Accuracy: {train_acc:.3f}, \"\n",
      "  File \"/Users/arnavkapur/.pyenv/versions/3.10.12/lib/python3.10/site-packages/wandb/sdk/lib/redirect.py\", line 645, in write\n",
      "    self._old_write(data)\n",
      "  File \"/Users/arnavkapur/.pyenv/versions/3.10.12/lib/python3.10/site-packages/ipykernel/iostream.py\", line 694, in write\n",
      "    self._schedule_flush()\n",
      "  File \"/Users/arnavkapur/.pyenv/versions/3.10.12/lib/python3.10/site-packages/ipykernel/iostream.py\", line 590, in _schedule_flush\n",
      "    self.pub_thread.schedule(_schedule_in_thread)\n",
      "  File \"/Users/arnavkapur/.pyenv/versions/3.10.12/lib/python3.10/site-packages/ipykernel/iostream.py\", line 267, in schedule\n",
      "    self._event_pipe.send(b\"\")\n",
      "  File \"/Users/arnavkapur/.pyenv/versions/3.10.12/lib/python3.10/site-packages/zmq/sugar/socket.py\", line 701, in send\n",
      "    return super().send(data, flags=flags, copy=copy, track=track)\n",
      "  File \"_zmq.py\", line 1092, in zmq.backend.cython._zmq.Socket.send\n",
      "  File \"_zmq.py\", line 1134, in zmq.backend.cython._zmq.Socket.send\n",
      "  File \"_zmq.py\", line 1209, in zmq.backend.cython._zmq._check_closed\n",
      "zmq.error.ZMQError: Socket operation on non-socket\n",
      "\u001b[34m\u001b[1mwandb\u001b[0m: \u001b[33mWARNING\u001b[0m Unable to render progress bar, see the user log for details\n",
      "\u001b[34m\u001b[1mwandb\u001b[0m: \u001b[32m\u001b[41mERROR\u001b[0m Problem finishing run\n"
     ]
    },
    {
     "name": "stdout",
     "output_type": "stream",
     "text": [
      "Epoch 81: Train Loss: 1.333, Train Accuracy: 48.438, Val Loss: 1.904, Val Accuracy: 19.196"
     ]
    },
    {
     "name": "stdout",
     "output_type": "stream",
     "text": [
      "Best parameters: {'C': 0.01, 'gamma': 'scale', 'kernel': 'linear'}\n",
      "Accuracy: 58.97%\n",
      "Loss: 0.663084\n",
      "Confusion Matrix:\n",
      "[[24 15]\n",
      " [17 22]]\n",
      "Classification Report:\n",
      "              precision    recall  f1-score   support\n",
      "\n",
      "           1       0.59      0.62      0.60        39\n",
      "           3       0.59      0.56      0.58        39\n",
      "\n",
      "    accuracy                           0.59        78\n",
      "   macro avg       0.59      0.59      0.59        78\n",
      "weighted avg       0.59      0.59      0.59        78\n"
     ]
    }
   ],
   "source": [
    "import numpy as np\n",
    "from sklearn import svm\n",
    "from sklearn.metrics import accuracy_score, confusion_matrix, log_loss, classification_report\n",
    "from sklearn.model_selection import train_test_split, GridSearchCV\n",
    "from sklearn.preprocessing import StandardScaler\n",
    "\n",
    "# Load your features and labels\n",
    "X_data = final_features\n",
    "y_labels = labels\n",
    "\n",
    "# Filter to include only two classes (e.g., classes 0 and 1)\n",
    "selected_classes = [1,2]  # Replace these with the actual class labels you want to classify\n",
    "filter_mask = np.isin(y_labels, selected_classes)\n",
    "\n",
    "X_data_filtered = X_data[filter_mask]\n",
    "y_labels_filtered = y_labels[filter_mask]\n",
    "\n",
    "# Optionally, you can relabel the classes to be 0 and 1 if they aren't already\n",
    "# y_labels_filtered = np.where(y_labels_filtered == selected_classes[0], 0, 1)\n",
    "\n",
    "# Split into training and test sets\n",
    "X_train, X_test, y_train, y_test = train_test_split(X_data_filtered, y_labels_filtered, test_size=0.2, random_state=33, stratify=y_labels_filtered)\n",
    "\n",
    "# Scale features\n",
    "scaler = StandardScaler()\n",
    "X_train = scaler.fit_transform(X_train)\n",
    "X_test = scaler.transform(X_test)\n",
    "\n",
    "# Hyperparameter tuning\n",
    "param_grid = {\n",
    "    'C': [0.01, 0.1, 1, 10, 100],\n",
    "    'kernel': ['linear', 'rbf'],\n",
    "    'gamma': ['scale', 'auto']\n",
    "}\n",
    "\n",
    "grid_search = GridSearchCV(svm.SVC(probability=True, class_weight='balanced'), param_grid, cv=5, scoring='accuracy')\n",
    "grid_search.fit(X_train, y_train)\n",
    "print(\"Best parameters:\", grid_search.best_params_)\n",
    "\n",
    "model = grid_search.best_estimator_\n",
    "\n",
    "# Predict class labels and probabilities\n",
    "y_pred = model.predict(X_test)\n",
    "y_pred_proba = model.predict_proba(X_test)\n",
    "\n",
    "# Evaluate model\n",
    "accuracy = accuracy_score(y_test, y_pred)\n",
    "print(f\"Accuracy: {accuracy * 100:.2f}%\")\n",
    "\n",
    "loss = log_loss(y_test, y_pred_proba)\n",
    "print(f\"Loss: {loss:.6f}\")\n",
    "\n",
    "print(\"Confusion Matrix:\")\n",
    "print(confusion_matrix(y_test, y_pred))\n",
    "\n",
    "print(\"Classification Report:\")\n",
    "print(classification_report(y_test, y_pred))\n"
   ]
  },
  {
   "cell_type": "markdown",
   "metadata": {
    "id": "zrCO3Bi5yIen"
   },
   "source": [
    "## SVM"
   ]
  },
  {
   "cell_type": "code",
   "execution_count": 141,
   "metadata": {},
   "outputs": [
    {
     "data": {
      "text/plain": [
       "(1170, 567)"
      ]
     },
     "execution_count": 141,
     "metadata": {},
     "output_type": "execute_result"
    }
   ],
   "source": [
    "final_features.shape"
   ]
  },
  {
   "cell_type": "code",
   "execution_count": 165,
   "metadata": {
    "id": "O0XIyxr7xo2w"
   },
   "outputs": [
    {
     "name": "stdout",
     "output_type": "stream",
     "text": [
      "Best parameters: {'C': 0.01, 'gamma': 'scale', 'kernel': 'linear'}\n",
      "Accuracy: 23.08%\n",
      "Loss: 1.775007\n",
      "Confusion Matrix:\n",
      "[[ 6  9  4 10  6  4]\n",
      " [ 7 16  2  6  7  1]\n",
      " [ 4  7  5  7 10  6]\n",
      " [ 9  3  7  6  8  6]\n",
      " [ 7  7  7  5  6  7]\n",
      " [ 2  7  4  6  5 15]]\n",
      "Classification Report:\n",
      "              precision    recall  f1-score   support\n",
      "\n",
      "           1       0.17      0.15      0.16        39\n",
      "           2       0.33      0.41      0.36        39\n",
      "           3       0.17      0.13      0.15        39\n",
      "           4       0.15      0.15      0.15        39\n",
      "           5       0.14      0.15      0.15        39\n",
      "           6       0.38      0.38      0.38        39\n",
      "\n",
      "    accuracy                           0.23       234\n",
      "   macro avg       0.22      0.23      0.23       234\n",
      "weighted avg       0.22      0.23      0.23       234\n"
     ]
    }
   ],
   "source": [
    "import numpy as np\n",
    "from sklearn import svm\n",
    "from sklearn.metrics import accuracy_score, confusion_matrix, log_loss, classification_report\n",
    "from sklearn.model_selection import train_test_split, GridSearchCV\n",
    "from sklearn.preprocessing import StandardScaler\n",
    "\n",
    "\n",
    "\n",
    "\n",
    "# labels_path = '/Users/arnavkapur/Desktop/Analysis_Imagery/imagery2024/PREPROCESSED_DATA/S01/class_labels/'\n",
    "# labels = np.load(labels_path + 'group_P03_01.npy')\n",
    "# # Load data\n",
    "X_data = final_features\n",
    "y_labels = labels\n",
    "\n",
    "# Split into training, validation, and test sets\n",
    "X_train, X_test, y_train, y_test = train_test_split(X_data, y_labels, test_size=0.2, random_state=33, stratify=y_labels)\n",
    "\n",
    "# X_train, X_temp, y_train, y_temp = train_test_split(X_data, y_labels, test_size=0.3, random_state=42, stratify=y_labels)\n",
    "# X_val, X_test, y_val, y_test = train_test_split(X_temp, y_temp, test_size=0.5, random_state=42, stratify=y_temp)\n",
    "\n",
    "# Scale features\n",
    "scaler = StandardScaler()\n",
    "X_train = scaler.fit_transform(X_train)\n",
    "# X_val = scaler.transform(X_val)\n",
    "X_test = scaler.transform(X_test)\n",
    "\n",
    "# Hyperparameter tuning\n",
    "param_grid = {\n",
    "    'C': [0.01, 0.1, 1, 10, 100],\n",
    "    'kernel': ['linear', 'rbf'],\n",
    "    'gamma': ['scale', 'auto']\n",
    "}\n",
    "\n",
    "grid_search = GridSearchCV(svm.SVC(probability=True, class_weight='balanced'), param_grid, cv=5, scoring='accuracy')\n",
    "grid_search.fit(X_train, y_train)\n",
    "print(\"Best parameters:\", grid_search.best_params_)\n",
    "\n",
    "model = grid_search.best_estimator_\n",
    "\n",
    "# Predict class labels and probabilities\n",
    "y_pred = model.predict(X_test)\n",
    "y_pred_proba = model.predict_proba(X_test)\n",
    "\n",
    "# Evaluate model\n",
    "accuracy = accuracy_score(y_test, y_pred)\n",
    "print(f\"Accuracy: {accuracy * 100:.2f}%\")\n",
    "\n",
    "loss = log_loss(y_test, y_pred_proba)\n",
    "print(f\"Loss: {loss:.6f}\")\n",
    "\n",
    "print(\"Confusion Matrix:\")\n",
    "print(confusion_matrix(y_test, y_pred))\n",
    "\n",
    "print(\"Classification Report:\")\n",
    "print(classification_report(y_test, y_pred))\n"
   ]
  },
  {
   "cell_type": "markdown",
   "metadata": {
    "id": "ptvF9v3JyOEQ"
   },
   "source": [
    "## Logistic Regression"
   ]
  },
  {
   "cell_type": "code",
   "execution_count": 19,
   "metadata": {
    "id": "aslgHlrmyP6E"
   },
   "outputs": [
    {
     "name": "stderr",
     "output_type": "stream",
     "text": [
      "/Users/arnavkapur/.pyenv/versions/3.10.12/lib/python3.10/site-packages/sklearn/linear_model/_logistic.py:1256: FutureWarning: 'multi_class' was deprecated in version 1.5 and will be removed in 1.7. Use OneVsRestClassifier(LogisticRegression(..)) instead. Leave it to its default value to avoid this warning.\n",
      "  warnings.warn(\n",
      "/Users/arnavkapur/.pyenv/versions/3.10.12/lib/python3.10/site-packages/sklearn/linear_model/_logistic.py:1256: FutureWarning: 'multi_class' was deprecated in version 1.5 and will be removed in 1.7. Use OneVsRestClassifier(LogisticRegression(..)) instead. Leave it to its default value to avoid this warning.\n",
      "  warnings.warn(\n",
      "/Users/arnavkapur/.pyenv/versions/3.10.12/lib/python3.10/site-packages/sklearn/linear_model/_logistic.py:1256: FutureWarning: 'multi_class' was deprecated in version 1.5 and will be removed in 1.7. Use OneVsRestClassifier(LogisticRegression(..)) instead. Leave it to its default value to avoid this warning.\n",
      "  warnings.warn(\n",
      "/Users/arnavkapur/.pyenv/versions/3.10.12/lib/python3.10/site-packages/sklearn/linear_model/_logistic.py:1256: FutureWarning: 'multi_class' was deprecated in version 1.5 and will be removed in 1.7. Use OneVsRestClassifier(LogisticRegression(..)) instead. Leave it to its default value to avoid this warning.\n",
      "  warnings.warn(\n",
      "/Users/arnavkapur/.pyenv/versions/3.10.12/lib/python3.10/site-packages/sklearn/linear_model/_logistic.py:1256: FutureWarning: 'multi_class' was deprecated in version 1.5 and will be removed in 1.7. Use OneVsRestClassifier(LogisticRegression(..)) instead. Leave it to its default value to avoid this warning.\n",
      "  warnings.warn(\n",
      "/Users/arnavkapur/.pyenv/versions/3.10.12/lib/python3.10/site-packages/sklearn/linear_model/_logistic.py:1256: FutureWarning: 'multi_class' was deprecated in version 1.5 and will be removed in 1.7. Use OneVsRestClassifier(LogisticRegression(..)) instead. Leave it to its default value to avoid this warning.\n",
      "  warnings.warn(\n",
      "/Users/arnavkapur/.pyenv/versions/3.10.12/lib/python3.10/site-packages/sklearn/linear_model/_logistic.py:1256: FutureWarning: 'multi_class' was deprecated in version 1.5 and will be removed in 1.7. Use OneVsRestClassifier(LogisticRegression(..)) instead. Leave it to its default value to avoid this warning.\n",
      "  warnings.warn(\n",
      "/Users/arnavkapur/.pyenv/versions/3.10.12/lib/python3.10/site-packages/sklearn/linear_model/_logistic.py:1256: FutureWarning: 'multi_class' was deprecated in version 1.5 and will be removed in 1.7. Use OneVsRestClassifier(LogisticRegression(..)) instead. Leave it to its default value to avoid this warning.\n",
      "  warnings.warn(\n",
      "/Users/arnavkapur/.pyenv/versions/3.10.12/lib/python3.10/site-packages/sklearn/linear_model/_logistic.py:1256: FutureWarning: 'multi_class' was deprecated in version 1.5 and will be removed in 1.7. Use OneVsRestClassifier(LogisticRegression(..)) instead. Leave it to its default value to avoid this warning.\n",
      "  warnings.warn(\n",
      "/Users/arnavkapur/.pyenv/versions/3.10.12/lib/python3.10/site-packages/sklearn/linear_model/_logistic.py:1256: FutureWarning: 'multi_class' was deprecated in version 1.5 and will be removed in 1.7. Use OneVsRestClassifier(LogisticRegression(..)) instead. Leave it to its default value to avoid this warning.\n",
      "  warnings.warn(\n",
      "/Users/arnavkapur/.pyenv/versions/3.10.12/lib/python3.10/site-packages/sklearn/linear_model/_logistic.py:1256: FutureWarning: 'multi_class' was deprecated in version 1.5 and will be removed in 1.7. Use OneVsRestClassifier(LogisticRegression(..)) instead. Leave it to its default value to avoid this warning.\n",
      "  warnings.warn(\n",
      "/Users/arnavkapur/.pyenv/versions/3.10.12/lib/python3.10/site-packages/sklearn/linear_model/_logistic.py:1256: FutureWarning: 'multi_class' was deprecated in version 1.5 and will be removed in 1.7. Use OneVsRestClassifier(LogisticRegression(..)) instead. Leave it to its default value to avoid this warning.\n",
      "  warnings.warn(\n",
      "/Users/arnavkapur/.pyenv/versions/3.10.12/lib/python3.10/site-packages/sklearn/linear_model/_logistic.py:1256: FutureWarning: 'multi_class' was deprecated in version 1.5 and will be removed in 1.7. Use OneVsRestClassifier(LogisticRegression(..)) instead. Leave it to its default value to avoid this warning.\n",
      "  warnings.warn(\n",
      "/Users/arnavkapur/.pyenv/versions/3.10.12/lib/python3.10/site-packages/sklearn/linear_model/_logistic.py:1256: FutureWarning: 'multi_class' was deprecated in version 1.5 and will be removed in 1.7. Use OneVsRestClassifier(LogisticRegression(..)) instead. Leave it to its default value to avoid this warning.\n",
      "  warnings.warn(\n",
      "/Users/arnavkapur/.pyenv/versions/3.10.12/lib/python3.10/site-packages/sklearn/linear_model/_logistic.py:1256: FutureWarning: 'multi_class' was deprecated in version 1.5 and will be removed in 1.7. Use OneVsRestClassifier(LogisticRegression(..)) instead. Leave it to its default value to avoid this warning.\n",
      "  warnings.warn(\n",
      "/Users/arnavkapur/.pyenv/versions/3.10.12/lib/python3.10/site-packages/sklearn/linear_model/_logistic.py:1256: FutureWarning: 'multi_class' was deprecated in version 1.5 and will be removed in 1.7. Use OneVsRestClassifier(LogisticRegression(..)) instead. Leave it to its default value to avoid this warning.\n",
      "  warnings.warn(\n",
      "/Users/arnavkapur/.pyenv/versions/3.10.12/lib/python3.10/site-packages/sklearn/linear_model/_logistic.py:1256: FutureWarning: 'multi_class' was deprecated in version 1.5 and will be removed in 1.7. Use OneVsRestClassifier(LogisticRegression(..)) instead. Leave it to its default value to avoid this warning.\n",
      "  warnings.warn(\n",
      "/Users/arnavkapur/.pyenv/versions/3.10.12/lib/python3.10/site-packages/sklearn/linear_model/_logistic.py:1256: FutureWarning: 'multi_class' was deprecated in version 1.5 and will be removed in 1.7. Use OneVsRestClassifier(LogisticRegression(..)) instead. Leave it to its default value to avoid this warning.\n",
      "  warnings.warn(\n",
      "/Users/arnavkapur/.pyenv/versions/3.10.12/lib/python3.10/site-packages/sklearn/linear_model/_logistic.py:1256: FutureWarning: 'multi_class' was deprecated in version 1.5 and will be removed in 1.7. Use OneVsRestClassifier(LogisticRegression(..)) instead. Leave it to its default value to avoid this warning.\n",
      "  warnings.warn(\n",
      "/Users/arnavkapur/.pyenv/versions/3.10.12/lib/python3.10/site-packages/sklearn/linear_model/_logistic.py:1256: FutureWarning: 'multi_class' was deprecated in version 1.5 and will be removed in 1.7. Use OneVsRestClassifier(LogisticRegression(..)) instead. Leave it to its default value to avoid this warning.\n",
      "  warnings.warn(\n",
      "/Users/arnavkapur/.pyenv/versions/3.10.12/lib/python3.10/site-packages/sklearn/linear_model/_logistic.py:1256: FutureWarning: 'multi_class' was deprecated in version 1.5 and will be removed in 1.7. Use OneVsRestClassifier(LogisticRegression(..)) instead. Leave it to its default value to avoid this warning.\n",
      "  warnings.warn(\n",
      "/Users/arnavkapur/.pyenv/versions/3.10.12/lib/python3.10/site-packages/sklearn/linear_model/_logistic.py:1256: FutureWarning: 'multi_class' was deprecated in version 1.5 and will be removed in 1.7. Use OneVsRestClassifier(LogisticRegression(..)) instead. Leave it to its default value to avoid this warning.\n",
      "  warnings.warn(\n",
      "/Users/arnavkapur/.pyenv/versions/3.10.12/lib/python3.10/site-packages/sklearn/linear_model/_logistic.py:1256: FutureWarning: 'multi_class' was deprecated in version 1.5 and will be removed in 1.7. Use OneVsRestClassifier(LogisticRegression(..)) instead. Leave it to its default value to avoid this warning.\n",
      "  warnings.warn(\n",
      "/Users/arnavkapur/.pyenv/versions/3.10.12/lib/python3.10/site-packages/sklearn/linear_model/_logistic.py:1256: FutureWarning: 'multi_class' was deprecated in version 1.5 and will be removed in 1.7. Use OneVsRestClassifier(LogisticRegression(..)) instead. Leave it to its default value to avoid this warning.\n",
      "  warnings.warn(\n",
      "/Users/arnavkapur/.pyenv/versions/3.10.12/lib/python3.10/site-packages/sklearn/linear_model/_logistic.py:1256: FutureWarning: 'multi_class' was deprecated in version 1.5 and will be removed in 1.7. Use OneVsRestClassifier(LogisticRegression(..)) instead. Leave it to its default value to avoid this warning.\n",
      "  warnings.warn(\n",
      "/Users/arnavkapur/.pyenv/versions/3.10.12/lib/python3.10/site-packages/sklearn/linear_model/_logistic.py:1256: FutureWarning: 'multi_class' was deprecated in version 1.5 and will be removed in 1.7. Use OneVsRestClassifier(LogisticRegression(..)) instead. Leave it to its default value to avoid this warning.\n",
      "  warnings.warn(\n",
      "/Users/arnavkapur/.pyenv/versions/3.10.12/lib/python3.10/site-packages/sklearn/linear_model/_logistic.py:1256: FutureWarning: 'multi_class' was deprecated in version 1.5 and will be removed in 1.7. Use OneVsRestClassifier(LogisticRegression(..)) instead. Leave it to its default value to avoid this warning.\n",
      "  warnings.warn(\n",
      "/Users/arnavkapur/.pyenv/versions/3.10.12/lib/python3.10/site-packages/sklearn/linear_model/_logistic.py:1256: FutureWarning: 'multi_class' was deprecated in version 1.5 and will be removed in 1.7. Use OneVsRestClassifier(LogisticRegression(..)) instead. Leave it to its default value to avoid this warning.\n",
      "  warnings.warn(\n",
      "/Users/arnavkapur/.pyenv/versions/3.10.12/lib/python3.10/site-packages/sklearn/linear_model/_logistic.py:1256: FutureWarning: 'multi_class' was deprecated in version 1.5 and will be removed in 1.7. Use OneVsRestClassifier(LogisticRegression(..)) instead. Leave it to its default value to avoid this warning.\n",
      "  warnings.warn(\n",
      "/Users/arnavkapur/.pyenv/versions/3.10.12/lib/python3.10/site-packages/sklearn/linear_model/_logistic.py:1256: FutureWarning: 'multi_class' was deprecated in version 1.5 and will be removed in 1.7. Use OneVsRestClassifier(LogisticRegression(..)) instead. Leave it to its default value to avoid this warning.\n",
      "  warnings.warn(\n",
      "/Users/arnavkapur/.pyenv/versions/3.10.12/lib/python3.10/site-packages/sklearn/linear_model/_logistic.py:1256: FutureWarning: 'multi_class' was deprecated in version 1.5 and will be removed in 1.7. Use OneVsRestClassifier(LogisticRegression(..)) instead. Leave it to its default value to avoid this warning.\n",
      "  warnings.warn(\n",
      "/Users/arnavkapur/.pyenv/versions/3.10.12/lib/python3.10/site-packages/sklearn/linear_model/_logistic.py:1256: FutureWarning: 'multi_class' was deprecated in version 1.5 and will be removed in 1.7. Use OneVsRestClassifier(LogisticRegression(..)) instead. Leave it to its default value to avoid this warning.\n",
      "  warnings.warn(\n",
      "/Users/arnavkapur/.pyenv/versions/3.10.12/lib/python3.10/site-packages/sklearn/linear_model/_logistic.py:1256: FutureWarning: 'multi_class' was deprecated in version 1.5 and will be removed in 1.7. Use OneVsRestClassifier(LogisticRegression(..)) instead. Leave it to its default value to avoid this warning.\n",
      "  warnings.warn(\n",
      "/Users/arnavkapur/.pyenv/versions/3.10.12/lib/python3.10/site-packages/sklearn/linear_model/_logistic.py:1256: FutureWarning: 'multi_class' was deprecated in version 1.5 and will be removed in 1.7. Use OneVsRestClassifier(LogisticRegression(..)) instead. Leave it to its default value to avoid this warning.\n",
      "  warnings.warn(\n",
      "/Users/arnavkapur/.pyenv/versions/3.10.12/lib/python3.10/site-packages/sklearn/linear_model/_logistic.py:1256: FutureWarning: 'multi_class' was deprecated in version 1.5 and will be removed in 1.7. Use OneVsRestClassifier(LogisticRegression(..)) instead. Leave it to its default value to avoid this warning.\n",
      "  warnings.warn(\n",
      "/Users/arnavkapur/.pyenv/versions/3.10.12/lib/python3.10/site-packages/sklearn/linear_model/_logistic.py:1256: FutureWarning: 'multi_class' was deprecated in version 1.5 and will be removed in 1.7. Use OneVsRestClassifier(LogisticRegression(..)) instead. Leave it to its default value to avoid this warning.\n",
      "  warnings.warn(\n",
      "/Users/arnavkapur/.pyenv/versions/3.10.12/lib/python3.10/site-packages/sklearn/linear_model/_logistic.py:1256: FutureWarning: 'multi_class' was deprecated in version 1.5 and will be removed in 1.7. Use OneVsRestClassifier(LogisticRegression(..)) instead. Leave it to its default value to avoid this warning.\n",
      "  warnings.warn(\n",
      "/Users/arnavkapur/.pyenv/versions/3.10.12/lib/python3.10/site-packages/sklearn/linear_model/_logistic.py:1256: FutureWarning: 'multi_class' was deprecated in version 1.5 and will be removed in 1.7. Use OneVsRestClassifier(LogisticRegression(..)) instead. Leave it to its default value to avoid this warning.\n",
      "  warnings.warn(\n",
      "/Users/arnavkapur/.pyenv/versions/3.10.12/lib/python3.10/site-packages/sklearn/linear_model/_logistic.py:1256: FutureWarning: 'multi_class' was deprecated in version 1.5 and will be removed in 1.7. Use OneVsRestClassifier(LogisticRegression(..)) instead. Leave it to its default value to avoid this warning.\n",
      "  warnings.warn(\n",
      "/Users/arnavkapur/.pyenv/versions/3.10.12/lib/python3.10/site-packages/sklearn/linear_model/_logistic.py:1256: FutureWarning: 'multi_class' was deprecated in version 1.5 and will be removed in 1.7. Use OneVsRestClassifier(LogisticRegression(..)) instead. Leave it to its default value to avoid this warning.\n",
      "  warnings.warn(\n",
      "/Users/arnavkapur/.pyenv/versions/3.10.12/lib/python3.10/site-packages/sklearn/linear_model/_logistic.py:1256: FutureWarning: 'multi_class' was deprecated in version 1.5 and will be removed in 1.7. Use OneVsRestClassifier(LogisticRegression(..)) instead. Leave it to its default value to avoid this warning.\n",
      "  warnings.warn(\n",
      "/Users/arnavkapur/.pyenv/versions/3.10.12/lib/python3.10/site-packages/sklearn/linear_model/_logistic.py:1256: FutureWarning: 'multi_class' was deprecated in version 1.5 and will be removed in 1.7. Use OneVsRestClassifier(LogisticRegression(..)) instead. Leave it to its default value to avoid this warning.\n",
      "  warnings.warn(\n",
      "/Users/arnavkapur/.pyenv/versions/3.10.12/lib/python3.10/site-packages/sklearn/linear_model/_logistic.py:1256: FutureWarning: 'multi_class' was deprecated in version 1.5 and will be removed in 1.7. Use OneVsRestClassifier(LogisticRegression(..)) instead. Leave it to its default value to avoid this warning.\n",
      "  warnings.warn(\n",
      "/Users/arnavkapur/.pyenv/versions/3.10.12/lib/python3.10/site-packages/sklearn/linear_model/_logistic.py:1256: FutureWarning: 'multi_class' was deprecated in version 1.5 and will be removed in 1.7. Use OneVsRestClassifier(LogisticRegression(..)) instead. Leave it to its default value to avoid this warning.\n",
      "  warnings.warn(\n",
      "/Users/arnavkapur/.pyenv/versions/3.10.12/lib/python3.10/site-packages/sklearn/linear_model/_logistic.py:1256: FutureWarning: 'multi_class' was deprecated in version 1.5 and will be removed in 1.7. Use OneVsRestClassifier(LogisticRegression(..)) instead. Leave it to its default value to avoid this warning.\n",
      "  warnings.warn(\n",
      "/Users/arnavkapur/.pyenv/versions/3.10.12/lib/python3.10/site-packages/sklearn/linear_model/_logistic.py:1256: FutureWarning: 'multi_class' was deprecated in version 1.5 and will be removed in 1.7. Use OneVsRestClassifier(LogisticRegression(..)) instead. Leave it to its default value to avoid this warning.\n",
      "  warnings.warn(\n",
      "/Users/arnavkapur/.pyenv/versions/3.10.12/lib/python3.10/site-packages/sklearn/linear_model/_logistic.py:1256: FutureWarning: 'multi_class' was deprecated in version 1.5 and will be removed in 1.7. Use OneVsRestClassifier(LogisticRegression(..)) instead. Leave it to its default value to avoid this warning.\n",
      "  warnings.warn(\n",
      "/Users/arnavkapur/.pyenv/versions/3.10.12/lib/python3.10/site-packages/sklearn/linear_model/_logistic.py:1256: FutureWarning: 'multi_class' was deprecated in version 1.5 and will be removed in 1.7. Use OneVsRestClassifier(LogisticRegression(..)) instead. Leave it to its default value to avoid this warning.\n",
      "  warnings.warn(\n",
      "/Users/arnavkapur/.pyenv/versions/3.10.12/lib/python3.10/site-packages/sklearn/linear_model/_logistic.py:1256: FutureWarning: 'multi_class' was deprecated in version 1.5 and will be removed in 1.7. Use OneVsRestClassifier(LogisticRegression(..)) instead. Leave it to its default value to avoid this warning.\n",
      "  warnings.warn(\n",
      "/Users/arnavkapur/.pyenv/versions/3.10.12/lib/python3.10/site-packages/sklearn/linear_model/_logistic.py:1256: FutureWarning: 'multi_class' was deprecated in version 1.5 and will be removed in 1.7. Use OneVsRestClassifier(LogisticRegression(..)) instead. Leave it to its default value to avoid this warning.\n",
      "  warnings.warn(\n",
      "/Users/arnavkapur/.pyenv/versions/3.10.12/lib/python3.10/site-packages/sklearn/linear_model/_logistic.py:1256: FutureWarning: 'multi_class' was deprecated in version 1.5 and will be removed in 1.7. Use OneVsRestClassifier(LogisticRegression(..)) instead. Leave it to its default value to avoid this warning.\n",
      "  warnings.warn(\n",
      "/Users/arnavkapur/.pyenv/versions/3.10.12/lib/python3.10/site-packages/sklearn/linear_model/_logistic.py:1256: FutureWarning: 'multi_class' was deprecated in version 1.5 and will be removed in 1.7. Use OneVsRestClassifier(LogisticRegression(..)) instead. Leave it to its default value to avoid this warning.\n",
      "  warnings.warn(\n",
      "/Users/arnavkapur/.pyenv/versions/3.10.12/lib/python3.10/site-packages/sklearn/linear_model/_logistic.py:1256: FutureWarning: 'multi_class' was deprecated in version 1.5 and will be removed in 1.7. Use OneVsRestClassifier(LogisticRegression(..)) instead. Leave it to its default value to avoid this warning.\n",
      "  warnings.warn(\n",
      "/Users/arnavkapur/.pyenv/versions/3.10.12/lib/python3.10/site-packages/sklearn/linear_model/_logistic.py:1256: FutureWarning: 'multi_class' was deprecated in version 1.5 and will be removed in 1.7. Use OneVsRestClassifier(LogisticRegression(..)) instead. Leave it to its default value to avoid this warning.\n",
      "  warnings.warn(\n",
      "/Users/arnavkapur/.pyenv/versions/3.10.12/lib/python3.10/site-packages/sklearn/linear_model/_logistic.py:1256: FutureWarning: 'multi_class' was deprecated in version 1.5 and will be removed in 1.7. Use OneVsRestClassifier(LogisticRegression(..)) instead. Leave it to its default value to avoid this warning.\n",
      "  warnings.warn(\n",
      "/Users/arnavkapur/.pyenv/versions/3.10.12/lib/python3.10/site-packages/sklearn/linear_model/_logistic.py:1256: FutureWarning: 'multi_class' was deprecated in version 1.5 and will be removed in 1.7. Use OneVsRestClassifier(LogisticRegression(..)) instead. Leave it to its default value to avoid this warning.\n",
      "  warnings.warn(\n",
      "/Users/arnavkapur/.pyenv/versions/3.10.12/lib/python3.10/site-packages/sklearn/linear_model/_logistic.py:1256: FutureWarning: 'multi_class' was deprecated in version 1.5 and will be removed in 1.7. Use OneVsRestClassifier(LogisticRegression(..)) instead. Leave it to its default value to avoid this warning.\n",
      "  warnings.warn(\n",
      "/Users/arnavkapur/.pyenv/versions/3.10.12/lib/python3.10/site-packages/sklearn/linear_model/_logistic.py:1256: FutureWarning: 'multi_class' was deprecated in version 1.5 and will be removed in 1.7. Use OneVsRestClassifier(LogisticRegression(..)) instead. Leave it to its default value to avoid this warning.\n",
      "  warnings.warn(\n",
      "/Users/arnavkapur/.pyenv/versions/3.10.12/lib/python3.10/site-packages/sklearn/linear_model/_logistic.py:1256: FutureWarning: 'multi_class' was deprecated in version 1.5 and will be removed in 1.7. Use OneVsRestClassifier(LogisticRegression(..)) instead. Leave it to its default value to avoid this warning.\n",
      "  warnings.warn(\n",
      "/Users/arnavkapur/.pyenv/versions/3.10.12/lib/python3.10/site-packages/sklearn/linear_model/_logistic.py:1256: FutureWarning: 'multi_class' was deprecated in version 1.5 and will be removed in 1.7. Use OneVsRestClassifier(LogisticRegression(..)) instead. Leave it to its default value to avoid this warning.\n",
      "  warnings.warn(\n",
      "/Users/arnavkapur/.pyenv/versions/3.10.12/lib/python3.10/site-packages/sklearn/linear_model/_logistic.py:1256: FutureWarning: 'multi_class' was deprecated in version 1.5 and will be removed in 1.7. Use OneVsRestClassifier(LogisticRegression(..)) instead. Leave it to its default value to avoid this warning.\n",
      "  warnings.warn(\n",
      "/Users/arnavkapur/.pyenv/versions/3.10.12/lib/python3.10/site-packages/sklearn/linear_model/_logistic.py:1256: FutureWarning: 'multi_class' was deprecated in version 1.5 and will be removed in 1.7. Use OneVsRestClassifier(LogisticRegression(..)) instead. Leave it to its default value to avoid this warning.\n",
      "  warnings.warn(\n",
      "/Users/arnavkapur/.pyenv/versions/3.10.12/lib/python3.10/site-packages/sklearn/linear_model/_logistic.py:1256: FutureWarning: 'multi_class' was deprecated in version 1.5 and will be removed in 1.7. Use OneVsRestClassifier(LogisticRegression(..)) instead. Leave it to its default value to avoid this warning.\n",
      "  warnings.warn(\n",
      "/Users/arnavkapur/.pyenv/versions/3.10.12/lib/python3.10/site-packages/sklearn/linear_model/_logistic.py:1256: FutureWarning: 'multi_class' was deprecated in version 1.5 and will be removed in 1.7. Use OneVsRestClassifier(LogisticRegression(..)) instead. Leave it to its default value to avoid this warning.\n",
      "  warnings.warn(\n",
      "/Users/arnavkapur/.pyenv/versions/3.10.12/lib/python3.10/site-packages/sklearn/linear_model/_logistic.py:1256: FutureWarning: 'multi_class' was deprecated in version 1.5 and will be removed in 1.7. Use OneVsRestClassifier(LogisticRegression(..)) instead. Leave it to its default value to avoid this warning.\n",
      "  warnings.warn(\n",
      "/Users/arnavkapur/.pyenv/versions/3.10.12/lib/python3.10/site-packages/sklearn/linear_model/_logistic.py:1256: FutureWarning: 'multi_class' was deprecated in version 1.5 and will be removed in 1.7. Use OneVsRestClassifier(LogisticRegression(..)) instead. Leave it to its default value to avoid this warning.\n",
      "  warnings.warn(\n",
      "/Users/arnavkapur/.pyenv/versions/3.10.12/lib/python3.10/site-packages/sklearn/linear_model/_logistic.py:1256: FutureWarning: 'multi_class' was deprecated in version 1.5 and will be removed in 1.7. Use OneVsRestClassifier(LogisticRegression(..)) instead. Leave it to its default value to avoid this warning.\n",
      "  warnings.warn(\n",
      "/Users/arnavkapur/.pyenv/versions/3.10.12/lib/python3.10/site-packages/sklearn/linear_model/_logistic.py:1256: FutureWarning: 'multi_class' was deprecated in version 1.5 and will be removed in 1.7. Use OneVsRestClassifier(LogisticRegression(..)) instead. Leave it to its default value to avoid this warning.\n",
      "  warnings.warn(\n",
      "/Users/arnavkapur/.pyenv/versions/3.10.12/lib/python3.10/site-packages/sklearn/linear_model/_logistic.py:1256: FutureWarning: 'multi_class' was deprecated in version 1.5 and will be removed in 1.7. Use OneVsRestClassifier(LogisticRegression(..)) instead. Leave it to its default value to avoid this warning.\n",
      "  warnings.warn(\n",
      "/Users/arnavkapur/.pyenv/versions/3.10.12/lib/python3.10/site-packages/sklearn/linear_model/_logistic.py:1256: FutureWarning: 'multi_class' was deprecated in version 1.5 and will be removed in 1.7. Use OneVsRestClassifier(LogisticRegression(..)) instead. Leave it to its default value to avoid this warning.\n",
      "  warnings.warn(\n",
      "/Users/arnavkapur/.pyenv/versions/3.10.12/lib/python3.10/site-packages/sklearn/linear_model/_logistic.py:1256: FutureWarning: 'multi_class' was deprecated in version 1.5 and will be removed in 1.7. Use OneVsRestClassifier(LogisticRegression(..)) instead. Leave it to its default value to avoid this warning.\n",
      "  warnings.warn(\n",
      "/Users/arnavkapur/.pyenv/versions/3.10.12/lib/python3.10/site-packages/sklearn/linear_model/_logistic.py:1256: FutureWarning: 'multi_class' was deprecated in version 1.5 and will be removed in 1.7. Use OneVsRestClassifier(LogisticRegression(..)) instead. Leave it to its default value to avoid this warning.\n",
      "  warnings.warn(\n",
      "/Users/arnavkapur/.pyenv/versions/3.10.12/lib/python3.10/site-packages/sklearn/linear_model/_logistic.py:1256: FutureWarning: 'multi_class' was deprecated in version 1.5 and will be removed in 1.7. Use OneVsRestClassifier(LogisticRegression(..)) instead. Leave it to its default value to avoid this warning.\n",
      "  warnings.warn(\n",
      "/Users/arnavkapur/.pyenv/versions/3.10.12/lib/python3.10/site-packages/sklearn/linear_model/_logistic.py:1256: FutureWarning: 'multi_class' was deprecated in version 1.5 and will be removed in 1.7. Use OneVsRestClassifier(LogisticRegression(..)) instead. Leave it to its default value to avoid this warning.\n",
      "  warnings.warn(\n",
      "/Users/arnavkapur/.pyenv/versions/3.10.12/lib/python3.10/site-packages/sklearn/linear_model/_logistic.py:1256: FutureWarning: 'multi_class' was deprecated in version 1.5 and will be removed in 1.7. Use OneVsRestClassifier(LogisticRegression(..)) instead. Leave it to its default value to avoid this warning.\n",
      "  warnings.warn(\n",
      "/Users/arnavkapur/.pyenv/versions/3.10.12/lib/python3.10/site-packages/sklearn/linear_model/_logistic.py:1256: FutureWarning: 'multi_class' was deprecated in version 1.5 and will be removed in 1.7. Use OneVsRestClassifier(LogisticRegression(..)) instead. Leave it to its default value to avoid this warning.\n",
      "  warnings.warn(\n",
      "/Users/arnavkapur/.pyenv/versions/3.10.12/lib/python3.10/site-packages/sklearn/linear_model/_logistic.py:1256: FutureWarning: 'multi_class' was deprecated in version 1.5 and will be removed in 1.7. Use OneVsRestClassifier(LogisticRegression(..)) instead. Leave it to its default value to avoid this warning.\n",
      "  warnings.warn(\n",
      "/Users/arnavkapur/.pyenv/versions/3.10.12/lib/python3.10/site-packages/sklearn/linear_model/_logistic.py:1256: FutureWarning: 'multi_class' was deprecated in version 1.5 and will be removed in 1.7. Use OneVsRestClassifier(LogisticRegression(..)) instead. Leave it to its default value to avoid this warning.\n",
      "  warnings.warn(\n",
      "/Users/arnavkapur/.pyenv/versions/3.10.12/lib/python3.10/site-packages/sklearn/linear_model/_logistic.py:1256: FutureWarning: 'multi_class' was deprecated in version 1.5 and will be removed in 1.7. Use OneVsRestClassifier(LogisticRegression(..)) instead. Leave it to its default value to avoid this warning.\n",
      "  warnings.warn(\n",
      "/Users/arnavkapur/.pyenv/versions/3.10.12/lib/python3.10/site-packages/sklearn/linear_model/_logistic.py:1256: FutureWarning: 'multi_class' was deprecated in version 1.5 and will be removed in 1.7. Use OneVsRestClassifier(LogisticRegression(..)) instead. Leave it to its default value to avoid this warning.\n",
      "  warnings.warn(\n",
      "/Users/arnavkapur/.pyenv/versions/3.10.12/lib/python3.10/site-packages/sklearn/linear_model/_logistic.py:1256: FutureWarning: 'multi_class' was deprecated in version 1.5 and will be removed in 1.7. Use OneVsRestClassifier(LogisticRegression(..)) instead. Leave it to its default value to avoid this warning.\n",
      "  warnings.warn(\n",
      "/Users/arnavkapur/.pyenv/versions/3.10.12/lib/python3.10/site-packages/sklearn/linear_model/_logistic.py:1256: FutureWarning: 'multi_class' was deprecated in version 1.5 and will be removed in 1.7. Use OneVsRestClassifier(LogisticRegression(..)) instead. Leave it to its default value to avoid this warning.\n",
      "  warnings.warn(\n",
      "/Users/arnavkapur/.pyenv/versions/3.10.12/lib/python3.10/site-packages/sklearn/linear_model/_logistic.py:1256: FutureWarning: 'multi_class' was deprecated in version 1.5 and will be removed in 1.7. Use OneVsRestClassifier(LogisticRegression(..)) instead. Leave it to its default value to avoid this warning.\n",
      "  warnings.warn(\n",
      "/Users/arnavkapur/.pyenv/versions/3.10.12/lib/python3.10/site-packages/sklearn/linear_model/_logistic.py:1256: FutureWarning: 'multi_class' was deprecated in version 1.5 and will be removed in 1.7. Use OneVsRestClassifier(LogisticRegression(..)) instead. Leave it to its default value to avoid this warning.\n",
      "  warnings.warn(\n",
      "/Users/arnavkapur/.pyenv/versions/3.10.12/lib/python3.10/site-packages/sklearn/linear_model/_logistic.py:1256: FutureWarning: 'multi_class' was deprecated in version 1.5 and will be removed in 1.7. Use OneVsRestClassifier(LogisticRegression(..)) instead. Leave it to its default value to avoid this warning.\n",
      "  warnings.warn(\n",
      "/Users/arnavkapur/.pyenv/versions/3.10.12/lib/python3.10/site-packages/sklearn/linear_model/_logistic.py:1256: FutureWarning: 'multi_class' was deprecated in version 1.5 and will be removed in 1.7. Use OneVsRestClassifier(LogisticRegression(..)) instead. Leave it to its default value to avoid this warning.\n",
      "  warnings.warn(\n",
      "/Users/arnavkapur/.pyenv/versions/3.10.12/lib/python3.10/site-packages/sklearn/linear_model/_logistic.py:1256: FutureWarning: 'multi_class' was deprecated in version 1.5 and will be removed in 1.7. Use OneVsRestClassifier(LogisticRegression(..)) instead. Leave it to its default value to avoid this warning.\n",
      "  warnings.warn(\n",
      "/Users/arnavkapur/.pyenv/versions/3.10.12/lib/python3.10/site-packages/sklearn/linear_model/_logistic.py:1256: FutureWarning: 'multi_class' was deprecated in version 1.5 and will be removed in 1.7. Use OneVsRestClassifier(LogisticRegression(..)) instead. Leave it to its default value to avoid this warning.\n",
      "  warnings.warn(\n",
      "/Users/arnavkapur/.pyenv/versions/3.10.12/lib/python3.10/site-packages/sklearn/linear_model/_logistic.py:1256: FutureWarning: 'multi_class' was deprecated in version 1.5 and will be removed in 1.7. Use OneVsRestClassifier(LogisticRegression(..)) instead. Leave it to its default value to avoid this warning.\n",
      "  warnings.warn(\n",
      "/Users/arnavkapur/.pyenv/versions/3.10.12/lib/python3.10/site-packages/sklearn/linear_model/_logistic.py:1256: FutureWarning: 'multi_class' was deprecated in version 1.5 and will be removed in 1.7. Use OneVsRestClassifier(LogisticRegression(..)) instead. Leave it to its default value to avoid this warning.\n",
      "  warnings.warn(\n",
      "/Users/arnavkapur/.pyenv/versions/3.10.12/lib/python3.10/site-packages/sklearn/linear_model/_logistic.py:1256: FutureWarning: 'multi_class' was deprecated in version 1.5 and will be removed in 1.7. Use OneVsRestClassifier(LogisticRegression(..)) instead. Leave it to its default value to avoid this warning.\n",
      "  warnings.warn(\n",
      "/Users/arnavkapur/.pyenv/versions/3.10.12/lib/python3.10/site-packages/sklearn/linear_model/_logistic.py:1256: FutureWarning: 'multi_class' was deprecated in version 1.5 and will be removed in 1.7. Use OneVsRestClassifier(LogisticRegression(..)) instead. Leave it to its default value to avoid this warning.\n",
      "  warnings.warn(\n",
      "/Users/arnavkapur/.pyenv/versions/3.10.12/lib/python3.10/site-packages/sklearn/linear_model/_logistic.py:1256: FutureWarning: 'multi_class' was deprecated in version 1.5 and will be removed in 1.7. Use OneVsRestClassifier(LogisticRegression(..)) instead. Leave it to its default value to avoid this warning.\n",
      "  warnings.warn(\n",
      "/Users/arnavkapur/.pyenv/versions/3.10.12/lib/python3.10/site-packages/sklearn/linear_model/_logistic.py:1256: FutureWarning: 'multi_class' was deprecated in version 1.5 and will be removed in 1.7. Use OneVsRestClassifier(LogisticRegression(..)) instead. Leave it to its default value to avoid this warning.\n",
      "  warnings.warn(\n",
      "/Users/arnavkapur/.pyenv/versions/3.10.12/lib/python3.10/site-packages/sklearn/linear_model/_logistic.py:1256: FutureWarning: 'multi_class' was deprecated in version 1.5 and will be removed in 1.7. Use OneVsRestClassifier(LogisticRegression(..)) instead. Leave it to its default value to avoid this warning.\n",
      "  warnings.warn(\n",
      "/Users/arnavkapur/.pyenv/versions/3.10.12/lib/python3.10/site-packages/sklearn/linear_model/_logistic.py:1256: FutureWarning: 'multi_class' was deprecated in version 1.5 and will be removed in 1.7. Use OneVsRestClassifier(LogisticRegression(..)) instead. Leave it to its default value to avoid this warning.\n",
      "  warnings.warn(\n",
      "/Users/arnavkapur/.pyenv/versions/3.10.12/lib/python3.10/site-packages/sklearn/linear_model/_logistic.py:1256: FutureWarning: 'multi_class' was deprecated in version 1.5 and will be removed in 1.7. Use OneVsRestClassifier(LogisticRegression(..)) instead. Leave it to its default value to avoid this warning.\n",
      "  warnings.warn(\n",
      "/Users/arnavkapur/.pyenv/versions/3.10.12/lib/python3.10/site-packages/sklearn/linear_model/_logistic.py:1256: FutureWarning: 'multi_class' was deprecated in version 1.5 and will be removed in 1.7. Use OneVsRestClassifier(LogisticRegression(..)) instead. Leave it to its default value to avoid this warning.\n",
      "  warnings.warn(\n",
      "/Users/arnavkapur/.pyenv/versions/3.10.12/lib/python3.10/site-packages/sklearn/linear_model/_logistic.py:1256: FutureWarning: 'multi_class' was deprecated in version 1.5 and will be removed in 1.7. Use OneVsRestClassifier(LogisticRegression(..)) instead. Leave it to its default value to avoid this warning.\n",
      "  warnings.warn(\n",
      "/Users/arnavkapur/.pyenv/versions/3.10.12/lib/python3.10/site-packages/sklearn/linear_model/_logistic.py:1256: FutureWarning: 'multi_class' was deprecated in version 1.5 and will be removed in 1.7. Use OneVsRestClassifier(LogisticRegression(..)) instead. Leave it to its default value to avoid this warning.\n",
      "  warnings.warn(\n",
      "/Users/arnavkapur/.pyenv/versions/3.10.12/lib/python3.10/site-packages/sklearn/linear_model/_logistic.py:1256: FutureWarning: 'multi_class' was deprecated in version 1.5 and will be removed in 1.7. Use OneVsRestClassifier(LogisticRegression(..)) instead. Leave it to its default value to avoid this warning.\n",
      "  warnings.warn(\n"
     ]
    },
    {
     "name": "stdout",
     "output_type": "stream",
     "text": [
      "Best parameters: {'C': 1, 'max_iter': 500, 'penalty': 'l2', 'solver': 'lbfgs'}\n",
      "Accuracy: 29.79%\n",
      "Loss: 3.551564\n",
      "Confusion Matrix:\n",
      "[[5 5 2 4 0 0]\n",
      " [4 5 2 0 2 2]\n",
      " [2 3 1 3 4 3]\n",
      " [1 0 4 7 1 3]\n",
      " [2 3 4 1 4 2]\n",
      " [1 3 3 1 1 6]]\n",
      "Classification Report:\n",
      "              precision    recall  f1-score   support\n",
      "\n",
      "           1       0.33      0.31      0.32        16\n",
      "           2       0.26      0.33      0.29        15\n",
      "           3       0.06      0.06      0.06        16\n",
      "           4       0.44      0.44      0.44        16\n",
      "           5       0.33      0.25      0.29        16\n",
      "           6       0.38      0.40      0.39        15\n",
      "\n",
      "    accuracy                           0.30        94\n",
      "   macro avg       0.30      0.30      0.30        94\n",
      "weighted avg       0.30      0.30      0.30        94\n",
      "\n",
      "ROC-AUC Score: 0.67\n"
     ]
    }
   ],
   "source": [
    "from sklearn.linear_model import LogisticRegression\n",
    "\n",
    "# Hyperparameter tuning\n",
    "param_grid = {\n",
    "    'C': [0.01, 0.1, 1, 10, 100],\n",
    "    'solver': ['lbfgs', 'liblinear'],\n",
    "    'max_iter': [500,1000],\n",
    "    'penalty': ['l2']}\n",
    "\n",
    "grid_search = GridSearchCV(LogisticRegression(multi_class='ovr', class_weight='balanced'), param_grid, cv=5, scoring='accuracy')\n",
    "grid_search.fit(X_train, y_train)\n",
    "print(\"Best parameters:\", grid_search.best_params_)\n",
    "\n",
    "model = grid_search.best_estimator_\n",
    "\n",
    "# Predict class labels and probabilities\n",
    "y_pred = model.predict(X_test)\n",
    "y_pred_proba = model.predict_proba(X_test)\n",
    "\n",
    "# Evaluate model\n",
    "accuracy = accuracy_score(y_test, y_pred)\n",
    "print(f\"Accuracy: {accuracy * 100:.2f}%\")\n",
    "\n",
    "loss = log_loss(y_test, y_pred_proba)\n",
    "print(f\"Loss: {loss:.6f}\")\n",
    "\n",
    "print(\"Confusion Matrix:\")\n",
    "print(confusion_matrix(y_test, y_pred))\n",
    "\n",
    "print(\"Classification Report:\")\n",
    "print(classification_report(y_test, y_pred))\n",
    "\n",
    "from sklearn.metrics import roc_auc_score, roc_curve\n",
    "import matplotlib.pyplot as plt\n",
    "\n",
    "# ROC-AUC Score\n",
    "roc_auc = roc_auc_score(y_test, y_pred_proba, multi_class='ovr')\n",
    "print(f\"ROC-AUC Score: {roc_auc:.2f}\")\n",
    "\n",
    "# # ROC Curve\n",
    "# fpr, tpr, _ = roc_curve(y_test, y_pred_proba[:, 1], pos_label=1)\n",
    "# plt.plot(fpr, tpr, marker='.')\n",
    "# plt.xlabel('False Positive Rate')\n",
    "# plt.ylabel('True Positive Rate')\n",
    "# plt.title('ROC Curve')\n",
    "# plt.show()"
   ]
  },
  {
   "cell_type": "markdown",
   "metadata": {
    "id": "vPfK5-Rw2vl2"
   },
   "source": [
    "## Random Forest Classificaiton"
   ]
  },
  {
   "cell_type": "code",
   "execution_count": null,
   "metadata": {
    "id": "Gony09982yJ9"
   },
   "outputs": [
    {
     "name": "stdout",
     "output_type": "stream",
     "text": [
      "Best parameters: {'bootstrap': True, 'max_depth': 20, 'min_samples_leaf': 4, 'min_samples_split': 10, 'n_estimators': 200}\n",
      "Accuracy: 30.85%\n",
      "Loss: 1.665736\n",
      "Confusion Matrix:\n",
      "[[8 1 0 1 6 0]\n",
      " [3 3 4 1 3 1]\n",
      " [1 1 1 0 7 6]\n",
      " [3 0 2 5 2 4]\n",
      " [5 3 0 1 4 3]\n",
      " [2 0 1 1 3 8]]\n",
      "Classification Report:\n",
      "              precision    recall  f1-score   support\n",
      "\n",
      "           1       0.36      0.50      0.42        16\n",
      "           2       0.38      0.20      0.26        15\n",
      "           3       0.12      0.06      0.08        16\n",
      "           4       0.56      0.31      0.40        16\n",
      "           5       0.16      0.25      0.20        16\n",
      "           6       0.36      0.53      0.43        15\n",
      "\n",
      "    accuracy                           0.31        94\n",
      "   macro avg       0.32      0.31      0.30        94\n",
      "weighted avg       0.32      0.31      0.30        94\n"
     ]
    }
   ],
   "source": [
    "import numpy as np\n",
    "from sklearn.ensemble import RandomForestClassifier\n",
    "from sklearn.metrics import accuracy_score, confusion_matrix, log_loss, classification_report\n",
    "from sklearn.model_selection import train_test_split, GridSearchCV\n",
    "from sklearn.preprocessing import StandardScaler\n",
    "\n",
    "# Load data\n",
    "X_data = combined_features\n",
    "y_labels = labels\n",
    "\n",
    "# Split into training, validation, and test sets\n",
    "X_train, X_test, y_train, y_test = train_test_split(X_data, y_labels, test_size=0.2, random_state=33, stratify=y_labels)\n",
    "\n",
    "# Scale features\n",
    "scaler = StandardScaler()\n",
    "X_train = scaler.fit_transform(X_train)\n",
    "X_test = scaler.transform(X_test)\n",
    "\n",
    "# Hyperparameter tuning\n",
    "param_grid = {\n",
    "    'n_estimators': [100, 200, 300],\n",
    "    'max_depth': [10, 20, None],\n",
    "    'min_samples_split': [2, 5, 10],\n",
    "    'min_samples_leaf': [1, 2, 4],\n",
    "    'bootstrap': [True, False]\n",
    "}\n",
    "\n",
    "grid_search = GridSearchCV(RandomForestClassifier(class_weight='balanced', random_state=33), param_grid, cv=5, scoring='accuracy')\n",
    "grid_search.fit(X_train, y_train)\n",
    "print(\"Best parameters:\", grid_search.best_params_)\n",
    "\n",
    "model = grid_search.best_estimator_\n",
    "\n",
    "# Predict class labels and probabilities\n",
    "y_pred = model.predict(X_test)\n",
    "y_pred_proba = model.predict_proba(X_test)\n",
    "\n",
    "# Evaluate model\n",
    "accuracy = accuracy_score(y_test, y_pred)\n",
    "print(f\"Accuracy: {accuracy * 100:.2f}%\")\n",
    "\n",
    "loss = log_loss(y_test, y_pred_proba)\n",
    "print(f\"Loss: {loss:.6f}\")\n",
    "\n",
    "print(\"Confusion Matrix:\")\n",
    "print(confusion_matrix(y_test, y_pred))\n",
    "\n",
    "print(\"Classification Report:\")\n",
    "print(classification_report(y_test, y_pred))\n"
   ]
  },
  {
   "cell_type": "markdown",
   "metadata": {
    "id": "jW9CismsDYiY"
   },
   "source": [
    "## Play with EEG GAN - feature extraction Model"
   ]
  },
  {
   "cell_type": "code",
   "execution_count": null,
   "metadata": {
    "id": "Ipf2xOWoDcuq"
   },
   "outputs": [],
   "source": [
    "!pip install tensorflow-addons\n",
    "!pip install tensorflow-addons==0.21.0\n",
    "!pip install kymatio\n",
    "!pip install keras==2.14.0\n",
    "import tensorflow as tf\n",
    "from tensorflow import keras\n",
    "from keras.optimizers import SGD, RMSprop\n",
    "import tensorflow as tf\n",
    "from tensorflow.keras import Model, models, layers, regularizers\n",
    "import tensorflow_addons as tfa\n",
    "\n",
    "weight_decay = 1e-4\n",
    "\n",
    "def enc_conv_block(filters, kernel, strides, padding, rate):\n",
    "\treturn models.Sequential([\n",
    "\t\t\tlayers.Conv1D(filters=filters, kernel_size=kernel, strides=strides, padding=padding),\n",
    "\t\t\tlayers.Activation(activation='leaky_relu'),\n",
    "\t\t\tlayers.BatchNormalization(),\n",
    "\t\t\tlayers.Dropout(rate=rate)\n",
    "\t\t])\n",
    "\n",
    "\n",
    "class TripleNet(Model):\n",
    "\tdef __init__(self, n_classes=10, n_features=128):\n",
    "\t\tsuper(TripleNet, self).__init__()\n",
    "\t\t# filters   = [ 8,  16,  n_features]\n",
    "\t\t# ret_seq   = [ True, True, False]\n",
    "\t\tfilters   = [ 32,  n_features]\n",
    "\t\tret_seq   = [ True, False]\n",
    "\t\t# strides = [ 1,   2,  2,   2,]\n",
    "\t\t# kernel  = [ 7,   7,  3,   3,]\n",
    "\t\t# padding = ['same', 'same', 'same', 'same']\n",
    "\t\tself.enc_depth  = len(filters)\n",
    "\t\t# self.encoder    = [enc_conv_block(filters[idx], kernel[idx], strides[idx], padding[idx], rate=0.1) for idx in range(self.enc_depth)]\n",
    "\t\tself.encoder   = [layers.LSTM(units=filters[idx], return_sequences=ret_seq[idx]) for idx in range(self.enc_depth)]\n",
    "\t\tself.flat      = layers.Flatten()\n",
    "\t\tself.w_1       = layers.Dense(units=n_features, activation='leaky_relu')\n",
    "\t\tself.w_2       = layers.Dense(units=n_features)\n",
    "\t\t# self.feat_norm  = layers.BatchNormalization()\n",
    "\t\t# self.cls_layer  = layers.Dense(units=n_classes, kernel_regularizer=regularizers.l2(weight_decay))\n",
    "\n",
    "\tdef call(self, x):\n",
    "\t\tfor idx in range(self.enc_depth):\n",
    "\t\t\tx = self.encoder[idx]( x )\n",
    "\t\t# print(x.shape)\n",
    "\t\tx = feat = self.flat( x )\n",
    "\t\t# print(x.shape)\n",
    "\t\t# x = feat = self.feat_layer( x )\n",
    "\t\t# print(x.shape)\n",
    "\t\t# x = self.feat_norm( x )\n",
    "\t\t# x = self.cls_layer(x)\n",
    "\t\t# x = self.w_2( self.w_1( x ) )\n",
    "\t\tx = tf.nn.l2_normalize(x, axis=-1)\n",
    "\n",
    "\t\treturn x, feat\n",
    "\n",
    "@tf.function\n",
    "def train_step(softnet, opt, X, Y):\n",
    "\twith tf.GradientTape() as tape:\n",
    "\t\tY_emb, _ = softnet(X, training=True)\n",
    "\t\t# loss  = tf.keras.losses.SparseCategoricalCrossentropy(from_logits=True)(Y, Y_emb)\n",
    "\t\tloss  = tfa.losses.TripletSemiHardLoss()(Y, Y_emb)\n",
    "\tvariables = softnet.trainable_variables\n",
    "\tgradients = tape.gradient(loss, variables)\n",
    "\topt.apply_gradients(zip(gradients, variables))\n",
    "\treturn loss\n",
    "\n",
    "@tf.function\n",
    "def test_step(softnet, X, Y):\n",
    "\tY_emb, _ = softnet(X, training=False)\n",
    "\tloss  = tfa.losses.TripletSemiHardLoss()(Y, Y_emb)\n",
    "\t# loss  = tf.keras.losses.SparseCategoricalCrossentropy(from_logits=True)(Y, Y_emb)\n",
    "\treturn loss"
   ]
  },
  {
   "cell_type": "markdown",
   "metadata": {
    "id": "eDxCa7ngXe8F"
   },
   "source": []
  },
  {
   "cell_type": "markdown",
   "metadata": {
    "id": "Z16i8cc3XkSR"
   },
   "source": [
    "## ACT MODEL"
   ]
  },
  {
   "cell_type": "code",
   "execution_count": null,
   "metadata": {},
   "outputs": [],
   "source": [
    "\"\"\" \n",
    "Copyright (C) 2022 King Saud University, Saudi Arabia \n",
    "SPDX-License-Identifier: Apache-2.0 \n",
    "\n",
    "Licensed under the Apache License, Version 2.0 (the \"License\"); you may not use\n",
    "this file except in compliance with the License. You may obtain a copy of the \n",
    "License at\n",
    "\n",
    "http://www.apache.org/licenses/LICENSE-2.0  \n",
    "\n",
    "Unless required by applicable law or agreed to in writing, software distributed\n",
    "under the License is distributed on an \"AS IS\" BASIS, WITHOUT WARRANTIES OR \n",
    "CONDITIONS OF ANY KIND, either express or implied. See the License for the\n",
    "specific language governing permissions and limitations under the License. \n",
    "\n",
    "Author:  Hamdi Altaheri \n",
    "\"\"\"\n",
    "\n",
    "##%%\n",
    "import math\n",
    "import tensorflow as tf\n",
    "from tensorflow.keras.layers import GlobalAveragePooling2D, GlobalMaxPooling2D, Reshape, Dense\n",
    "from tensorflow.keras.layers import multiply, Permute, Concatenate, Conv2D, Add, Activation, Lambda\n",
    "from tensorflow.keras.layers import Dropout, MultiHeadAttention, LayerNormalization, Reshape\n",
    "from tensorflow.keras import backend as K\n",
    "\n",
    "\n",
    "##%% Create and apply the attention model\n",
    "def attention_block(in_layer, attention_model, ratio=8, residual = False, apply_to_input=True): \n",
    "    in_sh = in_layer.shape # dimensions of the input tensor\n",
    "    in_len = len(in_sh) \n",
    "    expanded_axis = 2 # defualt = 2\n",
    "    \n",
    "    if attention_model == 'mha':   # Multi-head self attention layer \n",
    "        if(in_len > 3):\n",
    "            in_layer = Reshape((in_sh[1],-1))(in_layer)\n",
    "        out_layer = mha_block(in_layer)\n",
    "    elif attention_model == 'mhla':  # Multi-head local self-attention layer \n",
    "        if(in_len > 3):\n",
    "            in_layer = Reshape((in_sh[1],-1))(in_layer)\n",
    "        out_layer = mha_block(in_layer, vanilla = False)\n",
    "    elif attention_model == 'se':   # Squeeze-and-excitation layer\n",
    "        if(in_len < 4):\n",
    "            in_layer = tf.expand_dims(in_layer, axis=expanded_axis)\n",
    "        out_layer = se_block(in_layer, ratio, residual, apply_to_input)\n",
    "    elif attention_model == 'cbam': # Convolutional block attention module\n",
    "        if(in_len < 4):\n",
    "            in_layer = tf.expand_dims(in_layer, axis=expanded_axis)\n",
    "        out_layer = cbam_block(in_layer, ratio=ratio, residual = residual)\n",
    "    else:\n",
    "        raise Exception(\"'{}' is not supported attention module!\".format(attention_model))\n",
    "        \n",
    "    if (in_len == 3 and len(out_layer.shape) == 4):\n",
    "        out_layer = tf.squeeze(out_layer, expanded_axis)\n",
    "    elif (in_len == 4 and len(out_layer.shape) == 3):\n",
    "        out_layer = Reshape((in_sh[1], in_sh[2], in_sh[3]))(out_layer)\n",
    "    return out_layer\n",
    "\n",
    "\n",
    "##%% Multi-head self Attention (MHA) block\n",
    "def mha_block(input_feature, key_dim=8, num_heads=2, dropout = 0.5, vanilla = True):\n",
    "    \"\"\"Multi Head self Attention (MHA) block.     \n",
    "       \n",
    "    Here we include two types of MHA blocks: \n",
    "            The original multi-head self-attention as described in https://arxiv.org/abs/1706.03762\n",
    "            The multi-head local self attention as described in https://arxiv.org/abs/2112.13492v1\n",
    "    \"\"\"    \n",
    "    # Layer normalization\n",
    "    x = LayerNormalization(epsilon=1e-6)(input_feature)\n",
    "    \n",
    "    if vanilla:\n",
    "        # Create a multi-head attention layer as described in \n",
    "        # 'Attention Is All You Need' https://arxiv.org/abs/1706.03762\n",
    "        x = MultiHeadAttention(key_dim = key_dim, num_heads = num_heads, dropout = dropout)(x, x)\n",
    "    else:\n",
    "        # Create a multi-head local self-attention layer as described in \n",
    "        # 'Vision Transformer for Small-Size Datasets' https://arxiv.org/abs/2112.13492v1\n",
    "        \n",
    "        # Build the diagonal attention mask\n",
    "        NUM_PATCHES = input_feature.shape[1]\n",
    "        diag_attn_mask = 1 - tf.eye(NUM_PATCHES)\n",
    "        diag_attn_mask = tf.cast([diag_attn_mask], dtype=tf.int8)\n",
    "        \n",
    "        # Create a multi-head local self attention layer.\n",
    "        # x = MultiHeadAttention_LSA(key_dim = key_dim, num_heads = num_heads, dropout = dropout)(\n",
    "        #     x, x, attention_mask = diag_attn_mask)\n",
    "        x = MultiHeadAttention_LSA(key_dim = key_dim, num_heads = num_heads, dropout = dropout)(\n",
    "            x, x, attention_mask = diag_attn_mask)\n",
    "    x = Dropout(0.3)(x)\n",
    "    # Skip connection\n",
    "    mha_feature = Add()([input_feature, x])\n",
    "    \n",
    "    return mha_feature\n",
    "\n",
    "\n",
    "##%% Multi head self Attention (MHA) block: Locality Self Attention (LSA)\n",
    "class MultiHeadAttention_LSA(tf.keras.layers.MultiHeadAttention):\n",
    "    \"\"\"local multi-head self attention block\n",
    "     \n",
    "     Locality Self Attention as described in https://arxiv.org/abs/2112.13492v1\n",
    "     This implementation is taken from  https://keras.io/examples/vision/vit_small_ds/ \n",
    "    \"\"\"    \n",
    "    def __init__(self, **kwargs):\n",
    "        super().__init__(**kwargs)\n",
    "        # The trainable temperature term. The initial value is the square \n",
    "        # root of the key dimension.\n",
    "        self.tau = tf.Variable(math.sqrt(float(self._key_dim)), trainable=True)\n",
    "\n",
    "    def _compute_attention(self, query, key, value, attention_mask=None, training=None):\n",
    "        query = tf.multiply(query, 1.0 / self.tau)\n",
    "        attention_scores = tf.einsum(self._dot_product_equation, key, query)\n",
    "        attention_scores = self._masked_softmax(attention_scores, attention_mask)\n",
    "        attention_scores_dropout = self._dropout_layer(\n",
    "            attention_scores, training=training\n",
    "        )\n",
    "        attention_output = tf.einsum(\n",
    "            self._combine_equation, attention_scores_dropout, value\n",
    "        )\n",
    "        return attention_output, attention_scores\n",
    "\n",
    "\n",
    "##%% Squeeze-and-excitation block\n",
    "def se_block(input_feature, ratio=8, residual = False, apply_to_input=True):\n",
    "    \"\"\"Squeeze-and-Excitation(SE) block.\n",
    "    \n",
    "    As described in https://arxiv.org/abs/1709.01507\n",
    "    The implementation is taken from https://github.com/kobiso/CBAM-keras\n",
    "    \"\"\"\n",
    "    channel_axis = 1 if K.image_data_format() == \"channels_first\" else -1\n",
    "    channel = input_feature.shape[channel_axis]\n",
    "\n",
    "    se_feature = GlobalAveragePooling2D()(input_feature)\n",
    "    se_feature = Reshape((1, 1, channel))(se_feature)\n",
    "    assert se_feature.shape[1:] == (1,1,channel)\n",
    "    if (ratio != 0):\n",
    "        se_feature = Dense(channel // ratio,\n",
    "                           activation='relu',\n",
    "                           kernel_initializer='he_normal',\n",
    "                           use_bias=True,\n",
    "                           bias_initializer='zeros')(se_feature)\n",
    "        assert se_feature.shape[1:] == (1,1,channel//ratio)\n",
    "    se_feature = Dense(channel,\n",
    "                       activation='sigmoid',\n",
    "                       kernel_initializer='he_normal',\n",
    "                       use_bias=True,\n",
    "                       bias_initializer='zeros')(se_feature)\n",
    "    assert se_feature.shape[1:] == (1,1,channel)\n",
    "    if K.image_data_format() == 'channels_first':\n",
    "        se_feature = Permute((3, 1, 2))(se_feature)\n",
    "        \n",
    "    if(apply_to_input):\n",
    "        se_feature = multiply([input_feature, se_feature])\n",
    "    \n",
    "    # Residual Connection\n",
    "    if(residual): \n",
    "        se_feature = Add()([se_feature, input_feature])\n",
    "\n",
    "    return se_feature\n",
    "\n",
    "\n",
    "##%% Convolutional block attention module\n",
    "def cbam_block(input_feature, ratio=8, residual = False):\n",
    "    \"\"\" Convolutional Block Attention Module(CBAM) block.\n",
    "    \n",
    "    As described in https://arxiv.org/abs/1807.06521\n",
    "    The implementation is taken from https://github.com/kobiso/CBAM-keras\n",
    "    \"\"\"\n",
    "    \n",
    "    cbam_feature = channel_attention(input_feature, ratio)\n",
    "    cbam_feature = spatial_attention(cbam_feature)\n",
    "    \n",
    "    # Residual Connection\n",
    "    if(residual): \n",
    "        cbam_feature = Add()([input_feature, cbam_feature])\n",
    "\n",
    "    return cbam_feature\n",
    "\n",
    "def channel_attention(input_feature, ratio=8):\n",
    "    channel_axis = 1 if K.image_data_format() == \"channels_first\" else -1\n",
    "#     channel = input_feature._keras_shape[channel_axis]\n",
    "    channel = input_feature.shape[channel_axis]\n",
    "    \n",
    "    shared_layer_one = Dense(channel//ratio,\n",
    "                             activation='relu',\n",
    "                             kernel_initializer='he_normal',\n",
    "                             use_bias=True,\n",
    "                             bias_initializer='zeros')\n",
    "    shared_layer_two = Dense(channel,\n",
    "                             kernel_initializer='he_normal',\n",
    "                             use_bias=True,\n",
    "                             bias_initializer='zeros')\n",
    "    \n",
    "    avg_pool = GlobalAveragePooling2D()(input_feature)    \n",
    "    avg_pool = Reshape((1,1,channel))(avg_pool)\n",
    "    assert avg_pool.shape[1:] == (1,1,channel)\n",
    "    avg_pool = shared_layer_one(avg_pool)\n",
    "    assert avg_pool.shape[1:] == (1,1,channel//ratio)\n",
    "    avg_pool = shared_layer_two(avg_pool)\n",
    "    assert avg_pool.shape[1:] == (1,1,channel)\n",
    "    \n",
    "    max_pool = GlobalMaxPooling2D()(input_feature)\n",
    "    max_pool = Reshape((1,1,channel))(max_pool)\n",
    "    assert max_pool.shape[1:] == (1,1,channel)\n",
    "    max_pool = shared_layer_one(max_pool)\n",
    "    assert max_pool.shape[1:] == (1,1,channel//ratio)\n",
    "    max_pool = shared_layer_two(max_pool)\n",
    "    assert max_pool.shape[1:] == (1,1,channel)\n",
    "    \n",
    "    cbam_feature = Add()([avg_pool,max_pool])\n",
    "    cbam_feature = Activation('sigmoid')(cbam_feature)\n",
    "    \n",
    "    if K.image_data_format() == \"channels_first\":\n",
    "        cbam_feature = Permute((3, 1, 2))(cbam_feature)\n",
    "    \n",
    "    return multiply([input_feature, cbam_feature])\n",
    "\n",
    "def spatial_attention(input_feature):\n",
    "    kernel_size = 7\n",
    "    \n",
    "    if K.image_data_format() == \"channels_first\":\n",
    "        channel = input_feature.shape[1]\n",
    "        cbam_feature = Permute((2,3,1))(input_feature)\n",
    "    else:\n",
    "        channel = input_feature.shape[-1]\n",
    "        cbam_feature = input_feature\n",
    "    \n",
    "    avg_pool = Lambda(lambda x: K.mean(x, axis=3, keepdims=True))(cbam_feature)\n",
    "    assert avg_pool.shape[-1] == 1\n",
    "    max_pool = Lambda(lambda x: K.max(x, axis=3, keepdims=True))(cbam_feature)\n",
    "    assert max_pool.shape[-1] == 1\n",
    "    concat = Concatenate(axis=3)([avg_pool, max_pool])\n",
    "    assert concat.shape[-1] == 2\n",
    "    cbam_feature = Conv2D(filters = 1,\n",
    "                    kernel_size=kernel_size,\n",
    "                    strides=1,\n",
    "                    padding='same',\n",
    "                    activation='sigmoid',\n",
    "                    kernel_initializer='he_normal',\n",
    "                    use_bias=False)(concat)    \n",
    "    assert cbam_feature.shape[-1] == 1\n",
    "    \n",
    "    if K.image_data_format() == \"channels_first\":\n",
    "        cbam_feature = Permute((3, 1, 2))(cbam_feature)\n",
    "        \n",
    "    return multiply([input_feature, cbam_feature])\n",
    "        \n",
    "    "
   ]
  },
  {
   "cell_type": "code",
   "execution_count": null,
   "metadata": {
    "id": "Cs33iSHmbral"
   },
   "outputs": [],
   "source": [
    "import tensorflow as tf\n",
    "from tensorflow.keras.models import Model\n",
    "from tensorflow.keras.layers import Input, Permute, Conv2D, DepthwiseConv2D, BatchNormalization, Activation, AveragePooling2D, Dropout, Lambda, Dense, Concatenate\n",
    "from tensorflow.keras.regularizers import L2\n",
    "from tensorflow.keras.constraints import max_norm\n",
    "\n",
    "# from attention_models import attention_block  # Assuming attention_block is defined in another module\n",
    "\n",
    "class ATCNet(Model):\n",
    "    def __init__(self, n_classes=6, in_chans=64, in_samples=4096, n_windows=5, attention='mha',\n",
    "                 eegn_F1=16, eegn_D=2, eegn_kernelSize=256, eegn_poolSize=7, eegn_dropout=0.5,\n",
    "                 tcn_depth=2, tcn_kernelSize=4, tcn_filters=32, tcn_dropout=0.3,\n",
    "                 tcn_activation='elu', fuse='average', dense_weightDecay=0.5, conv_weightDecay=0.009, \n",
    "                 conv_maxNorm=0.6, from_logits=False):\n",
    "        super(ATCNet, self).__init__()\n",
    "        self.n_classes = n_classes\n",
    "        self.n_windows = n_windows\n",
    "        self.attention = attention\n",
    "        self.fuse = fuse\n",
    "        self.from_logits = from_logits\n",
    "        \n",
    "        # Convolutional block parameters\n",
    "        self.eegn_F1 = eegn_F1\n",
    "        self.eegn_D = eegn_D\n",
    "        self.eegn_kernelSize = eegn_kernelSize\n",
    "        self.eegn_poolSize = eegn_poolSize\n",
    "        self.eegn_dropout = eegn_dropout\n",
    "        self.conv_weightDecay = conv_weightDecay\n",
    "        self.conv_maxNorm = conv_maxNorm\n",
    "        \n",
    "        # Temporal convolutional block parameters\n",
    "        self.tcn_depth = tcn_depth\n",
    "        self.tcn_kernelSize = tcn_kernelSize\n",
    "        self.tcn_filters = tcn_filters\n",
    "        self.tcn_dropout = tcn_dropout\n",
    "        self.tcn_activation = tcn_activation\n",
    "        \n",
    "        # Dense layer regularization\n",
    "        self.dense_weightDecay = dense_weightDecay\n",
    "        \n",
    "        # Input layers\n",
    "        self.input_1 = Input(shape=(1, in_chans, in_samples))\n",
    "        self.input_2 = Permute((3, 2, 1))(self.input_1)\n",
    "        \n",
    "        # Layers\n",
    "        self.block1 = self.build_conv_block()\n",
    "        \n",
    "    def build_conv_block(self):\n",
    "        F2 = self.eegn_F1 * self.eegn_D\n",
    "        block1 = Conv2D(self.eegn_F1, (self.eegn_kernelSize, 1), padding='same', data_format='channels_last',\n",
    "                        kernel_regularizer=L2(self.conv_weightDecay),\n",
    "                        kernel_constraint=max_norm(self.conv_maxNorm, axis=[0, 1, 2]),\n",
    "                        use_bias=False)(self.input_2)\n",
    "        block1 = BatchNormalization(axis=-1)(block1)\n",
    "        \n",
    "        block2 = DepthwiseConv2D((1, 64), depth_multiplier=self.eegn_D, data_format='channels_last',\n",
    "                                 depthwise_regularizer=L2(self.conv_weightDecay),\n",
    "                                 depthwise_constraint=max_norm(self.conv_maxNorm, axis=[0, 1, 2]),\n",
    "                                 use_bias=False)(block1)\n",
    "        block2 = BatchNormalization(axis=-1)(block2)\n",
    "        block2 = Activation('elu')(block2)\n",
    "        block2 = AveragePooling2D((8, 1), data_format='channels_last')(block2)\n",
    "        block2 = Dropout(self.eegn_dropout)(block2)\n",
    "        \n",
    "        block3 = Conv2D(F2, (16, 1), data_format='channels_last', use_bias=False, padding='same',\n",
    "                        kernel_regularizer=L2(self.conv_weightDecay),\n",
    "                        kernel_constraint=max_norm(self.conv_maxNorm, axis=[0, 1, 2]))(block2)\n",
    "        block3 = BatchNormalization(axis=-1)(block3)\n",
    "        block3 = Activation('elu')(block3)\n",
    "        block3 = AveragePooling2D((self.eegn_poolSize, 1), data_format='channels_last')(block3)\n",
    "        block3 = Dropout(self.eegn_dropout)(block3)\n",
    "        \n",
    "        return Lambda(lambda x: x[:, :, -1, :])(block3)\n",
    "    \n",
    "    def call(self, inputs):\n",
    "        block1_output = self.block1(inputs)\n",
    "        \n",
    "        sw_concat = []\n",
    "        for i in range(self.n_windows):\n",
    "            st = i\n",
    "            end = block1_output.shape[1] - self.n_windows + i + 1\n",
    "            block2 = block1_output[:, st:end, :]\n",
    "            \n",
    "            if self.attention is not None:\n",
    "                if self.attention in ['se', 'cbam']:\n",
    "                    block2 = Permute((2, 1))(block2)\n",
    "                    block2 = attention_block(block2, self.attention)\n",
    "                    block2 = Permute((2, 1))(block2)\n",
    "                else:\n",
    "                    block2 = attention_block(block2, self.attention)\n",
    "            \n",
    "            block3 = self.build_tcn_block(block2)\n",
    "            block3 = Lambda(lambda x: x[:, -1, :])(block3)\n",
    "            \n",
    "            if self.fuse == 'average':\n",
    "                sw_concat.append(Dense(self.n_classes, kernel_regularizer=L2(self.dense_weightDecay))(block3))\n",
    "            elif self.fuse == 'concat':\n",
    "                if i == 0:\n",
    "                    sw_concat = block3\n",
    "                else:\n",
    "                    sw_concat = Concatenate()([sw_concat, block3])\n",
    "        \n",
    "        if self.fuse == 'average':\n",
    "            if len(sw_concat) > 1:\n",
    "                sw_concat = tf.keras.layers.Average()(sw_concat[:])\n",
    "            else:\n",
    "                sw_concat = sw_concat[0]\n",
    "        elif self.fuse == 'concat':\n",
    "            sw_concat = Dense(self.n_classes, kernel_regularizer=L2(self.dense_weightDecay))(sw_concat)\n",
    "        \n",
    "        if self.from_logits:\n",
    "            out = Activation('linear', name='linear')(sw_concat)\n",
    "        else:\n",
    "            out = Activation('softmax', name='softmax')(sw_concat)\n",
    "        \n",
    "        return out\n",
    "    \n",
    "    def build_tcn_block(self, input_layer):\n",
    "        block = Conv1D(self.tcn_filters, kernel_size=self.tcn_kernelSize, dilation_rate=1, activation='linear',\n",
    "                       kernel_regularizer=L2(self.conv_weightDecay),\n",
    "                       kernel_constraint=max_norm(self.conv_maxNorm, axis=[0, 1]),\n",
    "                       padding='causal', kernel_initializer='he_uniform')(input_layer)\n",
    "        block = BatchNormalization()(block)\n",
    "        block = Activation(self.tcn_activation)(block)\n",
    "        block = Dropout(self.tcn_dropout)(block)\n",
    "        \n",
    "        for i in range(self.tcn_depth - 1):\n",
    "            block = Conv1D(self.tcn_filters, kernel_size=self.tcn_kernelSize, dilation_rate=2**(i+1), activation='linear',\n",
    "                           kernel_regularizer=L2(self.conv_weightDecay),\n",
    "                           kernel_constraint=max_norm(self.conv_maxNorm, axis=[0, 1]),\n",
    "                           padding='causal', kernel_initializer='he_uniform')(block)\n",
    "            block = BatchNormalization()(block)\n",
    "            block = Activation(self.tcn_activation)(block)\n",
    "            block = Dropout(self.tcn_dropout)(block)\n",
    "        \n",
    "        return block\n",
    "\n",
    "# Usage example:\n",
    "# model = ATCNet()\n",
    "# model.build(input_shape=(None, 1, 64, 4096))\n",
    "# model.summary()\n"
   ]
  },
  {
   "cell_type": "code",
   "execution_count": null,
   "metadata": {},
   "outputs": [],
   "source": [
    "\"\"\"Initialize the Model\"\"\"\n",
    "model_02 = ATCNet(\n",
    "      n_classes=6,\n",
    "      in_chans=64, \n",
    "      in_samples=4096, \n",
    "      n_windows=5, \n",
    "      attention='mha',\n",
    "      eegn_F1=16, \n",
    "      eegn_D=2, \n",
    "      eegn_kernelSize=256, \n",
    "      eegn_poolSize=7, \n",
    "      eegn_dropout=0.5,\n",
    "      tcn_depth=2, \n",
    "      tcn_kernelSize=4, \n",
    "      tcn_filters=32, \n",
    "      tcn_dropout=0.3,\n",
    "      tcn_activation='elu', \n",
    "      fuse='average', \n",
    "      dense_weightDecay=0.5, \n",
    "      conv_weightDecay=0.009, \n",
    "      conv_maxNorm=0.6, \n",
    "      from_logits=False)\n",
    "\n",
    "\"\"\"Set up dataset\"\"\"\n"
   ]
  },
  {
   "cell_type": "code",
   "execution_count": null,
   "metadata": {},
   "outputs": [],
   "source": []
  },
  {
   "cell_type": "markdown",
   "metadata": {},
   "source": [
    "## Cross Validation"
   ]
  },
  {
   "cell_type": "markdown",
   "metadata": {},
   "source": [
    "from sklearn.model_selection import cross_val_score\n",
    "from sklearn import metrics\n"
   ]
  }
 ],
 "metadata": {
  "accelerator": "GPU",
  "colab": {
   "collapsed_sections": [
    "5q27pW835YF8"
   ],
   "gpuType": "T4",
   "provenance": []
  },
  "kernelspec": {
   "display_name": "Python 3",
   "name": "python3"
  },
  "language_info": {
   "codemirror_mode": {
    "name": "ipython",
    "version": 3
   },
   "file_extension": ".py",
   "mimetype": "text/x-python",
   "name": "python",
   "nbconvert_exporter": "python",
   "pygments_lexer": "ipython3",
   "version": "3.10.12"
  }
 },
 "nbformat": 4,
 "nbformat_minor": 0
}
