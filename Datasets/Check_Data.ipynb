{
 "cells": [
  {
   "cell_type": "code",
   "execution_count": 7,
   "metadata": {},
   "outputs": [
    {
     "name": "stdout",
     "output_type": "stream",
     "text": [
      "(461, 64, 7196)\n",
      "Number of NaN values in the array: 0\n"
     ]
    }
   ],
   "source": [
    "\"Check data\"\n",
    "import numpy as np \n",
    "\n",
    "data = np.load(\"C:\\\\Users\\\\msi\\\\Desktop\\\\Constanze\\\\Docs\\\\DATA\\\\PREPROCESSED\\\\S01\\\\data.npy\")\n",
    "print(data.shape)\n",
    "nan_count = np.isnan(data).sum()\n",
    "\n",
    "# Print the result\n",
    "print(f\"Number of NaN values in the array: {nan_count}\")"
   ]
  }
 ],
 "metadata": {
  "kernelspec": {
   "display_name": "Python (base)",
   "language": "python",
   "name": "base"
  },
  "language_info": {
   "codemirror_mode": {
    "name": "ipython",
    "version": 3
   },
   "file_extension": ".py",
   "mimetype": "text/x-python",
   "name": "python",
   "nbconvert_exporter": "python",
   "pygments_lexer": "ipython3",
   "version": "3.12.7"
  }
 },
 "nbformat": 4,
 "nbformat_minor": 2
}
